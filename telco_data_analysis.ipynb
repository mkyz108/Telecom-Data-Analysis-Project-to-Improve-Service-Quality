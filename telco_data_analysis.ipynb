{
 "cells": [
  {
   "cell_type": "markdown",
   "metadata": {
    "id": "P04mLBaOddaa"
   },
   "source": [
    "# **Telecom Data Analysis Project to Improve Service Quality**"
   ]
  },
  {
   "cell_type": "markdown",
   "metadata": {
    "id": "3PJnodFyLHh5"
   },
   "source": [
    "# **Business Overview**\n",
    "\n",
    "The telecommunications industry is a rapidly growing sector that is constantly evolving to meet the demands of consumers. As technology advances and user behavior changes, telecom operators face a variety of challenges that can impact their business success. In order to stay competitive and meet customer needs, it is important for telecom companies to regularly analyze their data to identify relevant problems and opportunities for improvement.\n",
    "\n",
    "The aim of this project is to explore the telecom data and find relevant problems faced by telecom operators. By conducting an exploratory data analysis (EDA) on a large volume of telecom data, we can gain valuable insights into user behavior, network performance, customer demographics, and more. Through this analysis, we hope to identify potential areas for improvement, such as  improving customer satisfaction, optimizing network performance and increasing revenue through targeted marketing efforts.\n",
    "\n",
    "The insights gained from this project can help telecom operators make informed decisions about their business strategy, enabling them to better meet the needs of their customers and stay competitive in the market. \n",
    "\n",
    "\n",
    "![image.png](https://images.pexels.com/photos/189524/pexels-photo-189524.jpeg?auto=compress&cs=tinysrgb&w=1260&h=750&dpr=1)"
   ]
  },
  {
   "cell_type": "markdown",
   "metadata": {
    "id": "5CGnXM19H_pu"
   },
   "source": [
    "## **Approach**\n",
    "\n",
    "* Univariate Data Analysis:\n",
    "    * Create histograms to visualize the distribution of the variables related to the hypotheses.\n",
    "    * Use countplots to compare the frequencies of different categorical variables with respect to the hypotheses.\n",
    "    * Create box plots to visualize the median, quartiles, and outliers of the continuous variables with respect to the hypotheses.\n",
    "\n",
    "\n",
    "* Bivariate Data Analysis:\n",
    "    * Create scatter plots to investigate the relationship between two continuous variables related to the hypotheses.\n",
    "    * Create box plots to compare the distributions of the continuous variables with respect to the categorical variables related to the hypotheses.\n",
    "    * Chi-Square Test and ANOVA:\n",
    "        * Perform the chi-square test to evaluate the relationship between two categorical variables related to the hypotheses.\n",
    "        * Use ANOVA to evaluate the difference in means between two or more groups related to the hypotheses.\n",
    "\n",
    "* Multivariate Data Analysis:\n",
    "    * Use correlation analysis to investigate the strength and direction of the relationship between multiple continuous variables related to the hypotheses.\n",
    "\n",
    "\n",
    "* Project Summary:\n",
    "    * Analyze the results obtained from the above tests to draw conclusions about the hypotheses.\n",
    "    * Provide recommendations to improve customer satisfaction and retention based on the findings.\n",
    "\n",
    "\n",
    "\n"
   ]
  },
  {
   "cell_type": "markdown",
   "metadata": {
    "id": "RGFS1gw3ddag"
   },
   "source": [
    "## **Learning Outcomes**\n",
    "\n",
    "\n",
    "* Apply univariate data analysis techniques such as histograms, countplots, and box plots to visualize and explore the distribution of variables related to the hypotheses.\n",
    "\n",
    "* Use bivariate data analysis techniques such as scatter plots and box plots to investigate the relationship between two continuous variables or compare the distribution of continuous variables with respect to categorical variables related to the hypotheses.\n",
    "\n",
    "* Perform statistical tests such as chi-square and ANOVA to evaluate the relationship between two categorical variables or differences in means between groups related to the hypotheses.\n",
    "\n",
    "* Apply multivariate data analysis techniques such as correlation analysis to investigate the strength and direction of the relationship between multiple continuous variables related to the hypotheses.\n",
    "\n",
    "* Draw conclusions and provide recommendations based on the findings of the analysis to improve customer satisfaction and retention.\n",
    "\n",
    "* Understand the importance of data analysis in making informed business decisions and its applications in the telecommunications industry.\n",
    "\n",
    "* Develop critical thinking and problem-solving skills by analyzing complex data sets and identifying patterns and trends to support business decision-making.\n",
    "\n",
    "* Improve data visualization skills by creating effective visual representations of data using different techniques and tools.\n",
    "\n",
    "* Enhance your statistical analysis skills by applying statistical tests and techniques to evaluate hypotheses and draw conclusions based on the results."
   ]
  },
  {
   "cell_type": "markdown",
   "metadata": {
    "id": "t2LWw4kmddah"
   },
   "source": [
    "## **Prerequisites**\n",
    "\n",
    "* Familiarity with Python programming language\n",
    "\n",
    "* Familiarity with Pandas, sklearn, numpy libraries in Python, along with concepts like loops, lists, arrays and dataframe.\n",
    "\n",
    "* You should have a fundamental understanding of data analysis techniques and their applications in solving business problems. This includes descriptive statistics, data visualization, and statistical inference."
   ]
  },
  {
   "cell_type": "markdown",
   "metadata": {
    "id": "dmU65sOCkOgF"
   },
   "source": [
    "## **Execution Instructions**"
   ]
  },
  {
   "cell_type": "markdown",
   "metadata": {
    "id": "PGl9BfRHjllS"
   },
   "source": [
    "<details>\n",
    "    <summary>Click here to view more</summary>\n",
    "\n",
    "\n",
    "### **Installation and Setup for IPYNB**\n",
    "\n",
    "For the best experience, please stay connected to the internet while executing this Project\n",
    "\n",
    "#### **Running an IPYNB on Google Colab**:\n",
    "\n",
    "* Open the [Google Colab website](https://colab.research.google.com/).\n",
    "* Click on the \"New Notebook\" button.\n",
    "* Click the \"File\" menu in the new notebook and choose \"Upload notebook.\"\n",
    "* Select the IPYNB file(notebooks/telco_data_analysis.ipynb) you want to upload.\n",
    "* Once the file is uploaded, click on the \"Runtime\" menu and choose \"Run all\" to execute all the cells in the notebook.\n",
    "* Alternatively, you can execute each cell individually by clicking the \"Play\" button next to the cell OR by pressing `\"shift” + \"enter\"`.\n",
    "* The Default version of Python that Colab uses currently is 3.8\n",
    "\n",
    "#### **Python setup steps for Local Machine**:\n",
    "* If you're using a local machine and do not have Python installed, follow these steps to set up Python:\n",
    "* Download and install the latest version of Python from the official Python website: https://www.python.org/downloads/.\n",
    "* Once the installation is complete, open a command prompt/terminal and type the following command to check if Python is installed `python –-version`\n",
    "* If Python is installed, the version number will be displayed.\n",
    "* This Project has been created using **Python version 3.8.10**\n",
    "\n",
    "#### **Setting up a Python Virtual Environment on Windows**\n",
    "\n",
    "* Open a command prompt by pressing `Windows Key + R`, type `cmd`, and press `Enter`.\n",
    "* Navigate to the directory where you want to create the virtual environment.\n",
    "* Install virtualenv by running the command in the command prompt `pip install virtualenv`\n",
    "* Create a new virtual environment by running the command `virtualenv env`\n",
    "* This will create a new directory called `env`, containing the virtual environment.\n",
    "* Activate the virtual environment by running the command `env\\Scripts\\activate`\n",
    "* You can now install packages and work on your project within this virtual environment.\n",
    "* To deactivate the virtual environment, simply run the command `deactivate`\n",
    "\n",
    "#### **Setting up a Python Virtual Environment on Mac**\n",
    "\n",
    "* Open the Terminal by pressing `Command + Spacebar`, type `Terminal`, and press `Enter`.\n",
    "* Navigate to the directory where you want to create the virtual environment.\n",
    "* Install virtualenv by running the following command in the terminal `pip install virtualenv`\n",
    "* Create a new virtual environment by running the following command `virtualenv env`\n",
    "* This will create a new directory called `env`, containing the virtual environment.\n",
    "* Activate the virtual environment by running the following command `source env/bin/activate`\n",
    "* You can now install packages and work on your project within this virtual environment.\n",
    "* To deactivate the virtual environment, simply run the following command `deactivate`\n",
    "\n",
    "#### **Setting up a Python Virtual Environment on Linux**\n",
    "\n",
    "* Open the Terminal by pressing `Ctrl + Alt + T`.\n",
    "* Navigate to the directory where you want to create the virtual environment.\n",
    "* Install `virtualenv` by running the following command in the terminal `sudo apt-get install python3-virtualenv`\n",
    "* Create a new virtual environment by running the following command `virtualenv -p python3 env`\n",
    "* This will create a new directory called `env`, containing the virtual environment.\n",
    "* Activate the virtual environment by running the following command `source env/bin/activate`\n",
    "* You can now install packages and work on your project within this virtual environment.\n",
    "* To deactivate the virtual environment, simply run the following command `deactivate`\n",
    "\n",
    "#### **Installing Jupyter with pip**\n",
    "If pip is installed on your local machine, you can install Jupyter. \n",
    "\n",
    "Here are the steps:\n",
    "* Open the command prompt (Windows) or terminal (Mac/Linux).\n",
    "* Install Jupyter with pip by running the following command `pip install jupyter`\n",
    "* Launch Jupyter Notebook by running the following command `jupyter notebook`\n",
    "\n",
    "#### **Installing Jupyter with Conda**\n",
    "\n",
    "* Download and install Anaconda from the official website: https://www.anaconda.com/products/individual.\n",
    "* Open the Anaconda Navigator App and launch Jupyter Notebook \n",
    "* Running IPYNB in Jupyter Notebook\n",
    "* Open Terminal / Command Prompt and Navigate to the notebooks directory using cd\n",
    "* Launch Jupyter Notebook by running the following command jupyter notebook\n",
    "* This will open a browser window displaying the Jupyter interface.\n",
    "* Click on the IPYNB file you want to open.\n",
    "* To execute all the cells in the notebook, click on the \"Cell\" menu and choose \"Run all\".\n",
    "* Alternatively, you can execute each cell individually by clicking on the \"Play\" button next to the cell.\n",
    "\n",
    "\n",
    "\n",
    "# Executing the project via Modular Code\n",
    "1. Install the dependencies using the command, navigate to the **Telecom Data Analysis Project to Improve Service Quality** directory where the requirements.txt file exists, and run ***pip install -r requirements.txt*** in the terminal/CMD.\n",
    "2. Run the jupyter notebook \"telco_data_analysis.ipynb\" present in the notebooks folder.\n",
    "\n",
    "3. Note: As this is an exploratory data analysis project, the analysis work is primarily done in the Jupyter notebook. Therefore, we have not created separate modular source codes for this project. Please use the project structure to run the codes in the Jupyter notebook accordingly.\n",
    "    \n",
    "\n",
    "![eda_project_structure.png](data:image/png;base64,iVBORw0KGgoAAAANSUhEUgAABRAAAAFqCAYAAABianYwAAAAAXNSR0IArs4c6QAAAARnQU1BAACxjwv8YQUAAAAJcEhZcwAAEnQAABJ0Ad5mH3gAAE+/SURBVHhe7d09T+PKHwDq+d+GLxJptUKiSbefAGmPxHZ0K9HR0awoKbZE29DRIW1Ht0hnJT4BXZqVEFop9b23v/cWqc712M6LE5uMg0MCeR7J5yzB+GU8M/b8MjP+3//3//4//wUA2Kj5W9H/yv+navv3y9Zv+3vgtbQtjS9df96y2mGZl/79gpeeEC/z37ILAM/435ICuix/tf37rvfXdf5vu/2uz3/XzCfvKyfPa+9+2f7aHs/8+rvgf//3//V/7uJ5A7BVXvoI8dJbfttHCLdOYEssq47aVqe003UAhd3SdUBvXtsAWtv9dZ3/226/6/PfNfPJK3lY4n+j0ajjUg8AAAAAvBf/R/l/AAAAAIAFAogAAAAAQCMBRAAAAACgkQAiAAAAANBIABEAAAAAaCSACAAAAAA0EkAEAAAAABoJIAIAAAAAjQQQAQAAAIBGAogAAAAAQCMBRAAAAACgkQAiAAAAANBIABEAAAAAaCSACAAAAAA0EkAEAAAAABoJIAIAAAAAjQQQAQAAAIBGAogAAAAAQCMBRAAAAACgUecBxPvTvbB3el/+BAAAAAC8ZXogAgAAAACNBBABAAAAgEYCiAAAAABAox0OIN6H07298OlqWP4MAAAAAMzTA3FlApAAAAAAvH8CiAAAAABAIwFEAAAAAKDRDgUQh+Hq017Y2xsvR+Gm/E3F8Cp8mqxTLKf35e8yw6tPlb8fnO9X1l0Y0rxkewAAAACwzXYjgJgH8fbD7fFjGI1G5XIXTspfT92H068h/JysMwqPl/1wc/QpjOOCvbOHyt/3L2e3OQoPZ71ixdzy7QEAAADANtuJAOL9j/Mw6F+Gn5XgXp3DcP1wFmbX6p1dhJMwCLe/V4n4db09AAAAAHhd6wkg3hxVhuzu7f0T/qn83LSkrnca0kcB34dfNyH0jz9XAnkAAAAAwHLrCSCe3FWG9Y5G/4Z/Kz83LanrXYfDclddm85xOF4a5kpM1PX2AAAAAOA17dBLVJaLwb7980E4uZsNVtbNlZim6+0BAAAAwGvbgQBiL3zshzB4qs45OLz6PtcTcBh+3w7iW1HCt6TujfXbnWq7PQAAAADYPjsRQPx83A/h5vvkzcd5z8Dbg3CSfTzVCx8Osv8NbsPk/Sb525ubhhyX689st6rt9gAAAABg++zEEObe2UO4OxmE8/1iHsL9p4swevgWPpa/Hzu8fgyX/el6e/u34fgxflauMGdh/Wz5NBNNbLs9AAAAANg2/xuNRv+V/+7E/eleOAp3YXRt3C4AAAAAvHVeogIAAAAANBJABAAAAAAaCSACAAAAAI0EEAEAAACARjsXQIwvedk7vS9/AgAAAACeowciAAAAANBIABEAAAAAaCSACAAAAAA0EkDknboPp3t74dPVsPyZbTO8+hT29k6zK7VJRT7Zm1kWpkgdXoVP+e9e6Vgn+yuXT1eh+1ysfGyHhPz3Lr0g/7UtH69dfgEA4J0SQAR2VAxiHIWbk7swGo0my/Vh+etN6Z2Fh/JY7k7Kz7bOewlAbvI8tjT/bbs3UT4AAOD9EUAEujPfO2hh+RS2JuZ0/yvchH64/LYkYjMJWFwHsR06k5r/eBnlFwAAOiGACDtk7cOGZ3oHjUaP4bKffda/DI+Tzx7CWa9YddOGf/9k/z0IH7bkeNgt8h8AAPCWCCBugTyok8/jVAynG/fWWhhWl/fuKnpwFYGg53p1VbcVl8a5te5PK+vt1a44DFefZtZp7Ek2v9+Xrpe63/n1jsJN+RsK96d7Yf98EPqX37asJ0712tUPJ03NBx1KnGutqfzWlqOaHpqvM+ddYvlYcnzTeqf4+8H5fmXd+jpr+vu4vOx8u6k3Wp9H8n67Nr/fmvRrdV9YYrKt6X7j/ibbXSgDCceXS62fOyzn83lvTeW3WF4rPwAAwOYIIG6LwXnYzxpV4a7sqfV4GULWqF1swwyyj/fC/tPFTC+v7LOvM42jvJFzFP5cPpbrjMLjZT/cHC027vLG09FNOBnvNy5ffs2tFxtW++H8YDpXV3F489uL62UNw8qcXhfhafbYcm3WS9hvfr774fZ4er6j0V0wPdZY0SjPLnN+nR+2pQtg7iYcZdfu6aK8bncneTBntfyXYCZYHoOpxf5nAgGzQYY2c63Nl9/4BzdHi+fxNYSf5TaL84jlcs3Bh+Tysfz4emcPlb/vz9Qxcanmra7PN+aDbuqN1ueRtN8EbfJfi3o86b7Qwu3X7+HjY9GDOO4v326WiP0sn/8Y7zv1+Nrkv67KedR1+Y3nsX8ewuR8yx7WcRj64/b0rAYAgHURQNwiMbgzmUA/a/xcxDbM95oGYGzITlcMn4+zVszgqVxvGK6+nodBts5sIzg2mPM20ez2sgbR17xH2mN14v7D68rPw6vvWTP3JNzNfNg7+1k0Ln/NtLCGf0MclHfypbKxcP1wlh3ljMT1Uvd7/yM73/5l+KkFV6NslA9iI3c7X9BQyfeHX/LAwp+/01yfnP9SZHl7GpyIrf9su+XP+TKfV1tYdh51ebx3dpGtNwi3vxdKeWfSy0fXx9fx9jquN5Kl1mspkvNfi3p87Nn7QhuDMDi4CGe9XvhwEH+um6cx/fhS81/n162lpfXQ79ssZU7CxeQ8euHs52WWOoPwtEJ2BgCAt2Y3A4g3R9MeH/nyT/in8nPTkrreKnPMnYRK+zTT+1jfAKw2ZItG22SC+OHvcDvImnwfFxtrh1+yJtHgNozb7osNojrD8Dtu8ORLsf2JsnH55+/0+HofQvyovofMjKT1Uvd7H37dZOd7/LlseDNR9hC6yecg3NYeMov5PhpMWuQt8t9GLTuPTXlH5aPTeqOF1HqtSy3q8bFn7wstVbbVPw6f5w8j+fhS89+my/m2ll8AANgeuxlAjD01Znt9jP4N/1Z+blpS19v82x4PEmbmHz5lDbalhiFfbSHoWgyJrQY4D8N1OawrNraL9eqGK6as12a/1Ml7/sR/JKRVnB9xPp3r5yJ8be8rH1TnqIvLUYinsS26Pr5ut7epeiO1XuteSj2+Sd0d3/aX897n49DPcu/3yYUve2E2BB8BAOC9MYR5i+UBvv7HlXoOVYdOFoq3fk7lPRyX6oV8tYWga1OwtBfOHsa/i/NcFXNzLfbcWbZe2/0y7/A6plNM2zjP2vMBj2Ld6lKdB25T3k8+iMG0OO9dHCo5Pf66ueA2o+vjW8/5bqreSK3XupVSj29Sd8f3Bsr58Cm76mHmhTv74TzE3t3uRQAA7AYBxK01DHk77OBD1rRqofc5FFNf1TTs8oDkdDhaLx8bdhOen17qJUPIYs+dImBQ19Ccqlsvdb9Fw3P+fIv5tJj2nnqdgEf3tm2o8qrKIZr9y7AwndxapZaPtsdXv92p1zjfl9QbY8vOo05qvfYCLerxjUg+vtT8t+3lfBiuvmdHPB/gXGUeTAAAeKMEELfU/Wl88UV1Qvk0vXCWv33lqDIENfYGOrrph8ufMw2ew2/lsLy53mn3p5VA0+G34u2b+8uiT9nfzQ97LRqK/XA829pNXC9tv+XLAm6+T84h7/l0exBOso+Jit5TxYtFt2Vocrrk/LfVygDJ7Nx14zkqyx/XI7V8tD2+cv2Z7Vat4Xw7rTfGlp1HJrVe61SLenwjUo8vvX7e7nI+zie/VpjfGAAA3gcBxK0Rh5nOzPv05wVDo+KbPu9OZoZa7YX984Nwt/AijXFgqeidNl5379eX6tt6e2fhIfa4qZmfqtKwzvb7M3yt/H7/PITLx7n9pq6XuN/izZ/Tc9h/ugijh2/hY/l7CnGYcnzz6+D8x9tqBKfmv47FQMd4P8U8bOdh/wX7Pbye9gTNt7t/G44fi7n1ZnW939TykXp8Ywvrzx1f2+0t1XG9MbbsPJL327XkenxDEo8vuX5OvG6p5aP78psd29x9ery86e82AAAg0f9Go9F/5b87EV/GcBTuwqh1z7nXsY3Hl/fIyBte5lICgO1yH05j79n4Rvu5Ycv5M0XsdbnugDIAAGyYHogAAE2Gf0Ockrh//LkSPIyKl5ENQqtpNAEA4A0SQAQAaNL7EIopPX/PveTlPvw438TLkQAA4PUJIAIANCrfZh+m8ygWy1G4iW9m9jZmAAB2gADiFoiTzI/MfwgAW6p46dhoNLds6XzPAADQNQFEAAAAAKCRACIAAAAA0EgAEQAAAABoJIAIAAAAADQSQAQ2Ynj1KeztnYb78uc3b3gVPuVvZu3onLre3jKT/ZXLp6swLH/1Kl77fDckOd9v+npU3IfT7Bg+XW3uCLrxXs4DAABenwAiAPF18OGhfLPs3Un5GaUNBJ7e1fUQuAMAgLdOABHoznyvqYXlU3i3MYRJwOc6HJYfvUjX29t2u3a+AAAAb4gAIuyQtQ8bnuk1NRo9hst+9ln/MjxOPnsIZ71iVQAAAOBtEEDcBnmvraJnVhHgeaa3Vk0Pr9OZaND9afZZ41xZhpHtspg39s8HoX/5bct6eA3D1adpfq7Pn9V1Xt6TsSgL0+1Vy1EutVy2mauusYfmzDYTt5cfU/67uXNZOJHMknpjo1LON18nptH0XOPxT67L+G9S18tXjZ/NB9PLvysTZ3rdj8JN9vPgfL/8uVgW8mqrdJ7L0y+6IF2Xj/ntFee/YMn5rjf9Uiw/j5R8UBxXi3xVUy7ddwEAeOsEELfGIJzv74X9p4uZ3lvZZ19nG9NZg+RrCD8nvblG4fGyH26Opo3F3sd+tqmnmb+BohF9lLWcT+5G4WGrugDehKO9/fB0Uebpu5M8yFANGsSG+H44P7ibyfchLy8rBRfyYMBR+HP5OFeO6raXUC5T56qL+90/D2Gy37KHZuhnH830zEzdXjQ4D/vZuYTsuubbjH9wc7SYfkvqjY1qcb63X7+Hj49FusXrlV+XLDP0s3T4MXPOqest0zt7KNPsLsRD68/kmbhUy1KbdJ7L9/HYsuu2WpBpHeVjP9wez55rcf5VCfejtaVfguTzSJecr+bLZXFBVrseAACwJQQQt8lJ1gC8HvcN64XPx/PBwMNw/XCW/Waqd3aRNYgG4fZ3sVbvw0H23z/hb/lHeY/Ecatl+Df7TQgHH7YpgMR6lcGFQQxSjcIke22RGNScHNfhl7yB/2ecgTPDq+/hJvv0bubge2c/i0b8r7Yt8mG4+noeBllZmw1exEBHHnv7PhuwLy0tl2mGv2+zknoSLqaRwnD28zL0s0+f2m5sxrL0S6k33oZBGBxchLNeL+TVXAy8fqvL0Knrda1dOleuW+8sXGQXbnD7u32+6rR8ZDXGj6x89C/Dz0pwr07X+arb7aWfR6p2+aru+tbWLwAA8EbsZgDx5mgyrKhY/gn/VH5uWlLXW22OuZMv1cZI0Xuj5QsFeh+zZs3YffgVx2vd/Jo5nn742FV7iu1W9rS7yecg3Na5B0/CXLbPDSYRtWH4fTuIhWOuHJSN+D9/2zXIh79D3Fy/phAcfskjOGE+VtFJuVybZen3vlSuRf84fG7I06nrbc7idVut93jH5aO8Z/SPP1cCeW/Pes4jPV91dX0BAGB77FwA8fB6PJRpdvk3/LvwWd2Sut76ggvTOaXGy9ycTr0P4SCUPZruf4Wbk8tw2b8JeUeU4VP2m4OgA+JuyHvgxH8kNFrznqqVfLUtc3YNw1M8iYWgfzEke9UG+SZ64fY+H4d+Vlq/T9K17A3ZEATs0tJ6g068fjqvp3yk6vp85VMAANhehjC/IbFxFV+CEYdGTYOV83M69ULs6BCHMA7//gn9j5/zIZdxKFv8OfvgjfcsIVURLI/5I8639vw8YnWB9e2YK7HIz/kw4rnjK5bVgvXVIb6FvHysUx7ADzMvktgP5yH2Dl1vb8a0eoOX2kw6r6d8pOj6fN97Ph3GSK/7LwAAb5gA4ptRDlXrX4bnp/Mqhq4Nnn5n64dw/LlX9HwaD2U7+KABs1MOw/X4xR+rvlRho1Yditmg9zkUUxjWBBDzBv66hrsOw9X3m8VAz9ycb91LrTdWEefXjIHQ1aZs2ErlPLGLikBd89Dwl6Zz01DkZTouHw3nWcyzOKvt+a47/ealnkeDxnywqmHIv59w/wUA4A0TQHwzyobi7Bxt4znuyh/H8rmWbs7DeSiDIXFY8+A8HJ1nDTR2UC+cPRRvuI1vDt2OocnpDr8Vbznd7yT6maVF/jaD6htvY++no5t+uPy5roBeWX4r85G+hvR6o7U4RUL+j9lh2W/HeEj55D0jMV32y2H/C8bX73tDT96XpfPw6mvxoqMVomddl4/8JUEz55n3DLw9CCfZx1Ntz3e96bco9TyyNVvlg9Xcn8YXWVVfdAMAAG+NAOIbcng97UmWD4Hcvw3Hj/GzcoV5k94OhyG+HyKqe3kEuyEOU37MMsvg/Mfb6jHWOwsPcShjzTxvKwVDD6/D6O5kZijxXtg/Pwh3K75oJgYmxtsp5p07D/vlz7PHd3gdh2PG4eTT4x8vs7Gf1O2lSq03Wu/38NtkG809y5br+nyTZfnqZ3YCMaie73//KVzkvXXL389ZSMe540tN53HAajYf7N8eL7zoKDldOi4fxRvJp+ex/3QRRg/fwsfy92Nt70ddpV+q1PNomw/SVK/v0Z/1T1UAAADr9r/RaPRf+e9OxJcxHIW7MPJNO0ApDvc9Kt6IPTdsOa8zY+/Hx219U3azGOQaz1unyodxmYhfSAgYAgDwvuiBCLBu5Zxq/ePPleBhlE85EMo3p78p9+FHnBZhLfMrAgAAsE0EEAHWLc5Dmv1vcPt77mUXbzEINwxXn+LQzKPw5/LxFV4EAwAAwKYJIAKsXfk27DCdx65YjsJNfDPzmwrCFS/liW+RfnhrY64BAABYiTkQAQAAAIBGeiACAAAAAI0EEAEAAACARgKIAAAAAEAjAUQAAAAAoJEAIgAAAADQSAARAAAAAGgkgAgAAAAANBJABAAAAAAaCSACAAAAAI0EEAEAAACARgKIAAAAAEAjAUQAAAAAoJEAIgAAAADQSAARAAAAAGgkgAgAAAAANBJABAAAAAAaCSACAAAAAI0EEAEAAACARgKIAAAAAEAjAUQAAAAAoJEAIgAAAADQSAARAAAAAGgkgAgAAAAANBJABAAAAAAaCSACAAAAAI0EEAEAAACARgKIW2B49Sns7Z2G+/LnV3N/mu33U7galj8DrW2s/LY1vAqf9va2/liL9MyO83TrU5QE7m8AAPA+CCCu7D6cZo3cT1onAO/crtX37m8AAECVACKwHnkPoNjjbby8gV5671nvLDyMRmE0ug6H5UfbqHf2kB1jdpzX23yUAAAAu0UAEXbI6wwnHIarT3th7+hPuHyMAavx8iX8+nSV/RYAAAB4S3YigJgHTfLARTEsa9IjqnaOrbl1smV2tcn8XHtH4Sb7eXC+X1l3cchXGUyZrPPcnExz665wfFOp682Z9BqbDzLNb8/cUm/N/ele2D8fhP7lt7X2QBtefQ3ZbsLJ3UM465Uf5g7D9cNZqHy0LJ/m8/bFvDZdL/5+Ug5nApJN5XyhTE62ObOdfKnL06uX3/rhn8u397L6qub4JnMflktdELdcp+6YizSa326bdHle9RpMl/ljKdZrqJdm0qYp/SrbK+u5Zec7PbYO6/tW+W+5pvN1f6vh/gYAACvbnR6Ig/OwnzWKwl3ZG+ruJISbo5pgxVH4c/k46TX1eNnPVps2TibD60Z3IdtC6M+sG5eHSsQkNkr2w/nB3eT3j5chnO/XNXZuwlG27tNFua1sxX52fJUGW8Lx5VLXmxcbV0dZs/EkHu/sMMd4HlmDMv+8PL7RRXj6WhOIYAsVDffi0s7n0a4Nw+/bQSwY4duyKGWLfHr79Xv4+PgYsl/nv99/uijKSFauf8yuO1/OiwJXk+8HeTnMt5PvO247+6ySp19QfrP6JQZfquu12F5KfZVaLidDl0chbqZW73M4ztJ2cPt7rkyPr+dx+DzJNm3SZblpnTpeirr1RZblg8NveV5aPN/78COPfl/kwe/11fcp+a8F97fF9ea5vwEAwIvs1BDmGDyZTKt1+CVvIP35O24iDMPV1/MwyBoRs42k2KDK22Lf2zcmhlffs2bTSbibmcurd/azCIL8WmzpVI4va/RfZPudNnBTj2/F8ygbV3mDcX7useHf8Cf738mX2c/repOxfcpG/qCfDyde+7Ryw98hxpvCwYcleaNNPh2EwUEM6PTCh4P4c3Yuz0Qn68pRbb6PAYPpiuFzHkF7mqz3ovK7UL90v71uy2UvnBUVTvg9m1Dl9Ty5mG6z7XlsyvP5YHy95873/ld2bvNpmqZ1uizJf209n1/c39zfAADgZdYTQLw5mhkKFJd/wj+Vn5uW1PVWmcPtJNS1CQdPZXOjbCj3Py42GQ6/5C2dakNzqbLnzsmXmZ4OURkE+fN3rqGzeHy9jzMNytTjW+U8fk8bV7ONsonehxAPeWkPD7ZL2VPnpn8ZHkfzw4nXqy7/VbTMp5XGfaU33Lwl5WjGfJAoBiGmPZNeXn6jSf3S+fYyXZfLPOg0CLczCT/8fZt9Mnssbc9jU5bng97ZxcL53v+6yfJXQu/ZBe3T5fn819aS/OL+5v4GAAAvtJ4AYuxZMRkKFJd/w7+Vn5uW1PXW9xbRgw+NkYmWhuEpa+gsBlOLoaSzDdk2Uo8v/TwG4fw8HtBzf3MYrvMhdkUjqzgPc0Rtu/sf59nVzSTktTg/4nw+rZsfLlUl0PWM7spb17ouv+uoD7oul4ehiMFMe4UtBonWU69txvz53oc8fnj8ObTPlW8jXdzf6ri/AQBAip0awpyiMkSwNPwbBzi11Quxg8ViMPVlQdDU40s/j2Joaz7869keGL1w9jA+9jg/VjGHlx4b2+vwenyt4vxjzzeIi3WrS21vnWV6RW+euh5Xdborb82GMdLR/9gyKNR1+V1PfdB1uTz8FueVnO3tNT9cfF3nsX51+aDSay0fvnwSLlbqqvs20sX9rfx4gfsbAAAsI4A4Nn6JQE3PqaLhOT9ssmhANfe0eumQvrneP6nH1/o8CofX4x4YKT0vYo+NYpL9uoYc22Tcu+a1GsRFr67aoYSzVsyn7Q1DHldYOifjvK6H5L7GEN8OymV+XYphvfnw5Zp6b/3n0UI5f91yDfkgf5lKVjZ+3BfDlxeG5I6tu75fM/c39zcAAHghAcSJ8iUCN9U3Qw6vPoWjm364/Dk/oXrZgLr53tggKXrznIf9FaI2w6uvxYsvJr1/Uo+v7XmMxR4Y40DTXCPr/nRhOGsxgX4/HHcT5WGtit414144LxmanOLwetyDZ76xfh9OP01fYrFaPm3n/jS+QKb6oodULym/dbre3nrKZfEyj8Htj/DjdhDqhvN2fh6Jep+PszO7Cb/Gu41zfO6Xw/SXaM4H5ctLsnwYh942vzxlvfX9+rUtb+5v7m8AAFAlgDjr8DqM7k7C4Hx/Mp/T/vlBuGt4AUXRq6Ho2TVev9IQ6Z2Fh9iTIWvsjH9ft964YXw08/v92+PFF1+kHl/L85iKjaxx8Gemt1q2vZ/h62RbxfZCuHx83Rdz8DJxmPLjZT/LFz9WeAlRG7EHTwxYVsvG3t6v8GX2zaYr59PnVMvR0Z/4ApkVh48mlt9kXW8vsVzG4Mr498X8dOdhv/y5br95fTS4CTeDhuG8XZ9Hqmy/P7P8O5mnbv8pXJRz1y1KzwfFy1Si+heRjHVV329My/Lm/rZsewAAsFv+NxqN/iv/3Yn4MoajcBdGK/T4AVhVDJQVgYTtnYePBGXPwtD01twl2ueD+3C6dxT+rLg/AACAXaAHIgDbY/iUD0t+rTd0F8NVV315CgAAwG4QQARgQ4bh6nQ8L2Z0H07jOOv+Zai8/Hld7k/D/vkg2903vVYBAACeIYAIwIb0wtm3EL5O5p87Cjcnd2E0O1fmGkzmhTy6CSd3I0OXAQAAljAHIgAAAADQSA9EAAAAAKCRACIAAAAA0EgAEQAAAABoJIAIAAAAADQSQAQAAAAAGgkgAgAAAACNBBABAAAAgEYCiAAAAABAIwFEAAAAAKCRACIAAAAA0EgAEQAAAABoJIAIAAAAADQSQAQAAAAAGgkgAgAAAACNBBABAAAAgEYCiAAAAABAIwFEAAAAAKCRACIAAAAA0EgAEQAAAABoJIAIAAAAADQSQAQAAAAAGgkgAgAAAACNBBABAAAAgEYCiAAAAABAIwFEAAAAAKCRACIAAAAA0EgA8cXuw+neXtibWU7vy18Br2d4FT7NlsVPV2FY/goaTfLNaVabv8Ar5L/7073w6arLrRb3r+Ztruv+tmy/7LyuyuWGDK8+bdGxb2F5W3Z9X+V+/gbroVdJl1f0Jsr5uu6DbJUyL77+tX1BPfTe6oOV1Kdffg/WDlwbAcQXiZn2KNyc3IXRaDRZrg/LXwOvp3cWHsoyeHdSfrZ13mCD5VW8g3RZc/6LwcOjm344/twrP1k397f1ey/1wa7Va8537d7E/XwDPOe8sngu7oPbYb35avj7Ngz6l+HbW7q26slGvc/HoT84D/ui/WshgPgS97/CTeiHyzdV28CazX8jNrOox9k6kwew67C1Nfn9aTi6CeHk7iGcvVr80P2NDXoL5ZLVub5E254P3Ad3xH34cT4I/ePP4bUesVizWLfEqOrNkbbnGgggvsDw75/svwfhg9qGN+I1h1Wd3BXfivnWFl7iPpwW0cNXLT/ubwDsMvfBHVEGil9vhAev4vA675l5c/Q2p0LZZrsRQMx7RH0KsddzEUAZ94gqPqsahqtPs72m6tZpI2F7HR/fdNx/0d17sm5TCP7+dGZ7TeulpsvcPhvX47XFIZD78Ru2y29b8E3vOJ/M54/Fz5vy84uGMdT0kpzP9q3K0ZLtTcv1UfaQEsLgfL+y7uK5zJejmt6bKfVGWbbr0qr4m5blc7LP6fHF45rsf36+kc7TpcP6dP7YnpsrZcl5tDd/fZuvw/Dqe5Y2J+GuIXqYn2Ny+ZhPvyLd1y91vwn5fmzJfau49vMPjeX2x+u2zc8L57F43Zqux+zxTfNlar5vIel+vjyd13IeKeUosVymHN9EzX6Lpbnc1VntulXzTFq5bHdci1LL2/P73eT1bSc1/VLTJdWy/Y7z5vLPm/Lzi+qChOvx0nI0u1qr/NIqH8wdW7a86Dw6t/z4ivMtrvc0neLSlFcTvWJ9X9FRu7Fpv7N5pVW+ys2f77I0zo7ze7blk4vqCI/JNZtuL57m5HgW8uzydC6k1kPL06+dtunSrEiDJc9XE6n7TT3f1PQrHH67DP1sje8vSzzm7FAPxEE4398L+08XZW+ox3DZzz77OlsBxEy+H84PpnNdPF6G/O8m5WGm0ozBmJBlyqNJJs6WSoWSsL2Jjo5vLI77zwpVGPcCa+jGm1cCR1nzdLa32Jdfc+ul7jeulxXkylwhF+Gpcg68vqKyLToxjcLDq42BfM5huM4yUT/m+5n8cX8abwT9cPk4N1RzPj8XGbCmHKXI8unXEH5O8mjMz9nt5ajmZpVUjpZvr3f2UP7uLsRpSvqXj5N141K5JvlDy1H4M7NOsb0V6o3Db9nP2Vq3v+fKYDFcY+GBKdHt1+/h42PcV0yOcv/xembp9WNyjB2nS16/dFifToZOLZs7pkV+SRLPI7WeHIbft/E6fXk+6J9SPvJ8tR9uj2fTuEj3iVb3t0Qp+41a5Pu0+1a65Pzc0f23Xb5Pl5QubeqXTs8jsRwll8vMkuPLxfPdPw/ZTaXcb3Gds6NdvM8s0f66xfKzH54uynWy44uN32o6t6nXEqSWt4T9bvz6JklMv+R0SZWyX88543XjUskvqfmgw/oqWZv7YJvjS2rnpXvt+n6s23ZjZkm+b10PZdtq1Q4d/g7FY1b9U1bS80FqOifXQy3SL8kK6dKJ1P0mnm9y+s3I6pqLbIXFdhAvsVtDmGMGnvTi6IXPx7Fl/TTJUHU9PXpnP4tK41eZgw+vZzJ3fArN1p9k4mx5OJvMn5C0vVldHN+MWLlPVj38khewP39nik9WEL/mPdIeq0PjsnOc/Tl5v8O/IXb2r1bC2QPUTJrw2spKeRAfVrdsCHF8gIwPKOObcPbQFoOc/cuftY26Sn4ubwg331e5+S3myd7ZRZbDB+H29+LWlpajltt73jBcfT0Pg6wumH0oig9Q+bNc3fk+W2+Mf74NlUPJh2vMl9VUgzA4iIHHXvhwEH9umh+oy3RpX/8tq0/TdXsererJ8sG2/3HhNwuWlY/7H1m+6l+Gn3WFa6zF/S1V0n7b5PvE+1a6tPzc+f23a0np0r5+6e48Oi5HpWXHl0+Mn316MTnfXjj7WQR1ntZ4OcaWHl/bem2JtPLW/X7XdX2XST2P1HRJlZx+nnNeYEP1VfJ9sOvntRY2Vd933W4sdZbvV2iHPv/ylJTng/R03lj9vKn2eeJ+112P9z7GcjbXDuJF1hNAvDmaflOTL/+Efyo/Ny2p6602ln2+sRwL93Ti3qaeHmWl8edvy4qs/fa6Pb6TMLe53GDmiXnxwbpOi/32PoT4Uf03b7y67EYfvxG7ySrbx9ErvnyhFPNBtdzWfPOdPXTkN9i4bnyqnrsBTy3m5+KGsEpAqI3l5ahTzwSMDr9kCVVzA3y+3og/Lz7k3//KWzArv22uss/+cVj/tDFd16cb1KaeHD5lVy6Eg6UTMC0rH/chv+SvPkF44n5b5Pu0+1Y7y/Nz9/ffriWlS+v65fXPo523fnzt67XnpZbzrve7Kann0XX91zL9POesZtvrqzU8r6XaVH3febsx12G+b90OXf7ylKXPB8npvMH6eVPt86T9rr8e7+Ubep0vDXfFegKI8RuW2W9rRv+Gfys/Ny2p662jETgMT1n+zXL5XNCjGPrZviLb9u1lW8w3uEyb/R6G63J4UP6glK9XEzTiVeTf1MR/JOSNOD/i/PV90dw7mfiNYrXc1gcxD6/H3c+berJ1Lx+CUTnfOKRodV1vb3nAqI3DUDzDjLvvd92YatZdunRf/7XR7fVtW0/2Q81z6buUku/T7ltd22z+S9EmXbqtX9J1XU+m6H0+zkrQ7PxHZW+Rhsby69pUvlrPfl//+r6d9POcs7pN1VepNnF8m6rvu283dq3l81U+GqebLyS7S+d1pN+m2ucp+32F/NL7mNW8dGm3hjA/qxfiFx6Lwc/x0jZoue3bi+UppTi13W8vnD2MfxcfmIo5P/RIfH2H1+NrEOdvef5GUaxbXeq/Ie9ePh9Q/ySctJwLJn+Q6X/Mclw78SE4zmtTDXAumUPjGV1vL6obclO8DXA1lW9BO3xgek636dJ9/ZdqHde3XT252remq5aPTUrJ92n3ra5tLv+lapMuXdcvKdZTjhKUvXinE+/vh/MQe+Vv/pptLl91v9/NXN+3k36ec1a3ifqqjU0c36bq+/W0Gxe97Pkl9flqWL48Zb7n22q6S+d11Wubap8v2+8r1OP5c8DufBn/GgQQJ17QNbjWtm8v22K+wZvw/HQKL9lv/OaheMCoq1h5DeNvf17rRtFOfCg9uumHy5/X4TrOSzU4D1+TvhIbhvy+fPAhy6FtlF3lXzB8t6rt9oobZeOQmt7nUEyJs/j74oFqxeHC+ctUsjzw474YvtzRA1OzjtNlDfVfmq7zS51n6snyW9P29ed8+ahP32LemXVK3G+LfJ9232pQzsfT3rry37J8ny4pXdZVvyw9j9coR3XGDcS5hsmL533q6rp1/5yYVs7b7ndbr2/qeaSmS6p26ec5Z0Vrq686ssHj21R9v/52Y9SU71fJV888X5VDj+eHlbeWnM7rqp9XsYb2edLzVd1+11+Pb9MXDu+FAOKM/FXf2Y19v6Moy7Zvb/yG1oW3st2fVgJNyfvN/m5+2GtRsPvheKN3+V1XfPsznoPnpUOTO1NOxjx5E3DvLPzMMuTiWyoX3Z/GF8NUJ9xNU96oZud+Gc8VWf7YTtvtlevffG/oEZpdq3z26KPKdZo2QFZt+JaTdWfbjUMCXvzAtFTX6bKG+i9J1/kl06aefObB9DmL5WN8/afpm/couT0IJ9nH65O63xb5PvG+NR66+mv8Wbxu++W0DitYT/5bnu+TJaXL+uqXZfVa5+Uoyfi4foVua43urlu3+Sq9nLfb77Ze39Tz6L7+S06/LB0856xqXfVVVzZ4fJuq77tuN9ZozvcJ+arF89X4hRwvD7KnpvO66ucELdIlRfLzVeJ+112Pb8UXDu/NaDT6r8vl7iT8F07uan+3seXx8r8sb/13clfzu4Xl7r+sGvgvS5rK0r98XFj38bKf/e7kv7u5z6tLwvY6Pr764yr/ruba5Ndsdnu11y8tXYp9z67T/+/ycXY7lk0uaXn2hUuZn6v5oFgmeXyyTkM+nVl3MU9lS//yv8fK3zWsVy7VfPr4X/YANPP7mEeLz1YrR2nba16/Zr27k8rva69Zq3ojLuO0fcH1n9tnXneMr8XC8awhXVLqocR0WU9+mV1vusyfx+K6zfVkse6y389uK1tqykdcKnV9noebr0ex3W7qiuT9puT7ckm5b1XTJm6rvJbjdVvl57gsz3/16VZXb4yX+fxVfz1Sl5R0SUnn7s9j/vcvK0fpx1d/zeKyrI54fnn+fNulX/0xrpoP0st5m/1u4vouX69Y0s4jPV1SlyX7LeuQxnyQLeM8WHu+7/g5p9X1XUt9lbbUb3duWcvzWtqyqfo+ab/Lyke21OaDhueXYnk+X8VlcZt1z0/FsdXn3XJp+3yQ+PzSZf1cm37lslq6pC/V7cVzLa/NXF5I3+/y841L63q8vFaNv7estPwv/ie7CJ2JL2M4Cnczr6kHWF3+DdP5Qbhb23xGu+I+nO4dhT+Xj682vyVdKK7bTRyGWXNfVT6gSVl2+pfhcW7Ycv6sGnuHPNa/3Atek3qcXbSxfH9/GrJbg/K2A4p7/Ylr3TFDmAF2QDFsYP0vT6Frh+HbZT8fHtPVaBbYCeWcTHVvnC9eBrDaC4oAeKu6fXkKW+z+NOTTNt0JHnZNABHgvctuovENiv3Lb26ib1Dv7KGcw3Ru3iGgWe9DKKZu+z03Oft9+BHnpXv1l34AsFm94q3ARkq+b3FexiJ6GFzq7gkgArxTcXjI3t5e2Mtuoid3I0OX37DD6+Jt6reTWeyB58U3PmblJpyH/VgPTpZySoAXv40ZANg2w9+3YdAw9Q8vZw5EAAAAAKCRHogAAAAAQCMBRAAAAACgkQAiAAAAANBIABEAAAAAaCSACAAAAAA0EkAEAAAAABoJIAIAAAAAjQQQAQAAAIBGAogAAAAAQCMBRAAAAACgkQAiAAAAANBIABEAAAAAaCSACAAAAAA0EkAEAAAAABoJIAIAAAAAjQQQAQAAAIBGAogAAAAAQCMBRAAAAACgkQAiAAAAANBIABEAAAAAaCSACAAAAAA0EkAEAAAAABoJIAIAAAAAjQQQAQAAAIBGAogAAAAAQCMBRAAAAACgkQAiwNa7D6d7e+HT1bD8+Q0YXoVP2THvjZdPV+FVj36y/9Ms9QAAAHgJAcQ35w0GEuDdUy4X9M7Cw2gURtlyd1J+BgAAwJskgAisxfDq07T3Wb58CuJrvJpJAPM6HJYfvT/Ngeui/JW9L+d7gy4s47JZbG+h12Ztb85huPqUfXaqfycAAOwCAUTYIZWgwtoUQYj98xAuH4seaMVyEZ6+vvIwVqDSG3Q0egyX/eyz/mV4nHz2EM56xaqFm/B9Jig5/H0bBuW/AQCA3bQbAcS890TRw6LaK6quR1TZq+KZdfJt5PN5jXtrFEv98MXqOnFZ6LCRcHzTz4+ypl0Ig/P9mfXq9j2/37pzZZfcn8ag3iD0L7+ttUfW/WnMo/1w+TgflDgM1w9nofLRC8pbfc+n5dtLKW8TNT23ZnfbvlwmHF9ufr1i+ytbch5Rq3RO2F6S+9P8b5t70M2nT0K9Nn9sz8692HE9mZwu21w/Z2X38iQMbn+X6TYMv29DuLy7zH7zJ/zdmuMEAABe0w71QByE8/29sP90MdMLI/us0iMqNur2w/nBXbnOKDxehvzvFhqBg/OwnzXqw13Zg6NYsbpe3pg8Cn8uH2e21w83R3WNyuePr3f2UH5+F+J0Yv2ZbcbloRKpiedxFG5Opueh99cuK4JRRzchnGT5tZpXOpbl+e8x0nVyMRc8rPOC8hYn1bs5mluvxfZS64OvIfwst1VsL5bfabCnfblMOL683tgPt8ez2yq2v5rl5zGRms6p21vm8FveG24arBq7Dz/OB3P5KKZfQr2WPPdi4vaSpaZL1/vt0PBv+BP///lLOBncht/xgIa/w204Dp/XWG0AAADbb7eGMMcG2/W471UvfD6OLdenSaNtePU93GTN9LvJOrEt+jNv4N78WohA5MGY6ebOwkVsa38fNwKH4erreRhk+5wNIsSAQ94mn6w3Y8nxJSsbgSdfZvuZ1fX+4v2LwYr9cD6IPQJn8uu6DJ/yoY7VvFfvReXt8EseUPsz0x2q7faWl7fFMtM7u8j2MAi3eWSlndTju/+R1Rv9y/Czs0Bvu/NYls7dpss43ctg1dj9r7zHZSUfdV2vdV5PJqbLm6ifD8O3y5Afd8yPBxfbdGwAAMAmrCeAeHM0MzQrLv+Efyo/Ny2p6602h9t8UKPoPTSeYD8O04o9Xr6UP4/1woeD7H9//s4F8k7C3OZC7+NMACL22sg21/+42Ow6/JI1yecbzJnnj6+F3ocQD7m+pyM7o+wBe5PPdTY/nHg9hn/z/kszYgCzruy+vLxFg6fxWm2312F5S5J6fPfh101Wbxx/3lDAZlk6d68uyHafJ8Jl+DZ7LF3Xa5uqJ9ew3/mh83GJ0xW8RO/zcQi3X8P3m9k8MQhrzAoAAMAWW08AsTI0Ky7/hn8rPzctqeuto5E/DE+xvbUQ/CyGfq7UEzBz8GETYYDDcF1OlB8bqcV5bNMcW7yGvCdb/EdC3o3zI87n+/o5PZ/Xy6Nhs2JeLMptdThp1+VtPeW3OkdiXI7ynnHtref4UnV3HoVut3cYiu9UxsOYm4KoXddr3deTaenS/X7nh87HJQ6fbi3vQXwQ8ttW73M4zn4aLAS9AQCAXbRbQ5if1QuxA+Fi8HO8LA9aDmOEoP+x0uitDv0rLPbSWodeOHsYH3ucP62Y802PxN1xeD2+9jfhaEmAoli3uqw0V2LvY4jFqC7fV728vFV1vb0iGBR7ccUhvdPtrDoXYffHl6rb8+h+e1GlV3Y+fPkkXNTmv67rte621y5d3kL9XB7jeDx72XMSAADYTQKIE81DHdMMQx4XPPiQbSkTe2/0Y8eimgBiHmhcdVL6IhDRbkhh7PFSNGSXB3Z4X8a9nV4pQDHO9+c/lkwz8NLyNq/r7ZVDjueH0TZaVi5Tj69+O8X8iatoex7LdL29Uv4ylSyP/rgvhi8n9Xrrul57yfZeki5vq352DwEAgN0kgDjj8Ntl6Me3kK4QZbk/jS+qmH1BQi+c5W9VOaoMBY29VI5u+uHy56qT0peBiJvvzT3K7k8Xhp8WAYh+OPYqzR1U9CQqXqi72tDkdNm+fmblKO/1+PxcpS8pb3W63V5ZzmbnKh3PKVn+WLW8XKYdX/lSkZnt5D3bbg/CSfZxe23PY5mutzc2Pu+jfEj3/PyUua7rtU631yJdtrh+fp3e8QAAwFskgDirdxYeYk+QmnnKFoMuMUAy/f3Rn/iiirlhiIfXYXR3Upngfv/8INy98IUWh9fTHmXj7VaOL9vvz/B18rtivyFcPr7OizTYTnGYcpwXbXnvwBfKy1HMo3NlJEZSZnuWtSpvCTre3kI5278Nx4/F3HV1lpbLxOMr3tQ+3c7+00UYPXwLH8vft9X2PJZJ3V4MfI7Pr5jn8Tzslz/XXY/iZSpR/Ytcsh0n1WvJ++24nkxO5/dWP9fk5721d3UGAABe2/9Go9F/5b87EV/GcBTupvMmvUPFXFcxELi+ecsAdkt8Y/dR+HP5uNr8mwAAAKyNHogAbFwxjLfp5SkAAABskgAiAJt1fxriG4z7l9/06gYAANhCAogAbMRkvsKjm3ByNzJ0GQAAYEuZAxEAAAAAaKQHIgAAAADQSAARAAAAAGgkgAgAAAAANBJABAAAAAAaCSACAAAAAI0EEAEAAACARgKIAAAAAEAjAUQAAAAAoJEAIgAAAADQSAARAAAAAGgkgAgAAAAANBJABAAAAAAaCSACAAAAAI0EEAEAAACARgKIAAAAAEAjAUQAAAAAoJEAIgAAAADQSAARAAAAAGgkgAgAAAAANBJABAAAAAAaCSACAAAAAI0EEAEAAACARgKIAAAAAEAjAUQAAAAAoJEAIgAAAADQSAARAAAAAGgkgLhNhlfh095e2Ns7DfflR8CaKG+v6D6c5mk9XU7nE33Z9Zj8vlw+XYVh+avXk3AeO61In09Xr39lXo16Y7t0dD2GV59cU6beVTl33xrrvJy3fS5Zkq/UQ8BbIIDIhmyqodn1fnegwcw7sMl8Gvd9FG5O7sJoNJos14flr1P1zsJD+bd3J+Vnr6qj84B3Z9vvg+7T7Cr3rbXa+HMJwOsTQNwmkxvRdXBv560qvkGd+UY2Xz6FrWu7KW+v4/5XuAn9cPltSSpv+/VIPQ/eN/XGdnE9WIf3kq/ct7aL+gp4BwQQYYe83vCIk3CXPyQVy93JIJzvb2EQkbUb/v2T/fcgfOgVP79V7+U8ANgN7lsAdG03Aoj5nBNF8KLaO6ouoDEMV59Sek7Nr1css0Nk6oM1xVCavdkJSFLn0OjyPCbbKo8nW+IhTba7cAzL0yX/2/zvptvMl5lznR73UbjJfh6c70/Xy5bFIUZz26o91+XS9zve3/x+qp+3P4/Nuz/dC/vng9C//Pbq33wefrsM/TAIt7/n00V5y9d/Z+WtldTr0UpqvurafPo1zfVYHM/yfNXC/enMtrJlYcfR8uNLyVdT8+lc5LMF89c4W2o3l6yb8jE+rrr6urg2M9tNzaetrm9H12Oyz+k68deT/S8c66bql+fFe1RjupbHMdlmwvVY7fiqadP2HMaa0m9he6+UX1LOtXafrY5vifKa1R1Lse35bXZ9fPPp17S9mXUa82O0+vVIq5/rzmEdlp9Hu3ROlXB9o/lrki21yRcl3Qejbsp5slb5KppLm8WMlX49UtIvZXtl2qaXX+C92qEeiLEH1F7Yf7ooe0U9hst+9tnX2Uo83kT3w/nBdK6Qx8uQ/12lss0r2v1we/w4WW80ugsrT38x6dKeModGh+eRuf36PXx8jNsI4eao3G62cn9wHn5M1k3fXvaEHvazh/VwV6w3iid0czRZr3f2UG6jSK/+5WwajsLD2ezXpHG/2YN/Ze6Wi/BUOdc06fs9DNfx/GM6z+zn/jQ2QPrh8vEhxFXbncemFQ8iR1kL6iS7LttzbMrbey1vsw/xMWidHVQ4mjyQZsvsw3Or65GiRfot0+Y88nx6FP7MpPFjdqHjdV7cb0q+Spc/vGcFPJbv8b5HX35V99vm+Jbkq1xyucyux9cQfk7WGe931cZGd+Uj9D6H46wsDm5/z6X7MPy+za53/zh8HheRruuNrq9HZrvrl+V6H+PFeEorAwnXo/3xxfK9H54uynWyDceg40K6pJpPvyKha7a35vxSu9829WTC8aVoU946P764vYT7W2o577z8Jh5fijdx30q9vtl6ifePpPtgruNynqLV/WPu+LKE6Wf5ZTFwl5jvk++/S7Z3+C37OVtrofzehx8xn51c5O0j4P3brSHM8cY8mTm4Fz7nTzLTh9Xh1fes2j4JdzOzC/fOfuYV5s2v6Z3l/sd5GPQvw89N1ZQdnUe8WQwOYoXfCx8O4s/186Skb68Qb96TVQ+/5A/uf/4u3KmWG/4NcfDFyZfZYzoM1w9n2VmvUbzRxzv8uNGVPYzF4Fv/8ucbvDmWD2mDGPzc1MTZw3D1NSszWU64mElA5e0dl7fD68rDarbVrO00fYAdrbEMt02/ZyWfR5nHs7wyG5SIAYy8rfi9poG1JF8lyxqAX/OexY/V8p0d+/Tn9se3LF+ll8vFPNQ7u8i2V9cjebluy0cvnF1knwxuQ+VQhr9DjGecXLwgnz57fbu/HltfvyTo5Qf+J4w3n/dIHLfqy/rpYM1jMbs+38r2smeLmN3a1wcvzC81+21dTz57fKnSy1vnx9fp8+Qayu9G7r+bu2+lX9/E+0fSfXDqNeu1VdSV38XAXWbp9Wh5/312e+Of58pvPs9m9qeVvAu8Z+sJIN4cTb/pypd/wj+Vn5uW1PVWm8NtvnKLN8npRLblN6AnX8qfx8qH8T9/ywr0PvyKwaTjz5UK+TV1cx6FyrYq3/6OtdtetmKou4cMnqprJel9CHEX9d+Erln20JE/QGX7jt9oxpvq7APWm1B+s3yTNfIfR0XPydcz+433+Fvm2UmjlTflbR3apl9HygZw/+NiLj38kj/5Vx+4M8/nq3TD37dZU6AanF/Q+viW5atNlcs1lI+88VhtTI3TtO5vUz17fTu/HoWtrl9S9D6GrHlaKvJYuPk187zXDzVJ1qGuz3dxe029LNedX6r7bV9PdlVfpZW3NRxfl/e3dZTfTdx/N3bf6v4+nXQfnOi6nHeto3pjBcu2Vxd8vM8fBi6D9/TA7lhPADF+gzH7bdfo3/Bv5eemJXW91SvHZsPwlN3Psrv3TKCyWGL8qK7i3k5dn8cm0+UwXOdd6IuHqmK/rzfHxuH1eDhefU+ObZf3EIr/SLhGeU+Puev7sjlhpt94x0BsuPk+d92Ut3q7W966sdl8te7eUXWG+Qmn2cTxRdU5leISp4RYxTqu72Eo2srj3h1Njdvuvf712PJ6txeDKIOQt+Njr5aTy6w+ugl5h6ThU/ab3X4ZRHf5ZbP3meXlbT3lvOv7W7fld3P3322vh1LuH23ug7umu/tvNF9+N/8lP/D6dmsI87N6IX7Bsxj8HC/rCFquQ9fnsel06YWzh/G+YkCvmKPjNb6hzec97J+Ek5XneNmsw+txmsXegM8/iBbrVpeuelwWgdj5NFTe6u1ueevGZtOvbghU8RbM9cl7JiTaxPHFxkuchysOyZpeh/GXM22t5/rmL3ka97bJe+W8zpdGr389tr3eLY4vpktMh/7Hz/mQuTikMU+X/sdsjbctD3SseB4vyS/V/W42Hywvb+s6vm7vb92X383cf7e5Hkq9f7S5D+6Sbu+/hUrv1Hz4cmrPT+C9EECcSO06X9z45ru6F/N5JCjnOVmf1YcA1Ot6e2P16fi8+A1tceOre+DJLkIo3jT23BD3tP3Gm+7RTfZQ+/M6XP8sJqH/WhuBW+U8XtP4W+1NBoKKbyyrw2GUt3pvqLxtpXWl3xLjlwPUpG/RcK8bTtqNYt64spdWk86PL7Vclr2LOhvetKbrm6dPMSwrHwq3xuuV21h+2ab6pU5xfIOn31m+CeE4S4Te5+PQHx/vwYdsjVVsy316GPK4TNvzeHF+md/vhurJsaXl7TWO7wX3t1cpv69w/936eij9/pF0H3yzVu0V3/X9t5S/TCVrU/y4L4Yvv0JvfWC7CCDOKL4VPQ/7z0ZZyklkZ4Zkjr/hmZc/+M7e0GKAa78cVrpGaeeRruvtFcoHiIWhrTPuTxeG0RYN1H7esJhXzIESPfcQkbDfcjLmyRvFemfh52W/4S1tCdvbuOJb7fGcji8bmryaPA/Fb9OnrwJV3hq8lfK2rdaTfstkZSx/S0H1TYnTLyJWmag/UflmxIW3KmbXc5oEXR9fQ7m8PQgn2cdTZb6b/fJgPDdr+WNb6yof8XwGtz/Cj6zBtf7hWJvLLxurXxLlPYluzsN5KIMXvQ/hIDveo5o6P9123KfvT+MLzaovjkjzsvxSt9/N1JNjy8tb58fX6f1tDeV3I/ffba+HWtw/ku6Db9Pw6mvxIsTWUcDu77+F8f3/KMsnMX4ofAi7RgBxVnz7bvzGL6sUq/NFVIMucVLZu5OiR1f83f7tcXgsvymsKANPk/lM9p/CRTnHyax4sx7vp5j/I7uplj/PP1AkSTyPZF1vr3R4Pe0ZV7u9w+vwM3yt7G//PITLx/oXghQBpKh+guSxZ/c7CTrNvx0uThwc75eLvfiWnseWiMOU4xv5Buc/numhuSZZHorPqZUGnPJW742Ut66kXo/k67am9Fsqvvny7iQ7rP3J/vbPD8Ld2l9glDUC8y8Iqtd279eXhbdRdnl8C+Xy6SKMHr6Fj+Xvxxby3f5tOH5cLJfJ1nR98/vH4CbcDOqHY3Veb2wqv2yqfmlr0luu7MGemX3ZQ9vrsZn79OzLxLLj/BNfaLbi8NtW+SVhv5uqJ0vLylvnx5d4f0vOV12X38Tj69yW10Pp94/E+2DHun5+GX8RPlt+i2fe1a5H5/ff0rhNtKy9BbxP/xuNRv+V/+5EfBnDUbibeQ38rrgPp3tH4c/l49t7Wy+8OcobANspBgyKQMx65xOct6n9ArvEMzjsMj0QAQAAgGcVw+u9PAV2lQAiAAAA0Oz+NMR5yPuX3/Ryhh0lgAgAAAAsmMzjeHQTTu5Ghi7DDjMHIgAAAADQSA9EAAAAAKCRACIAAAAA0EgAEQAAAABoJIAIAAAAADQSQAQAAAAAGgkgAgAAAACNBBABAAAAgEYCiAAAAABAIwFEAAAAAKCRACIAAAAA0EgAEQAAAABoJIAIAAAAADQSQAQAAAAAGgkgAgAAAACNBBABAAAAgEYCiAAAAABAIwFEAAAAAKCRACIAAAAA0EgAEQAAAABoJIAIAAAAADQSQAQAAAAAGgkgAgAAAACNBBABAAAAgEYCiAAAAABAIwFEAAAAAKCRACIAAAAA0EgAkRXdh9O9vfDpalj+DNtlePUp7GV5dO/0vvyEjRhehU/xOuydZrXGrlFPtrbT+WUHuL4AAG+WACLAiwkUQTPl42W2Pf1cXwCAXbATAcRJT6TK8iksPOtOvhlfXGo7Md2flr+v2Vb5QD2/nb1PV6G66ni9uW/j676lb3t8sAH3p9uRR3tnD2E0GoXR9WH5yVuyWH+82TLeOwsP8TqMrsNbvBIbs6v1/bbml8n9fseuR9fUBwAAb9YO9UA8CXf5Q2ux3J0Mwvl+XeAvW/Nuut54qYtB3P+6yVa+DJf9Qbj9Xf/Ne//ycWY7j+EynIf92oDjTfg+8+Hw920YlP+el3p8MK8Ipr/G0LFqeXu87IebIz1UkuSBiqPwZ7buuDuRfjtKfb8lDq/L9M/u4/3s5/5leHQ9AADYITs7hPnw22Xoh+bA33L3IY8ffjkLn4+zLd3+nutZWKcXzh5i42MQzr/O9kTsh8vLk5ltDMPv2xAu7+Ix/gl/1xEzyHu3xEDmtKdT7EUx6a250FNyGK4+zfa6OArZ6fOGxJ6B++eDrN377dV7fsTegHcnIQzOf8z1qC2C6dVewmk9eud7/dT3NG4Kus3n5/ovE3LzPY9mdjzdZ1EeBuf7lXXbB/yy4/oeK5a78HDWKz/LHF7nQdhJ+pW90+q2XxzT/PkknG/K9Wiz33LdyXYW6pRZzx9f3qu18e+LvLFScHX+GLOlNl/l+57Lg7Xdzl67nhwf0/z1bPq8m3wfFdd7/suIcr/lutN8lFA+WuWXuWuRLS+7bt1pt9/586hej/bpV/z99O+atvn8davoqv7b6PV9Pp0BAEhjDsRV3f/KHphPwpfDEHqfj0N/cBvSYpG9POAYxusP/4Y/8ePPX8LJ5LPf4TYch88z8YN1uf36PXx8LHpUxB5O+08XYfR4mZ3Pefgxfg7PH/z3w+3xbG/Ku+zseRuKoMFRHpcaVQNTr24+IB57Apf5btK7Zy7Anue/ao+8cY/G2bbiZMjyZGnKo7ExuR/OD+4m62ZZPj+O2kZqlnCVXmBffk3Wm+6z2Fe1x/EKaR3L/iB+MbEY4s3rmazW+RX33fscimpk/ouL+OVDtoH+bP2Rfr5Lr0eb/U6GKsYe3+VntZYfX+9j3OnT3D5fKtvv1xB+lvss9hvzVU1wIasP97M8GMb5IJ7QzVE1/TZSTx6G61hfx+s2U2buT2NApx8uHx/CNAt2l+9TtSofqfklsT7IpVy3dUjab7we2XU6mV6P0egiPM1cx/b1S0J92kKn9d/Gru/ydAYAIM2OBhCH4errefaofRIu2jbwS8Xw5S9FT67eh3CQbS21N2Pvw0H230F4qqx+GL5ljbm4jfsf5+Hg4iysdmRtDMLg4CJrYPZCfkixwfltMXARj2fQvww/V0wrNqkMGgxiMGGTQ+2G4W+MlFcCW6XYsJsc2DjAPg4WlWV1rkdebLjmbcXv7RuBw6vvefD/biYxemc/iyB6Hp0rZQ3Zr3mPzcdquh1ery0di6kL+uFjXVHL65kQ/uQR2F44u8gSYP6Li3EAcqb+SD7fsWevR/p+U6UcX1FnToPPeY/EcZSg/BLm4EPbPR+G64fq8fbOLrIjqa/LYxBlcoiHX7L1xteisLF6MgZmYmEYf+lzf5p/WdC//DkTPGyRDzaQ79O1rw+WXbd1WbrfMt9WvyxYzJOtPVt+W9hIPljD9V1XOgMA7KD1BBBvjmaGisTln/BP5eemJXW9VeZwuwlHk78f98Kon8Q7ftNd3d98j5Tx8OXJU2v4kj21pg1jnppvxMQeRuH2a/h+U/RsLMwHGlOOL13lobouuFOea//4s4ftt6bsyXGTz9U12xPp9Q2vvoasLVobYJrvbVf0ainLZhmY6tdE1A6LQpfY83es7Ck3Dv5PlEH0P38nZbgI5q3+JcPqDkJSLCxvLFeDXeNjniZp+vmOPXs9oqT9pko8vt7H0I//zxV1Urj5NXMfaAi6dqb+3AaTynl99WRSfX94XQRY4rpFV+O53mlvId8naF0fLLtu65Kw3/ILgdqedS+wtPwm2kg+WMf1XVM6AwDsovUEEOM34JOhInH5N/xb+blpSV1vlbf3TV/qEBta4eZ7Y9CtMlwnX+aCL/nw5WqDtXi4nRn2myDvMTN8yh7Sy4BBHB6Y/TRYaORVLT0+yOQ9ouI/Enqf1L05eaU55SZmA/Zx7sWDvPyt2nOlfe+yJsPwFBNl4UuOYoj3bFoN8xU3IXXe0/kvLuqCROnnmy5lv6kSjy8PApRfpsT6N395VTmce7YObWk6h9t4KeZy2yap9f3h9Xi4dF1P8reQ79N1Vx9s0mG4Ll/IMg0Sb8/cfJvMB91e3+1OZwCAt2QnhzAXDa3V5wXKhy/Hv98fP4xmS94Kyx5QZ4eCNRgWYzlreszEl6xkDcRxlCVvNMNqDq9jsCHm9RjMe77BVKxbXao9mNqaBuyLZZWg/1TdkMOiHLXVC3E6vcUvORaPM59375XVT29Qqhmqm78MatwrJ++9Mx88Sj/fNpbvN1Xq8RXrxXwQr3v/4+d8aGasb/N80P+YrdFODB7GlwpVA3TjINzbk8972D8JJ7Vz3m13vm+ru/pg08p7fn4NyueSmjkpN2GT+aD767u96QwA8Jbs6ByIRQ+a9sMfo3Ko2txk4XEpejbODqurcx9+FGM5k3sN1j1MJ8mHsMYA5ypDvseKhuf8kK9iPi2237j3xRttMI1f2lETUct7yNQOu39O89DdeUUwr+zltlR9OWmtnMOr7ouIokfp3JC9PH2K4cT5kMOF9Eg/31aW7jdV6vEV6w2efodsd+E421n+Upnx3x18yNZoo+w12b8MK8U9F2y2nozB0KObfrj8eR2ufxYvwfpa+cZgXfl+zvilYAs6Kh+d1wfbJNbVRQB78Z7fUfo1qbluG6n/XuX6PpfOAAA8Z0cDiNkjZOxBE7+FbjPmOCqHL8cG7Lx8GPOzD9zl2wCzR9fxRPbr7DVRzGEUrdgYzJWTsM8M+c577twehJPsY96CovfFeI60lw1Nfm3lSztujirHPQ2YtJ8Iv+g9dx72l0VTD7+Vw97mem/en9YEYssAzTNTI6SJL1PKd1rZR3G+sQPZfI/BonwObn+EH7eD2jn4ks+3leX7TZV6fHmPqJvzcD5+Q33soZ393VH8Qqa18nrNfok0njO0/LGdDdaT5csuJl9K9c7CzywPDc73K3mo63xfeSt4FNNvv5w2YUFX5aP7+mBjsvScr4uLgHPd80VX6dfium2k/lvD9W2VzgAAPGdnA4ixkRWfU+seeKfz5EyX8QNzPny56Vvwmt5DsRE33c5R+JP3XFxt2ODYc8c3q2goRPUTjacq3oBY9GCL+9p/ugijh2/hY/l73oY4TPkxDyz8eEGP1A04vA6ju5NKWSrmVFxx7s/41trYAyVrpI63N16qDc1x4HWa9/Pl15fauRwPr6c9Peu3lyZ/6UF2vrPlPGvfN75FOy/ng5twM2h44UHy+bazbL+x0T/eTzHP3nnYr9tv2+Ob9DYse5Jn6l66sMzC9dq/DcePxVxpq1hXPflsfT8J/sy/XTm+Tbr428m6Xef7bHsxUDk5vv2ncFHONVdnWflIzi9d1wep7k/L/cW32mc/zxxf3f13qew8foavk3MoziOW86Y5LrupX9KvW7f138aub8t0BgCg2f9Go9F/5b87EV/GcBTupvP4AWxCGVzJWoovnM8RAAAAdtvu9kAE3rf87bzv5Y2tAAAAsDkCiMA7MAxXp7Nvnr0Pp3GcXGcvyQAAAIDdJYAIvAO9cPYthK+Tea6Ows3JXRg9vKGXKgAAAMCWEkAE3of8JRGjMBov5mEFAACATnT+EhUAAAAA4P3QAxEAAAAAaCSACAAAAAA0EkAEAAAAABoJIAIAAAAAjQQQAQAAAIBGAogAAAAAQCMBRAAAAACgkQAiAAAAANBIABEAAAAAaCSACAAAAAA0EkAEAAAAABoJIAIAAAAAjQQQAQAAAIBGAogAAAAAQCMBRAAAAACgkQAiAAAAANBIABEAAAAAaCSACAAAAAA0EkAEAAAAABoJIAIAAAAAjQQQAQAAAIBGAogAAAAAQCMBRAAAAACgkQAiAAAAANBIABEAAAAAaCSACAAAAAA0EkAEAAAAABoJIAIAAAAAjQQQAQAAAIBGAogAAAAAQCMBRAAAAACgkQAiAAAAANBIABEAAAAAaCSACAAAAAA0EkAEAAAAABoJIAIAAAAAjQQQAQAAAIBGAogAAAAAQCMBRAAAAACgkQAiAAAAANBIABEAAAAAaCSACAAAAAA0EkAEAAAAABoJIAIAAAAAjQQQAQAAAIBGAogAAAAAQCMBRAAAAACgkQAiAAAAANBIABEAAAAAaCSACAAAAAA0EkAEAAAAABoJIAIAAAAAjQQQAQAAAIAGIfz/6FUBulufEjgAAAAASUVORK5CYII=)\n",
    "\n",
    "\n",
    "\n",
    "\n",
    "\n",
    "\n",
    "\n",
    "\n",
    "\n",
    "\n",
    "\n",
    "\t\n"
   ]
  },
  {
   "cell_type": "markdown",
   "metadata": {
    "id": "FaHDTIizOsJU"
   },
   "source": [
    "## **Important Libraries**\n",
    " \n",
    "* **pandas**: pandas is a fast, powerful, flexible, and easy-to-use open-source data analysis and manipulation tool built on top of the Python programming language. Refer to [documentation](https://pandas.pydata.org/) for more information.\n",
    " \n",
    "* **NumPy**: The fundamental package for scientific computing with Python. Fast and versatile, the NumPy vectorization, indexing, and broadcasting concepts are the de-facto standards of array computing today. NumPy offers comprehensive mathematical functions, random number generators, linear algebra routines, Fourier transforms, and more. Refer to [documentation](https://numpy.org/) for more information. pandas and NumPy are together used for most of the data analysis and manipulation in Python.\n",
    "\n",
    "* **Matplotlib**: Matplotlib is a comprehensive library for creating static, animated, and interactive visualizations in Python. Refer to [documentation](https://matplotlib.org/) for more information.\n",
    " \n",
    "* **seaborn**: Seaborn is a Python data visualization library based on matplotlib. It provides a high-level interface for drawing attractive and informative statistical graphics. Refer to [documentation](https://seaborn.pydata.org/) for more information.\n",
    "\n",
    "* **scikit-learn**: Simple and efficient tools for predictive data analysis\n",
    "accessible to everybody and reusable in various contexts.\n",
    "It is built on NumPy, SciPy, and matplotlib to support machine learning in Python. Refer to [documentation](https://scikit-learn.org/stable/) for more information.\n",
    "\n",
    "* **Warnings**:The warnings library provides a way to handle warnings that are generated during program execution. Warnings are typically issued when there is a potential issue with code, but the code still runs without errors. The warnings module provides a way to catch these warnings and handle them in a way that is appropriate for the program. This can be especially useful when developing and debugging code, as warnings can help identify potential issues before they become errors.\n",
    "\n",
    "* **sys**:The sys library provides access to some system-specific parameters and functions. This library can be used to access system-level information, such as the command line arguments passed to the program, the version of the Python interpreter being used, and more. "
   ]
  },
  {
   "cell_type": "markdown",
   "metadata": {
    "id": "_HKb318Zddaj"
   },
   "source": [
    "## **Package Requirements**"
   ]
  },
  {
   "cell_type": "code",
   "execution_count": null,
   "metadata": {
    "id": "x3dI1qbAddak"
   },
   "outputs": [],
   "source": [
    "# using warnings module to ignore warnings\n",
    "import warnings\n",
    "warnings.filterwarnings('ignore')"
   ]
  },
  {
   "cell_type": "code",
   "execution_count": null,
   "metadata": {
    "id": "GJnhpJWREQvW"
   },
   "outputs": [],
   "source": [
    "# Developed and Tested on Python=3.8.10\n",
    "!pip install numpy==1.24.2\n",
    "!pip install pandas==1.5.3\n",
    "!pip install matplotlib==3.7.0\n",
    "!pip install seaborn==0.12.2\n",
    "!pip install scikit_learn==1.2.2\n",
    "!pip install projectpro --upgrade"
   ]
  },
  {
   "attachments": {},
   "cell_type": "markdown",
   "metadata": {},
   "source": [
    "After package installation, kindly restart the runtime if needed."
   ]
  },
  {
   "cell_type": "code",
   "execution_count": 1,
   "metadata": {
    "id": "TldVsCwMHKFX",
    "scrolled": true
   },
   "outputs": [],
   "source": [
    "# import libraries\n",
    "import pandas as pd\n",
    "import numpy as np\n",
    "import matplotlib.pyplot as plt\n",
    "import seaborn as sns\n",
    "import sys\n",
    "from projectpro import checkpoint,data_pipeline, mo_distance, preserve, save_point, feedback, show_video\n",
    "checkpoint('fcTel1')"
   ]
  },
  {
   "cell_type": "markdown",
   "metadata": {},
   "source": [
    "## **Introductory Video**"
   ]
  },
  {
   "cell_type": "code",
   "execution_count": 2,
   "metadata": {},
   "outputs": [
    {
     "data": {
      "text/html": [
       "\n",
       "        <div align=\"center\">\n",
       "        <iframe width=\"100%\" height=\"500\"\n",
       "        src=\"https://youtube.com/embed/https://www.youtube.com/watch?v=EFIAFAtVRuA&list=PLrGuQQxHHiDmUXL-pro9LbhTnA5p1Cx6M&index=1\"\n",
       "        </iframe>\n",
       "        </div>\n",
       "    "
      ],
      "text/plain": [
       "<IPython.core.display.HTML object>"
      ]
     },
     "execution_count": 2,
     "metadata": {},
     "output_type": "execute_result"
    }
   ],
   "source": [
    "# Introductory Video\n",
    "show_video(\"https://www.youtube.com/watch?v=EFIAFAtVRuA&list=PLrGuQQxHHiDmUXL-pro9LbhTnA5p1Cx6M&index=1\")"
   ]
  },
  {
   "cell_type": "code",
   "execution_count": null,
   "metadata": {
    "id": "UzW8oz44HKFY"
   },
   "outputs": [],
   "source": [
    "# These codes are useful when working with large datasets\n",
    "\n",
    "# sets the maximum number of columns that will be displayed in a dataframe to 200 for improved data viewing\n",
    "pd.set_option('display.max_columns', 200)\n",
    "# sets the maximum number of columns that will be displayed in a dataframe to 300 for improved data viewing\n",
    "pd.set_option('display.max_rows', 300)"
   ]
  },
  {
   "cell_type": "code",
   "execution_count": null,
   "metadata": {
    "id": "AFEuLGqXHKFY"
   },
   "outputs": [],
   "source": [
    "# Sets numpy print options to display entire arrays regardless of size\n",
    "np.set_printoptions(threshold=sys.maxsize)"
   ]
  },
  {
   "cell_type": "markdown",
   "metadata": {
    "id": "5xYVDMo8r6dg"
   },
   "source": [
    "## **Data Reading from Different Sources**"
   ]
  },
  {
   "cell_type": "markdown",
   "metadata": {
    "id": "ciEozwq-SZBT"
   },
   "source": [
    "<details>\n",
    "    <summary>Click here to view more</summary>\n",
    "\n",
    "\n",
    "### **Files**\n",
    "\n",
    "In many cases, the data is stored in the local system. To read the data from the local system, specify the correct path and filename.\n",
    "\n",
    "### **CSV Format**\n",
    "Comma-separated values, also known as CSV, is a specific way to store data in a table structure format. The data used in this project is stored in a CSV file. Download the data for the project.\n",
    "\n",
    "\n",
    "Use following code to read data from csv file using pandas. \n",
    "```\n",
    "import pandas as pd\n",
    "csv_file_path= \"D:/ProjectPro/Telecom-Data-Analysis/data/raw_telecom_data.csv.csv\"\n",
    "df = pd.read_csv(csv_file_path)\n",
    "```\n",
    "With appropriate csv_file_path, pd.read_csv() function will read the data and store it in df variable.\n",
    " \n",
    "If you get *FileNotFoundError or No such file or directory*, try checking the path provided in the function. It's possible that python is not able to find the file or directory at a given location.\n",
    "\n",
    "\n",
    "### **Colab - CSV Format**\n",
    "\n",
    "```\n",
    "# mount the google drive\n",
    "from google.colab import drive\n",
    "drive.mount('/content/drive')\n",
    "csv_file_path= '/content/drive/MyDrive/project_pro/Telecom Data Analysis Project to Improve Service Quality/raw_telecom_data.csv.csv'\n",
    "df = pd.read_csv(csv_file_path)\n",
    "```\n",
    "\n",
    "### **AWS S3 - CSV**\n",
    "Use the S3 public link to read the CSV file directly into a pandas DataFrame\n",
    "```\n",
    "s3_link = 'https://s3.amazonaws.com/projex.dezyre.com/telecom-data-analysis-project/materials/raw_telecom_data.csv'\n",
    "df = pd.read_csv(s3_link)\n",
    "```\n",
    "\n",
    "### **Database**\n",
    "Most organizations store their data in databases such as MS SQL. Microsoft SQL Server (MS SQL) is a relational database management system developed by Microsoft. A BAK file in Microsoft SQL Server is a backup file that contains a copy of a SQL Server database at a specific point in time. It is essentially a binary representation of the database and includes all its data, tables, schema, indexes, stored procedures, and other objects.\n",
    "\n",
    "#### **Installing MS SQL Management Studio**\n",
    "To install Microsoft SQL Server Management Studio, you can follow these steps:\n",
    "\n",
    "* Go to the Microsoft SQL Server Downloads page (https://www.microsoft.com/en-us/sql-server/sql-server-downloads) and click on the \"Download now\" button for the version of SQL Server Management Studio that you want to install.\n",
    "* Follow the instructions on the screen to download the installation file to your computer.\n",
    "* Once the download is complete, locate the installation file and double-click on it to start the installation process.\n",
    "\n",
    "\n",
    "#### **Restore a BAK file in MS SQL**\n",
    "\n",
    "* Open SQL Server Management Studio and connect to the SQL Server instance to which you want to upload the BAK file.\n",
    "* Right-click on the Databases folder in the Object Explorer pane and select \"Restore Database...\" from the context menu.\n",
    "* In the \"Restore Database\" dialog box, select the \"Device\" option under the \"Source\" section.\n",
    "* Click on the \"...\" button to open the \"Select backup devices\" dialog box.\n",
    "In the \"Select backup devices\" dialog box, click on the \"Add\" button to add the BAK file that you want to upload.\n",
    "* In the \"Locate Backup File\" dialog box, browse to the location where the BAK file is stored in the Telecom Data Analysis Project to Improve Service Quality directory under the ‘data’ folder, select the file, and click on the \"OK\" button.\n",
    "* Back in the \"Select backup devices\" dialog box, the BAK file you added should now be listed under \"Backup media:\".\n",
    "* Click on the \"OK\" button to close the \"Select backup devices\" dialog box.\n",
    "In the \"Restore Database\" dialog box, you should see the BAK file listed in the \"Backup sets to restore\" section.\n",
    "* By default, the original database name and file locations from the BAK file will be used. If you want to restore the database with a different name or to a different location, you can modify the \"To database\" and \"Restore as\" options under the \"General\" section.\n",
    "* Click the \"Options\" tab for additional restore options.\n",
    "* If you want to overwrite an existing database with the same name, you can select the \"Overwrite the existing database (WITH REPLACE)\" option under the \"Restore options\" section.\n",
    "* Click on the \"OK\" button to start the restore process.\n",
    "* Once the restore process is complete, you should see a message indicating that the restore was successful.\n",
    "\n",
    "#### **Read Data from DB to Python**\n",
    " The data can be accessed by secret credentials, which will be in the following format.\n",
    "```\n",
    "import pyodbc\n",
    "import pandas as pd\n",
    "connection = pyodbc.connect('DRIVER={ODBC Driver 17 for SQL Server};\\\n",
    "                       SERVER=server_name;\\\n",
    "                       PORT=1433;\\\n",
    "                       DATABASE=database_name;\\\n",
    "                       UID=admin;\\\n",
    "                       PWD=password')\n",
    "```\n",
    "#### **Steps to install ODBC driver**\n",
    "* Go to the Microsoft Download Center page for the ODBC Driver 17 for SQL Server: https://www.microsoft.com/en-us/download/details.aspx?id=56567\n",
    "* Select the download button that corresponds to the operating system you are using.\n",
    "* Select the language you want to use for the installer, then click the download button.\n",
    "* Once the download is complete, run the installer.\n",
    "* Accept the license terms, then select the features you want to install.\n",
    "Choose a location to install the driver, or use the default location.\n",
    "* Complete the installation process by following the instructions provided by the installer.\n",
    "* Once the installation is complete, you can use the ODBC Driver 17 for SQL Server to connect to SQL Server databases from applications that support ODBC connectivity.\n",
    "\n",
    "#### **Query to read the data into Pandas**\n",
    "\n",
    "```\n",
    "query = '''select * from raw_month_1_data\n",
    "           UNION ALL\n",
    "            select * from raw_month_2_data\n",
    "            UNION ALL\n",
    "            select * from raw_month_3_data\n",
    "            UNION ALL\n",
    "            select * from raw_month_4_data\n",
    "            UNION ALL\n",
    "            select * from raw_month_5_data\n",
    "            UNION ALL\n",
    "            select * from raw_month_6_data\n",
    "            UNION ALL\n",
    "            select * from raw_month_7_data\n",
    "            UNION ALL\n",
    "            select * from raw_month_8_data\n",
    "            UNION ALL\n",
    "            select * from raw_month_9_data\n",
    "            UNION ALL\n",
    "            select * from raw_month_10_data\n",
    "            UNION ALL\n",
    "            select * from raw_month_11_data\n",
    "            UNION ALL\n",
    "            select * from raw_month_12_data\n",
    "            UNION ALL\n",
    "            select * from raw_month_13_data\n",
    "            UNION ALL\n",
    "            select * from raw_month_14_data'''\n",
    "raw_data = pd.read_sql(query,connection)\n",
    "\n",
    "```\n"
   ]
  },
  {
   "cell_type": "markdown",
   "metadata": {
    "id": "8q_RsUOaNNvi"
   },
   "source": [
    "## **Data Exploration**\n",
    "\n",
    "Data exploration is a critical step in the data analysis process, where you examine the dataset to gain a preliminary understanding of the data, detect patterns, and identify potential issues that may need further investigation. Data exploration is important because it helps to provide a solid foundation for subsequent data analysis tasks, hypothesis testing and data visualization.\n",
    "\n",
    "Data exploration is also important because it can help you to identify an appropriate approach for analyzing the data.\n",
    "\n",
    "Here are the various functions that help us explore and understand the data.\n",
    "\n",
    "* Shape: Shape is used to identify the dimensions of the dataset. It gives the number of rows and columns present in the dataset. Knowing the dimensions of the dataset is important to understand the amount of data available for analysis and to determine the feasibility of different methods of analysis.\n",
    "\n",
    "* Head: The head function is used to display the top five rows of the dataset. It helps us to understand the structure and organization of the dataset. This function gives an idea of what data is present in the dataset, what the column headers are, and how the data is organized.\n",
    "\n",
    "* Tail: The tail function is used to display the bottom five rows of the dataset. It provides the same information as the head function but for the bottom rows. The tail function is particularly useful when dealing with large datasets, as it can be time-consuming to scroll through all the rows.\n",
    "\n",
    "* Describe: The describe function provides a summary of the numerical columns in the dataset. It includes the count, mean, standard deviation, minimum, and maximum values, as well as the quartiles. It helps to understand the distribution of the data, the presence of any outliers, and potential issues that can affect the model's accuracy.\n",
    "\n",
    "* Isnull: The isnull function is used to identify missing values in the dataset. It returns a Boolean value for each cell, indicating whether it is null or not. This function is useful to identify the presence of missing data, which can be problematic for regression analysis.\n",
    "\n",
    "* Dropna: The dropna function is used to remove rows or columns with missing data. It is used to remove any observations or variables with missing data, which can lead to biased results in the regression analysis. The dropna function is used after identifying the missing data with the isnull function.\n",
    "\n",
    "* Columns: The .columns method is a built-in function that is used to display the column names of a pandas DataFrame or Series. It returns an array-like object that contains the names of the columns in the order in which they appear in the original DataFrame or Series. It can be used to obtain a quick overview of the variables in a dataset and their names."
   ]
  },
  {
   "cell_type": "code",
   "execution_count": null,
   "metadata": {
    "id": "gZ0EcnL0HKFZ"
   },
   "outputs": [],
   "source": [
    "# data reading with csv\n",
    "df = pd.read_csv('https://s3.amazonaws.com/projex.dezyre.com/telecom-data-analysis-project/materials/raw_telecom_data.csv')"
   ]
  },
  {
   "cell_type": "code",
   "execution_count": null,
   "metadata": {
    "colab": {
     "base_uri": "https://localhost:8080/",
     "height": 473
    },
    "id": "fpsCCYv9HKFZ",
    "outputId": "4e4bdb01-880d-442f-ec1f-c705be1bf05e"
   },
   "outputs": [],
   "source": [
    "# exploring the top 5 rows\n",
    "df.head(n=5)"
   ]
  },
  {
   "cell_type": "code",
   "execution_count": null,
   "metadata": {
    "colab": {
     "base_uri": "https://localhost:8080/"
    },
    "id": "pltvYD11HKFZ",
    "outputId": "866652d5-f897-4980-a90c-c3561773dff1"
   },
   "outputs": [],
   "source": [
    "# shape of the dataset\n",
    "df.shape"
   ]
  },
  {
   "cell_type": "markdown",
   "metadata": {
    "id": "riIh_2tdUC5v"
   },
   "source": [
    "**Observation**:\n",
    "\n",
    "The dataset has 653,753 rows and 74 columns. The number of rows represents the number of records or observations in the dataset, while the number of columns represents the number of features or variables associated with each observation."
   ]
  },
  {
   "cell_type": "code",
   "execution_count": null,
   "metadata": {
    "colab": {
     "base_uri": "https://localhost:8080/"
    },
    "id": "mzsYH6WfHKFa",
    "outputId": "7a411b59-c985-438e-bf05-2c0d19044312"
   },
   "outputs": [],
   "source": [
    "# finding the columns of the dataset\n",
    "df.columns"
   ]
  },
  {
   "cell_type": "markdown",
   "metadata": {
    "id": "OYG3rg46Vt1u"
   },
   "source": [
    "## **Data Dictionary**\n",
    "\n",
    "Exploratory Data Analysis (EDA) is a crucial step in any data-driven project, especially when working with datasets that are unfamiliar. In such cases, it is essential to understand the characteristics of the data, identify patterns and trends, and uncover insights that may be hidden in the data. Through EDA, we can discover the problems our customers face and the areas in which we can improve our services.\n",
    "\n",
    "To conduct EDA, we need to have a clear understanding of the variables in our dataset, and that is where a data dictionary comes in handy.\n",
    "\n",
    "| Column name\t | Description|\n",
    "| ----- | ----- |\n",
    "| Customer ID\t | Unique identifier for each customer |\n",
    "| Month | Calendar Month- 1:12 | \n",
    "| Month of Joining |\tCalender Month -1:14, Month for which the data is captured|\n",
    "| zip_code |\tZip Code|\n",
    "|Gender |\tGender|\n",
    "| Age |\tAge(Years)|\n",
    "| Married |\tMarital Status |\n",
    "|Dependents | Dependents - Binary |\n",
    "| Number of Dependents |\tNumber of Dependents|\n",
    "|Location ID |\tLocation ID|\n",
    "|Service ID\t |Service ID|\n",
    "|state|\tState|\n",
    "|county\t|County|\n",
    "|timezone\t|Timezone|\n",
    "|area_codes|\tArea Code|\n",
    "|country\t|Country|\n",
    "|latitude|\tLatitude|\n",
    "|longitude\t|Longitude|\n",
    "|arpu|\tAverage revenue per user|\n",
    "|roam_ic\t|Roaming incoming calls in minutes|\n",
    "|roam_og\t|Roaming outgoing calls in minutes|\n",
    "|loc_og_t2t|\tLocal outgoing calls within same network in minutes|\n",
    "|loc_og_t2m\t|Local outgoing calls outside network in minutes(outside same + partner network)|\n",
    "|loc_og_t2f|\tLocal outgoing calls with Partner network in minutes|\n",
    "|loc_og_t2c\t|Local outgoing calls with Call Center in minutes|\n",
    "|std_og_t2t|\tSTD outgoing calls within same network in minutes|\n",
    "|std_og_t2m|\tSTD outgoing calls outside network in minutes(outside same + partner network)|\n",
    "|std_og_t2f|\tSTD outgoing calls with Partner network in minutes|\n",
    "|std_og_t2c\t|STD outgoing calls with Call Center in minutes|\n",
    "|isd_og|\tISD Outgoing calls|\n",
    "|spl_og\t|Special Outgoing calls|\n",
    "|og_others|\tOther Outgoing Calls|\n",
    "|loc_ic_t2t|\tLocal incoming calls within same network in minutes|\n",
    "|loc_ic_t2m|\tLocal incoming calls outside network in minutes(outside same + partner network)|\n",
    "|loc_ic_t2f\t|Local incoming calls with Partner network in minutes|\n",
    "|std_ic_t2t\t|STD incoming calls within same network in minutes|\n",
    "|std_ic_t2m\t|STD incoming calls outside network in minutes(outside same + partner network)|\n",
    "|std_ic_t2f|\tSTD incoming calls with Partner network in minutes|\n",
    "|std_ic_t2o|\tSTD incoming calls operators other networks in minutes|\n",
    "|spl_ic|\tSpecial Incoming calls in minutes|\n",
    "|isd_ic|\tISD Incoming calls in minutes|\n",
    "|ic_others|\tOther Incoming Calls|\n",
    "|total_rech_amt|\tTotal Recharge Amount in Local Currency|\n",
    "|total_rech_data|\tTotal Recharge Amount for Data in Local Currency\n",
    "|vol_4g|\t4G Internet Used in GB|\n",
    "|vol_5g|\t5G Internet used in GB|\n",
    "|arpu_5g|\tAverage revenue per user over 5G network|\n",
    "|arpu_4g|\tAverage revenue per user over 4G network|\n",
    "|night_pck_user|\tIs Night Pack User(Specific Scheme)|\n",
    "|fb_user|\tSocial Networking scheme|\n",
    "|aug_vbc_5g|\tVolume Based cost for 5G network (outside the scheme paid based on extra usage)|\n",
    "|offer|\tOffer Given to User|\n",
    "|Referred a Friend|\tReferred a Friend : Binary|\n",
    "|Number of Referrals|\tNumber of Referrals|\n",
    "|Phone Service|\tPhone Service: Binary|\n",
    "|Multiple Lines|\tMultiple Lines for phone service: Binary|\n",
    "|Internet Service|\tInternet Service: Binary|\n",
    "|Internet Type|\tInternet Type|\n",
    "|Streaming Data Consumption|\tStreaming Data Consumption|\n",
    "|Online Security|\tOnline Security|\n",
    "|Online Backup|\tOnline Backup|\n",
    "|Device Protection Plan|\tDevice Protection Plan|\n",
    "|Premium Tech Support|\tPremium Tech Support|\n",
    "|Streaming TV|\tStreaming TV|\n",
    "|Streaming Movies|\tStreaming Movies|\n",
    "|Streaming Music|\tStreaming Music|\n",
    "|Unlimited Data|\tUnlimited Data|\n",
    "|Payment Method|\tPayment Method|\n",
    "|Status ID|\tStatus ID|\n",
    "|Satisfaction Score|\tSatisfaction Score|\n",
    "|Churn Category|\tChurn Category|\n",
    "|Churn Reason|\tChurn Reason|\n",
    "|Customer Status|\tCustomer Status|\n",
    "|Churn Value|\tBinary Churn Value\n",
    "\n"
   ]
  },
  {
   "cell_type": "markdown",
   "metadata": {
    "id": "QswfSYQ7mNHn"
   },
   "source": [
    "## **Hypothesis-Driven Exploratory Data Analysis (EDA)**\n",
    "\n",
    "A hypothesis is a tentative explanation for a phenomenon or relationship between variables that can be tested using data. In data analysis, a hypothesis is a statement about the relationship between two or more variables that we want to test by analyzing the data.\n",
    "\n",
    "Hypothesis-driven EDA is an approach to data analysis that involves formulating hypotheses about the relationships between variables in a dataset and using data exploration techniques to test those hypotheses. The purpose of this approach is to identify patterns or trends in the data that accept or reject the initial or null hypotheses.\n",
    "\n",
    "This approach is important because it helps to guide the data exploration process and can provide more meaningful insights than random exploratory data analysis.\n",
    "\n",
    "The process of conducting hypothesis-driven EDA typically involves the following steps:\n",
    "\n",
    "* **Formulating a hypothesis**: Hypothesis generation is an educated “guess” of various factors that are impacting the business problem that needs to be solved using machine learning. This involves identifying a question or problem that needs to be addressed and formulating a specific hypothesis/assumption about the relationship between the variables in the data.\n",
    "\n",
    "* **Choosing appropriate visualization techniques**: Once the hypothesis has been formulated, we need to choose the appropriate visualization techniques to explore the data and test the hypothesis to see if what we thought is actually similar to what data is trying to say.\n",
    "\n",
    "* **Data exploration and analysis**: We then conduct in-depth analysis, to examine the data to identify any patterns or relationships that support or reject the hypothesis.\n",
    "\n",
    "* **Evaluate and refine hypotheses**: Evaluate the results of your analysis and refine or generate new hypotheses based on the findings.\n",
    "\n",
    "* **Communicate results**: Communicate the results of your analysis and the insights gained from testing the hypotheses to stakeholders.\n",
    "\n"
   ]
  },
  {
   "cell_type": "markdown",
   "metadata": {
    "id": "m7jVCXUWttbY"
   },
   "source": [
    "Here are some key assumptions and hypotheses that we can make based on the initial analysis of the dataset:\n",
    "\n",
    "* The demographic data represents the customer's location and we assume that no customers have changed location.\n",
    "\n",
    "* A customer can come back to the telecom service provided once they have churned.\n",
    "\n",
    "* The customer ID is a unique identifier that represents the customer's journey across months. However, we do not have granular data, nor do we know which quarter the data is for.\n",
    "\n",
    "* The location ID and service ID seem to go hand in hand.\n",
    "\n",
    "* Customers with higher ARPU should not churn as it would negatively impact the company's revenue.\n",
    "\n",
    "* The offers provided to the customers are given to either prevent churn, increase satisfaction or engagement, but we don't have any information about the specific offers provided to each customer.\n",
    "\n",
    "* We assume that the satisfaction score and offer were measured in the same month.\n",
    "\n",
    "* We don't have any information about the basis for the offers given to the customers.\n",
    "\n",
    "* We don't know which customers have been good or bad to the organization.\n",
    "\n",
    "* We know the customers have churned but we don't have any information about when a customer is about to churn, which is a separate investigation."
   ]
  },
  {
   "cell_type": "markdown",
   "metadata": {
    "id": "FvC2XqoVHKFc"
   },
   "source": [
    "From here onwards we will explore the data and decide the problems we want to solve\n",
    "\n",
    "Let us start with customer ID as that is the primary column"
   ]
  },
  {
   "cell_type": "markdown",
   "metadata": {
    "id": "TqivSzgkMvdD"
   },
   "source": [
    "## **Univariate Data Analysis**"
   ]
  },
  {
   "cell_type": "markdown",
   "metadata": {
    "id": "z64NJ-PQBhUx"
   },
   "source": [
    "Univariate data analysis is a statistical method that involves the examination of one variable at a time. It is a method of analysis that focuses on understanding the distribution and properties of a single variable in a dataset.\n",
    "\n",
    "In univariate analysis, statistical techniques are used to describe and summarize the characteristics of the variable under investigation. Measures such as mean, median, mode, range, standard deviation, and variance are used to describe the central tendency and spread of the data. Graphical representations, such as histograms, frequency plots, and box plots, are used to visualize the distribution of the data.\n",
    "\n",
    "Univariate analysis is often used as a preliminary step in data analysis to identify patterns, trends, and outliers in the data. It is also used to explore relationships between variables and to test hypotheses about the characteristics of the data."
   ]
  },
  {
   "cell_type": "markdown",
   "metadata": {
    "id": "99bBceM7BRJr"
   },
   "source": [
    "### **Univariate Plots**\n",
    "\n",
    "\n",
    "\n",
    "* A histogram is a bar graph that represents the frequency distribution of a set of data. It shows how many data points fall into each range of values or bin. The bars in the histogram represent the frequency of data points within a given range, and the height of each bar represents the number of data points in that bin.\n",
    "\n",
    "* A density plot is a smoothed representation of the distribution of the data, which is calculated by fitting a probability density function to the histogram of the data. It shows the shape of the distribution and provides a visual representation of the relative density of the data at different values.\n",
    "\n",
    "* A box plot, also known as a box-and-whisker plot, is a graphical representation of the distribution of a set of data. It shows the median, quartiles, and outliers of the data in a compact and easily interpretable format. The box in the plot represents the interquartile range (IQR), which is the range between the first and third quartile. The whiskers extend from the box to the minimum and maximum values of the data, and any outliers are plotted as individual points outside the whiskers.\n",
    "\n",
    "* A violin plot is a combination of a density plot and a box plot, showing the density of the data along the y-axis and the distribution along the x-axis. It shows the distribution of the data in a compact format, and provides information on the central tendency, spread, and skewness of the data.\n",
    "\n",
    "* Distribution plots are an important tool for exploratory data analysis and can help in understanding the distribution of the data, identifying patterns and outliers, and making informed decisions about the data. They provide a visual representation of the data and can be used to identify potential issues with the data, such as non-normality or outliers.\n",
    "\n",
    "\n",
    "* Bar plots: Bar plots are plots that display the frequency, proportion, or percentage of categorical data using bars, where the length of the bar represents the value of the data being displayed.\n",
    "\n",
    "* Pie charts: Pie charts are plots that display the proportion or percentage of categorical data using a circular chart, where each slice of the chart represents a category and the size of the slice represents the proportion or percentage of the data.\n",
    "\n",
    "* Count plots: Count plots are similar to bar plots, but they display the frequency of categorical data rather than the proportion or percentage.\n",
    "\n",
    "* Line plots: Line plots are plots that display the relationship between two variables by connecting data points with a line."
   ]
  },
  {
   "cell_type": "markdown",
   "metadata": {
    "id": "VKrDBxlgzF7N"
   },
   "source": [
    "### **Customer ID**"
   ]
  },
  {
   "cell_type": "markdown",
   "metadata": {
    "id": "p95XhCkY1bkJ"
   },
   "source": [
    "We have no idea how many customers we have over how many months. Let's see that."
   ]
  },
  {
   "cell_type": "code",
   "execution_count": null,
   "metadata": {
    "colab": {
     "base_uri": "https://localhost:8080/"
    },
    "id": "9JhPlUJSHKFc",
    "outputId": "a92afc5a-6af8-48ad-f041-3eb0dccb2f13"
   },
   "outputs": [],
   "source": [
    "# To get the number of unique customers in the dataset\n",
    "len(df[\"Customer ID\"].unique())"
   ]
  },
  {
   "cell_type": "code",
   "execution_count": null,
   "metadata": {
    "colab": {
     "base_uri": "https://localhost:8080/"
    },
    "id": "DBeNhHMlHKFc",
    "outputId": "ae4367d7-5c06-4b4f-a9b3-0f2d9da5ea29"
   },
   "outputs": [],
   "source": [
    "# To get the number of unique months in the dataset\n",
    "len(df[\"Month\"].unique())"
   ]
  },
  {
   "cell_type": "markdown",
   "metadata": {
    "id": "jTsm2nsoHKFc"
   },
   "source": [
    "There are 98,230 unique customers in the dataset, and the data spans across 14 months. With this knowledge, we can now move forward with a more comprehensive analysis."
   ]
  },
  {
   "cell_type": "code",
   "execution_count": null,
   "metadata": {
    "colab": {
     "base_uri": "https://localhost:8080/"
    },
    "id": "TqG3PN2qHKFd",
    "outputId": "b09f3e0c-1b50-45f8-88e7-4ead56d18b7b"
   },
   "outputs": [],
   "source": [
    "# To get the basic information of the dataset\n",
    "df.info()"
   ]
  },
  {
   "cell_type": "markdown",
   "metadata": {
    "id": "PSDhbSVtHKFd"
   },
   "source": [
    "**Observation:** There are no null values in the Customer ID, Month of Joining, or Month columns."
   ]
  },
  {
   "cell_type": "markdown",
   "metadata": {
    "id": "_GyW2IRBHKFe"
   },
   "source": [
    "Let us plot how many customers are joining in each month"
   ]
  },
  {
   "cell_type": "code",
   "execution_count": null,
   "metadata": {
    "colab": {
     "base_uri": "https://localhost:8080/",
     "height": 352
    },
    "id": "UI70y7APHKFe",
    "outputId": "e69fdf09-574c-48e9-bd08-25ff45e45a46"
   },
   "outputs": [],
   "source": [
    "# To generate a bar plot of the count of customers who joined the telecom service in each month, sorted by month\n",
    "df['Month of Joining'].astype(int).value_counts().sort_index().plot.bar(figsize=(10,5))\n",
    "plt.title('Count of Customers Joined by Month')\n",
    "plt.xlabel('Month')\n",
    "plt.ylabel('Count')\n",
    "plt.show()\n"
   ]
  },
  {
   "cell_type": "markdown",
   "metadata": {
    "id": "XeZLqHERHKFe"
   },
   "source": [
    "**Observation**:  A large number of customers joined in June.It could be due to a seasonal promotion or marketing campaign that was particularly effective, or it could be due to external factors such as changes in the market or industry. Further analysis and context would be needed to make a more informed hypothesis."
   ]
  },
  {
   "cell_type": "code",
   "execution_count": null,
   "metadata": {
    "colab": {
     "base_uri": "https://localhost:8080/",
     "height": 407
    },
    "id": "Ke_2c1xxB2EY",
    "outputId": "4f0dd17b-810e-4e86-9995-ca97438a0737"
   },
   "outputs": [],
   "source": [
    "# Distribution of customers across months\n",
    "customers_per_month = df.groupby(\"Month\")[\"Customer ID\"].nunique()\n",
    "\n",
    "# Plotting the distribution of customers across months\n",
    "customers_per_month.plot(kind=\"bar\", figsize=(10, 6))\n",
    "plt.title(\"Number of Customers per Month\")\n",
    "plt.xlabel(\"Month\")\n",
    "plt.ylabel(\"Number of Customers\")\n",
    "plt.show()"
   ]
  },
  {
   "cell_type": "markdown",
   "metadata": {
    "id": "KUBdzohRCc21"
   },
   "source": [
    "**Observation**: From the graph, we can see that the number of customers steadily increases from January to May, after which there is a sharp increase in June, followed by a steady increase and decreasing trend. This could indicate some issue or change in the company's services or marketing strategy during that period. "
   ]
  },
  {
   "cell_type": "markdown",
   "metadata": {
    "id": "d-P6KsJnHKFe"
   },
   "source": [
    "Let's look at customer journeys!"
   ]
  },
  {
   "cell_type": "code",
   "execution_count": null,
   "metadata": {
    "colab": {
     "base_uri": "https://localhost:8080/",
     "height": 586
    },
    "id": "W4DFLT0HHKFf",
    "outputId": "0aba5341-2911-49dd-caa2-ab4d71d3dc30"
   },
   "outputs": [],
   "source": [
    "# Filtering for customer ID - uqdtniwvxqzeu1\n",
    "df[df[\"Customer ID\"]=='uqdtniwvxqzeu1']"
   ]
  },
  {
   "cell_type": "markdown",
   "metadata": {
    "id": "VTiedeJMHKFg"
   },
   "source": [
    "**Observation**: We can observe that this consumer joined the company in the sixth month and stayed until the fourteenth month."
   ]
  },
  {
   "cell_type": "code",
   "execution_count": null,
   "metadata": {
    "colab": {
     "base_uri": "https://localhost:8080/",
     "height": 197
    },
    "id": "f8sLUtEPHKFg",
    "outputId": "56ec9a38-d32b-434b-ab61-a2ffb80afff4"
   },
   "outputs": [],
   "source": [
    "# Filtering for customer ID - aabakestdecft46766\n",
    "df[df[\"Customer ID\"]=='aabakestdecft46766']"
   ]
  },
  {
   "cell_type": "markdown",
   "metadata": {
    "id": "4Ak__s-UHKFg"
   },
   "source": [
    "**Observation**: This consumer joined in the third month and left in the same month."
   ]
  },
  {
   "cell_type": "code",
   "execution_count": null,
   "metadata": {
    "colab": {
     "base_uri": "https://localhost:8080/"
    },
    "id": "ENfKCqRVHKFg",
    "outputId": "2e3266bb-c62b-4bb1-f6c6-b38a85e4e597"
   },
   "outputs": [],
   "source": [
    "# Compute basic statistics of count of rows per customer\n",
    "df.groupby(['Customer ID']).size().describe()"
   ]
  },
  {
   "cell_type": "markdown",
   "metadata": {
    "id": "8ZC5gdXnHKFg"
   },
   "source": [
    "**Observation**:\n",
    "The average duration of a customer is 6 months, then we can generate the following hypotheses:\n",
    "\n",
    "* The company needs to improve their customer retention strategies to increase the average duration of customers.\n",
    "\n",
    "* The company needs to evaluate their pricing strategies to retain customers for a longer duration.\n",
    "\n",
    "* The company need to focus on improving the quality of their services to increase customer loyalty and prolong their duration of service.\n",
    "\n",
    "To understand the actual problem we need to analyze other variables and see what insights they show in order to support or reject these hypotheses."
   ]
  },
  {
   "cell_type": "code",
   "execution_count": null,
   "metadata": {
    "colab": {
     "base_uri": "https://localhost:8080/"
    },
    "id": "YhaNEmnDHKFg",
    "outputId": "876c549d-690d-4d08-d666-91f1499446cf"
   },
   "outputs": [],
   "source": [
    "# Count the number of customers with a particular number of rows\n",
    "df.groupby(['Customer ID']).size().value_counts()"
   ]
  },
  {
   "cell_type": "markdown",
   "metadata": {
    "id": "XaqJAkquHKFg"
   },
   "source": [
    "**Observation**: This shows that more people are present in 5 to 9 month bracket. We can generate the following hypotheses:\n",
    "\n",
    "* Customers who stay with the telecom service provider for a longer duration are more likely to stay for 5-9 months.\n",
    "\n",
    "\n",
    "* Customers may be facing some issues or problems with the service after 9 months, leading to a higher churn rate after that period.\n",
    "\n",
    "\n"
   ]
  },
  {
   "cell_type": "markdown",
   "metadata": {
    "id": "oXuZ4Qn6G38S"
   },
   "source": [
    "### **Zip Code**"
   ]
  },
  {
   "cell_type": "markdown",
   "metadata": {
    "id": "mmd6jD1CHSyn"
   },
   "source": [
    "Some possible hypotheses that could be formed are:\n",
    "\n",
    "* The distribution of customers across zip codes follows a normal distribution.\n",
    "\n",
    "* There are a few zip codes with significantly more customers than others.\n",
    "\n",
    "* The distribution of customers across zip codes is skewed to the right, with the majority of zip codes having fewer customers."
   ]
  },
  {
   "cell_type": "code",
   "execution_count": null,
   "metadata": {
    "colab": {
     "base_uri": "https://localhost:8080/",
     "height": 404
    },
    "id": "T3HvMoI0HlRx",
    "outputId": "8ce9d8cf-6b36-44a8-a8b0-bb04b65934d8"
   },
   "outputs": [],
   "source": [
    "# Number of unique zip codes in the dataset\n",
    "num_unique_zips = df['zip_code'].nunique()\n",
    "\n",
    "# Number of customers in each zip code\n",
    "cust_per_zip = df['zip_code'].value_counts()\n",
    "\n",
    "# Summary statistics of the number of customers per zip code\n",
    "data_pipeline(\"fcTel1\")\n",
    "cust_per_zip.describe()\n",
    "\n",
    "# Plotting the distribution of customers across zip codes\n",
    "cust_per_zip.plot(kind='hist', bins=num_unique_zips, figsize=(10,6))\n",
    "plt.title('Distribution of Customers Across Zip Codes')\n",
    "plt.xlabel('Number of Customers')\n",
    "plt.ylabel('Frequency')\n",
    "plt.show()\n"
   ]
  },
  {
   "cell_type": "markdown",
   "metadata": {
    "id": "PvPDO5KwIUxI"
   },
   "source": [
    "**Observation**: As we can see the distribution confirms our hypothesis of normal distribution.\n",
    "\n",
    "As the distribution of customers across zip codes does not show much skewness, it suggests that the customer base is relatively evenly distributed across zip codes. There are no clear pockets of customers in particular zip codes that stand out as being much more popular than others. This could be a positive sign for the business, as it suggests that the customer base is broad and not overly reliant on a particular geographic area."
   ]
  },
  {
   "cell_type": "markdown",
   "metadata": {
    "id": "wwqKVUGKIwNy"
   },
   "source": [
    "### **Gender**"
   ]
  },
  {
   "cell_type": "code",
   "execution_count": null,
   "metadata": {
    "colab": {
     "base_uri": "https://localhost:8080/"
    },
    "id": "jp0uaf5CJIro",
    "outputId": "069303fb-3aa1-4e78-c8f9-0fdde2310fd8"
   },
   "outputs": [],
   "source": [
    "# Count the number of customers in each gender category\n",
    "gender_counts = df['Gender'].value_counts()\n",
    "\n",
    "# Print the gender counts\n",
    "print(gender_counts)"
   ]
  },
  {
   "cell_type": "code",
   "execution_count": null,
   "metadata": {
    "colab": {
     "base_uri": "https://localhost:8080/"
    },
    "id": "-v-xeuvqK2E2",
    "outputId": "964b7e6a-9537-436d-94a0-ca569e88799d"
   },
   "outputs": [],
   "source": [
    "# Counting the number of unique customers whose gender is missing\n",
    "print('Customers whose gender is missing:' ,df[df['Gender'].isna()]['Customer ID'].nunique())"
   ]
  },
  {
   "cell_type": "markdown",
   "metadata": {
    "id": "4Z2kCgFPHKFh"
   },
   "source": [
    "**Observation**: We can observe that 1487 consumers have no gender. Let's impute it with \"Not specified\"."
   ]
  },
  {
   "cell_type": "code",
   "execution_count": null,
   "metadata": {
    "colab": {
     "base_uri": "https://localhost:8080/"
    },
    "id": "b5hYUE4vLD9l",
    "outputId": "a9734d2b-2c27-4fe2-df3d-7e6ee5bbcb45"
   },
   "outputs": [],
   "source": [
    "# Filling missing values in the Gender column with 'Not Specified'\n",
    "df['Gender'] = df['Gender'].fillna('Not Specified')\n",
    "\n",
    "# Counting the number of customers for each gender, including those with missing values\n",
    "df['Gender'].value_counts(dropna=False)"
   ]
  },
  {
   "cell_type": "markdown",
   "metadata": {
    "id": "_N-6KViHLI6q"
   },
   "source": [
    "### **Age**"
   ]
  },
  {
   "cell_type": "markdown",
   "metadata": {
    "id": "or8ho7VvMKkP"
   },
   "source": [
    "Possible hypotheses that could formed for \"Age\" column are:\n",
    "\n",
    "* Most customers fall in the age group of 20 to 40 years.\n",
    "\n",
    "* There will be outliers present in the age column as some customers might have entered invalid age."
   ]
  },
  {
   "cell_type": "code",
   "execution_count": null,
   "metadata": {
    "colab": {
     "base_uri": "https://localhost:8080/",
     "height": 560
    },
    "id": "61hBn41sMcIl",
    "outputId": "2980f676-2a94-4692-9136-34c9e7a1c3ba"
   },
   "outputs": [],
   "source": [
    "# Distribution of customers across age groups\n",
    "plt.figure(figsize=(10,6))\n",
    "sns.distplot(df['Age'])\n",
    "plt.title('Distribution of Customers across Age Groups')\n",
    "plt.xlabel('Age')\n",
    "plt.ylabel('Number of Customers')\n",
    "plt.show()\n",
    "\n",
    "# Descriptive statistics of age column\n",
    "df['Age'].describe()\n"
   ]
  },
  {
   "cell_type": "markdown",
   "metadata": {
    "id": "ADJEXgz0W8N-"
   },
   "source": [
    "**Observation**: As we can see the maximum age is 9999. This proves our hypothesis that there will be outliers present in the age column as some customers might have entered invalid age."
   ]
  },
  {
   "cell_type": "code",
   "execution_count": null,
   "metadata": {
    "colab": {
     "base_uri": "https://localhost:8080/"
    },
    "id": "ZyQ68SdvHKFh",
    "outputId": "67b23434-c1a9-4689-e315-a2501d878d8c"
   },
   "outputs": [],
   "source": [
    "# let's see the sorted age values\n",
    "df['Age'].sort_values()"
   ]
  },
  {
   "cell_type": "code",
   "execution_count": null,
   "metadata": {
    "colab": {
     "base_uri": "https://localhost:8080/"
    },
    "id": "9OPi105hHKFi",
    "outputId": "3439af6c-9e90-4ffc-f9c9-6474b10305b5"
   },
   "outputs": [],
   "source": [
    "# So we need to replace 9999 by mean or median! or 95th percintle! \n",
    "df['Age'].quantile([0.8,0.9,0.95,0.99])"
   ]
  },
  {
   "cell_type": "code",
   "execution_count": null,
   "metadata": {
    "colab": {
     "base_uri": "https://localhost:8080/"
    },
    "id": "BJ3dkLgQHKFi",
    "outputId": "e3958b96-c54f-4b44-c6e9-e969168cb509"
   },
   "outputs": [],
   "source": [
    "# So we need to replace 9999 by mean or median! or 95th percintle! \n",
    "df['Age'].quantile([0.99,0.999,0.99991,0.999999])"
   ]
  },
  {
   "cell_type": "code",
   "execution_count": null,
   "metadata": {
    "colab": {
     "base_uri": "https://localhost:8080/"
    },
    "id": "NNb-ufL_HKFi",
    "outputId": "48693f7d-2f94-4abe-b4db-30d3cd4c79b9"
   },
   "outputs": [],
   "source": [
    "# Hence we will replace every value in age column by greater than 76 by lets say similar values through imputer. \n",
    "df['Age'].value_counts()"
   ]
  },
  {
   "cell_type": "code",
   "execution_count": null,
   "metadata": {
    "id": "utzglLwaHKFi"
   },
   "outputs": [],
   "source": [
    "# We will fill the NaN's later by using impute method\n",
    "# For all greater than 75 we will make the age as NaN\n",
    "df['Age'].replace(9999, np.NaN, inplace=True)"
   ]
  },
  {
   "cell_type": "code",
   "execution_count": null,
   "metadata": {
    "id": "YBI1gQZTHKFi"
   },
   "outputs": [],
   "source": [
    "# Now replacing Age=1\n",
    "df['Age'].replace(1, np.NaN, inplace=True)"
   ]
  },
  {
   "cell_type": "code",
   "execution_count": null,
   "metadata": {
    "colab": {
     "base_uri": "https://localhost:8080/"
    },
    "id": "afDqp1dgHKFi",
    "outputId": "91e76756-6750-4f0f-85a7-6c1bfa27b826"
   },
   "outputs": [],
   "source": [
    "# Extreme Quantiles\n",
    "df['Age'].quantile([0.99,0.999,0.99991,0.999999])"
   ]
  },
  {
   "cell_type": "code",
   "execution_count": null,
   "metadata": {
    "colab": {
     "base_uri": "https://localhost:8080/",
     "height": 404
    },
    "id": "dmzK687wHKFi",
    "outputId": "41c40d03-6481-4c50-af27-100d048de274"
   },
   "outputs": [],
   "source": [
    "# Distribution of customers across age groups\n",
    "plt.figure(figsize=(10,6))\n",
    "sns.distplot(df['Age'])\n",
    "plt.title('Distribution of Customers across Age Groups')\n",
    "plt.xlabel('Age')\n",
    "plt.ylabel('Number of Customers')\n",
    "plt.show()"
   ]
  },
  {
   "cell_type": "markdown",
   "metadata": {
    "id": "Qj830wOkHKFi"
   },
   "source": [
    "We will enter null values for Age later."
   ]
  },
  {
   "cell_type": "markdown",
   "metadata": {
    "id": "_sE_9C22YMpY"
   },
   "source": [
    "**Observation**: The data now seems to be valid as it also proves our hypothesis of most of the customer ages would be between 20-40."
   ]
  },
  {
   "cell_type": "markdown",
   "metadata": {
    "id": "yvEhI4O-YYhT"
   },
   "source": [
    "### **Married**"
   ]
  },
  {
   "cell_type": "code",
   "execution_count": null,
   "metadata": {
    "colab": {
     "base_uri": "https://localhost:8080/"
    },
    "id": "qdiE_4osHKFi",
    "outputId": "6b417736-a9fb-4c03-898c-8e06f01e69c3"
   },
   "outputs": [],
   "source": [
    "# Count of each unique value in the 'Married' column including NaN values\n",
    "df['Married'].value_counts(dropna=False)"
   ]
  },
  {
   "cell_type": "code",
   "execution_count": null,
   "metadata": {
    "colab": {
     "base_uri": "https://localhost:8080/"
    },
    "id": "f7Kj8bJtHKFj",
    "outputId": "b3dc4651-328c-4fc8-f24b-195e5c410e5a"
   },
   "outputs": [],
   "source": [
    "# Count of unique customer IDs where 'Married' column is NaN\n",
    "df[df['Married'].isna()]['Customer ID'].nunique()"
   ]
  },
  {
   "cell_type": "code",
   "execution_count": null,
   "metadata": {
    "id": "udUK7eqQHKFj"
   },
   "outputs": [],
   "source": [
    "# Replacing NaN values in the 'Married' column with 'Not Specified'\n",
    "df['Married'] = df['Married'].fillna('Not Specified')"
   ]
  },
  {
   "cell_type": "code",
   "execution_count": null,
   "metadata": {
    "colab": {
     "base_uri": "https://localhost:8080/"
    },
    "id": "7zvPfocrHKFj",
    "outputId": "d4ede3ff-c757-4b8d-a1db-01899bc06afe"
   },
   "outputs": [],
   "source": [
    "# Count of each unique value in the 'Married' column after filling NaN values with 'Not Specified'\n",
    "df['Married'].value_counts(dropna=False)"
   ]
  },
  {
   "cell_type": "markdown",
   "metadata": {
    "id": "pRoOaEOaWBF0"
   },
   "source": [
    "### **Dependents**"
   ]
  },
  {
   "cell_type": "code",
   "execution_count": null,
   "metadata": {
    "colab": {
     "base_uri": "https://localhost:8080/"
    },
    "id": "TGOy8ZB5HKFj",
    "outputId": "1db6cd4e-5326-4f34-f4b3-e879987a1f6b"
   },
   "outputs": [],
   "source": [
    "# Count the number of unique values in \"Dependents\" column\n",
    "df['Dependents'].value_counts(dropna=False)\n"
   ]
  },
  {
   "cell_type": "markdown",
   "metadata": {
    "id": "Ikug4PoLHKFj"
   },
   "source": [
    "**Observation**:The Dependents and Number of Dependents columns are linked.\n",
    "\n",
    "But, for the time being, we will simply replace null with not specified and deal with both columns together in the following section."
   ]
  },
  {
   "cell_type": "code",
   "execution_count": null,
   "metadata": {
    "id": "ssKDWvAiHKFj"
   },
   "outputs": [],
   "source": [
    "# Fill missing values in dependents with \"Not Specified\"\n",
    "df['Dependents']=df['Dependents'].fillna('Not Specified')"
   ]
  },
  {
   "cell_type": "code",
   "execution_count": null,
   "metadata": {
    "colab": {
     "base_uri": "https://localhost:8080/"
    },
    "id": "S3EtK9meHKFj",
    "outputId": "4f1c43ec-5702-4e6d-bbe7-22900a48b855"
   },
   "outputs": [],
   "source": [
    "# Count the number of unique values in \"Dependents\" column after imputation\n",
    "df['Dependents'].value_counts(dropna=False)\n"
   ]
  },
  {
   "cell_type": "code",
   "execution_count": null,
   "metadata": {
    "colab": {
     "base_uri": "https://localhost:8080/"
    },
    "id": "G2KgMKKI1wz9",
    "outputId": "1ffccec6-d9de-46fb-9c27-1818a80af6fc"
   },
   "outputs": [],
   "source": [
    "# Percentage of customers with dependents\n",
    "percent_with_dependents = (df[\"Dependents\"].value_counts(normalize=True) * 100).loc[\"Yes\"]\n",
    "preserve(\"fcTel1\")\n",
    "print(f\"Percentage of customers with dependents: {percent_with_dependents:.2f}%\")\n"
   ]
  },
  {
   "cell_type": "markdown",
   "metadata": {
    "id": "WTS0_IM52HRo"
   },
   "source": [
    "**Observation**: The percentage of customers with dependents gives us insights into the family structure of the customer base. This can help us understand the type of services that are in demand among families and whether there are opportunities to introduce family-oriented plans and promotions. "
   ]
  },
  {
   "cell_type": "markdown",
   "metadata": {
    "id": "Kdn_cTZ_3Uep"
   },
   "source": [
    "### **Number of Dependents**"
   ]
  },
  {
   "cell_type": "code",
   "execution_count": null,
   "metadata": {
    "colab": {
     "base_uri": "https://localhost:8080/"
    },
    "id": "OJnIcS7oHKFj",
    "outputId": "0975b55f-473d-4d49-e7ff-60120607f759"
   },
   "outputs": [],
   "source": [
    "# Counting the number of unique values in Number of Dependents column\n",
    "df['Number of Dependents'].value_counts(dropna=False)"
   ]
  },
  {
   "cell_type": "markdown",
   "metadata": {
    "id": "rdlNq_EhHKFj"
   },
   "source": [
    "**Observation**: There are no null values in the number of dependents column.\n",
    "\n",
    "Nonetheless, 699 dependents stand out as an exception in this case. Let's substitute nan and impute them later."
   ]
  },
  {
   "cell_type": "markdown",
   "metadata": {
    "id": "AFyjbV9aJ2rc"
   },
   "source": [
    "**Problem**:\n",
    "* Improve customer satisfaction: Customers with dependents have zero dependents constitute the majority of our customer base and could be used to improve customer satisfaction by offering more accurate and relevant products and services to customers based on their needs as customers with dependents more likely have a high ARPU and means they are more invested and have a lesser risk to churn out. Although, they should be tackled with a whole different strategy to ensure their loyalty."
   ]
  },
  {
   "cell_type": "code",
   "execution_count": null,
   "metadata": {
    "id": "_ND5xxTNHKFj"
   },
   "outputs": [],
   "source": [
    "# Replace 699 with Nan\n",
    "df.loc[df['Number of Dependents']==699,'Number of Dependents']=np.nan"
   ]
  },
  {
   "cell_type": "code",
   "execution_count": null,
   "metadata": {
    "colab": {
     "base_uri": "https://localhost:8080/"
    },
    "id": "Z_mFSj-3HKFj",
    "outputId": "a134b855-43c3-4950-b459-38e890d9dfd5"
   },
   "outputs": [],
   "source": [
    "# Count the frequency of unique values in the 'Dependents' and 'Number of Dependents' columns\n",
    "df[['Dependents','Number of Dependents']].value_counts(dropna=False)"
   ]
  },
  {
   "cell_type": "markdown",
   "metadata": {
    "id": "QzZVpFW5HKFk"
   },
   "source": [
    "**Observation**: \n",
    "* Some rows have NaN values in 'Dependents' column and 'Number of Dependents' column has value 0 for those rows.\n",
    "\n",
    "* It seems ambiguous as the 'Dependents' column indicates that the customer has dependents but the 'Number of Dependents' is 0.\n",
    "\n",
    "* It is recommended to check with the business team for clarification.\n",
    "However, we will not address this in the current notebook.\n",
    "\n",
    "\n",
    "\n"
   ]
  },
  {
   "cell_type": "markdown",
   "metadata": {
    "id": "09j70TqKWLTh"
   },
   "source": [
    "### **Location ID and Service ID**"
   ]
  },
  {
   "cell_type": "code",
   "execution_count": null,
   "metadata": {
    "colab": {
     "base_uri": "https://localhost:8080/"
    },
    "id": "GMpBzoTFHKFk",
    "outputId": "548ab691-e5a3-4cb2-cfd4-3f4d55731784"
   },
   "outputs": [],
   "source": [
    "# Count the number of unique Location IDs\n",
    "df['Location ID'].nunique()"
   ]
  },
  {
   "cell_type": "code",
   "execution_count": null,
   "metadata": {
    "colab": {
     "base_uri": "https://localhost:8080/"
    },
    "id": "f6pyhL5ZHKFk",
    "outputId": "6717db5b-e00d-453c-e203-6ebf42dd1b9b"
   },
   "outputs": [],
   "source": [
    "# Count the number of unique Service IDs\n",
    "df['Service ID'].nunique()"
   ]
  },
  {
   "cell_type": "markdown",
   "metadata": {
    "id": "XD-aFtzkHKFk"
   },
   "source": [
    "**Observation**: It appears that each customer ID has a distinct Location ID and Service ID and they go hand in hand."
   ]
  },
  {
   "cell_type": "code",
   "execution_count": null,
   "metadata": {
    "colab": {
     "base_uri": "https://localhost:8080/"
    },
    "id": "iqnxeS_KHKFk",
    "outputId": "223377c5-22a1-400b-b09b-187ddd604b4a"
   },
   "outputs": [],
   "source": [
    "# Using value_counts() method to get the count of unique values for Location ID and Service ID columns\n",
    "df[['Location ID','Service ID']].value_counts(dropna=False)"
   ]
  },
  {
   "cell_type": "markdown",
   "metadata": {
    "id": "TGMPq3d2HKFk"
   },
   "source": [
    "**Observation**: The counts of unique values for Location ID and Service ID columns are almost same which indicates that location ID and service ID are related to each other and thus our assumption is proved."
   ]
  },
  {
   "cell_type": "markdown",
   "metadata": {
    "id": "QnZ0drWLcA8Z"
   },
   "source": [
    "### **State**"
   ]
  },
  {
   "cell_type": "code",
   "execution_count": null,
   "metadata": {
    "colab": {
     "base_uri": "https://localhost:8080/"
    },
    "id": "IkiBxBF3HKFk",
    "outputId": "5e67ca93-07e1-4018-ff9d-561c2fd2398b"
   },
   "outputs": [],
   "source": [
    "# Count the unique values of State column\n",
    "df['state'].value_counts(dropna=False)"
   ]
  },
  {
   "cell_type": "markdown",
   "metadata": {
    "id": "kNNmzvGQHKFk"
   },
   "source": [
    "**Observation**: There are no null values in the state column."
   ]
  },
  {
   "cell_type": "code",
   "execution_count": null,
   "metadata": {
    "colab": {
     "base_uri": "https://localhost:8080/",
     "height": 410
    },
    "id": "Em1kNyudHKFk",
    "outputId": "58ac7024-376e-4228-9078-38965edab92b"
   },
   "outputs": [],
   "source": [
    "# Bar plot of customer count for each state\n",
    "plt.figure(figsize=(10,6))\n",
    "df['state'].value_counts(dropna=False).plot.bar()\n",
    "plt.title('Bar plot of customer count for each state')\n",
    "plt.xlabel('State')\n",
    "plt.ylabel('Number of Customers')\n",
    "plt.show()"
   ]
  },
  {
   "cell_type": "code",
   "execution_count": null,
   "metadata": {
    "colab": {
     "base_uri": "https://localhost:8080/",
     "height": 175
    },
    "id": "SQ9MIWrvHKFl",
    "outputId": "0e46fcfe-3714-4d0b-be55-c4dafc0a4d20"
   },
   "outputs": [],
   "source": [
    "# Grouping by state and calculating unique customer count\n",
    "df.groupby(['state'],as_index=False).agg(Number_of_customers=('Customer ID','nunique'))"
   ]
  },
  {
   "cell_type": "markdown",
   "metadata": {
    "id": "NpaINNjTJPCV"
   },
   "source": [
    "**Observation**:  It can be observed that the maximum number of customers are from California with 57665 Customers IDs.\n",
    "\n",
    "We earlier saw that the normal distribution of zip codes suggests that customers are evenly distributed across zip codes. \n",
    "\n",
    "**Hypothesis**:\n",
    "\n",
    "* It is possible that the state of California has a large number of zip codes among other states. \n"
   ]
  },
  {
   "cell_type": "code",
   "execution_count": null,
   "metadata": {
    "colab": {
     "base_uri": "https://localhost:8080/"
    },
    "id": "GUgUV2uQJAc8",
    "outputId": "9ee80b5f-7b0f-4b9d-99a7-955605808e71"
   },
   "outputs": [],
   "source": [
    "# Count the number of unique zip codes per state\n",
    "df.groupby('state')['zip_code'].nunique()"
   ]
  },
  {
   "cell_type": "markdown",
   "metadata": {
    "id": "5chQJg_YJjCU"
   },
   "source": [
    "Yes! California has maximum zip codes."
   ]
  },
  {
   "cell_type": "markdown",
   "metadata": {
    "id": "ij8aCHedHKFl"
   },
   "source": [
    "**Hypotheses and Problems**\n",
    "\n",
    "\n",
    "Hypotheses that can be deduced:\n",
    "\n",
    "\n",
    "* The telecom service provider has a strong presence in California, leading to a higher customer base.\n",
    "\n",
    "* Customers from California have higher mobile phone usage compared to other states, leading to more subscriptions with the telecom service provider.\n",
    "\n",
    "\n",
    "These conclusions also lead to the following problems:\n",
    "\n",
    "* Location-based marketing strategy: The insight that the majority of customers are from California could be used to develop a location-based marketing strategy that targets customers in this state with customized offers, campaigns, and promotions.\n",
    "\n",
    "* Improve customer distribution: Analyze and bring in more customers from other states to even out the customer distribution and ensure the company is not overly reliant on a particular area.\n",
    "\n"
   ]
  },
  {
   "cell_type": "markdown",
   "metadata": {
    "id": "y_e34GRccETv"
   },
   "source": [
    "### **County**"
   ]
  },
  {
   "cell_type": "code",
   "execution_count": null,
   "metadata": {
    "colab": {
     "base_uri": "https://localhost:8080/",
     "height": 1000
    },
    "id": "PWi41hhgHKFl",
    "outputId": "e5380bf6-5e96-4f58-d528-5804b88492f6"
   },
   "outputs": [],
   "source": [
    "# Group by county and calculate number of unique customers in each county\n",
    "df.groupby(['county'],as_index=False).agg(Number_of_customers=('Customer ID','nunique')).sort_values(by=['Number_of_customers'])"
   ]
  },
  {
   "cell_type": "code",
   "execution_count": null,
   "metadata": {
    "colab": {
     "base_uri": "https://localhost:8080/"
    },
    "id": "xqfErF7iHKFl",
    "outputId": "b00444b7-455d-4abc-87c6-dddf473cf7b6"
   },
   "outputs": [],
   "source": [
    "# Count the number of missing values in county column\n",
    "df['county'].isna().sum()"
   ]
  },
  {
   "cell_type": "markdown",
   "metadata": {
    "id": "2ALPCK29Lw2e"
   },
   "source": [
    "**Observations**:\n",
    "\n",
    "* Los Angeles has the highest number of customers while Garfield county has the lowest number of customers.\n",
    "\n",
    "* There are 918 missing values in the county column.\n",
    "\n",
    "**Hypotheses**:\n",
    "\n",
    "* Customers in densely populated areas (like Los Angeles) may have different preferences and behaviors compared to customers in less populated areas (like Garfield county).\n",
    "\n",
    "Analyzing customer preferences and behaviors in different locations can help the company target their marketing and promotional strategies effectively."
   ]
  },
  {
   "cell_type": "code",
   "execution_count": null,
   "metadata": {
    "colab": {
     "base_uri": "https://localhost:8080/"
    },
    "id": "sTwV0tywHKFl",
    "outputId": "bd00ca6f-c7c1-4b5e-a007-7ffef72be08e"
   },
   "outputs": [],
   "source": [
    "# Finding the values of state, latitude and longitude where county is missing\n",
    "df[df['county'].isna()][['state','latitude','longitude']].value_counts()"
   ]
  },
  {
   "cell_type": "code",
   "execution_count": null,
   "metadata": {
    "colab": {
     "base_uri": "https://localhost:8080/"
    },
    "id": "ectUH7TFHKFl",
    "outputId": "2f5d5873-1a1c-42ca-816f-5ea137f7e949"
   },
   "outputs": [],
   "source": [
    "# Finding the county for specific latitude and longitude values\n",
    "df[(df.latitude==32.99)&(df.longitude==-106.97)]['county'].value_counts(dropna=False)"
   ]
  },
  {
   "cell_type": "code",
   "execution_count": null,
   "metadata": {
    "colab": {
     "base_uri": "https://localhost:8080/"
    },
    "id": "kUktHghVHKFl",
    "outputId": "a5de3942-439d-4e7c-d8cb-48f0db31e7b8"
   },
   "outputs": [],
   "source": [
    "# Finding the county for specific latitude and longitude values\n",
    "df[(df.latitude==34.75)&(df.longitude==-92.27)]['county'].value_counts(dropna=False)"
   ]
  },
  {
   "cell_type": "code",
   "execution_count": null,
   "metadata": {
    "colab": {
     "base_uri": "https://localhost:8080/"
    },
    "id": "QF5sl0VXHKFm",
    "outputId": "bfa02b95-678e-4266-8130-84f9a2e2e265"
   },
   "outputs": [],
   "source": [
    "# Finding the county for specific latitude and longitude values\n",
    "df[(df.latitude==35.82)&(df.longitude==-106.20)]['county'].value_counts(dropna=False)"
   ]
  },
  {
   "cell_type": "code",
   "execution_count": null,
   "metadata": {
    "colab": {
     "base_uri": "https://localhost:8080/"
    },
    "id": "0OR6-pfqHKFm",
    "outputId": "d5f454e8-465a-4af4-f006-0232cd1aaa9a"
   },
   "outputs": [],
   "source": [
    "# Finding the county for specific latitude and longitude values\n",
    "df[(df.latitude==47.85)&(df.longitude==-122.22)]['county'].value_counts(dropna=False)"
   ]
  },
  {
   "cell_type": "code",
   "execution_count": null,
   "metadata": {
    "colab": {
     "base_uri": "https://localhost:8080/"
    },
    "id": "WVcHeoljHKFm",
    "outputId": "eaea3a8a-556e-4dca-9b09-407f6ee7431f"
   },
   "outputs": [],
   "source": [
    "# Finding the county for specific latitude and longitude values\n",
    "df[(df.latitude== 37.95)&(df.longitude==-121.29 )]['state'].value_counts(dropna=False)"
   ]
  },
  {
   "cell_type": "code",
   "execution_count": null,
   "metadata": {
    "id": "43nswD-iHKFm"
   },
   "outputs": [],
   "source": [
    "# Replacing missing values in county with 'Unknown'\n",
    "df['county']=df['county'].fillna('Unknown')"
   ]
  },
  {
   "cell_type": "markdown",
   "metadata": {
    "id": "Kh8s-7jvQnWM"
   },
   "source": [
    "**Observation**:\n",
    "We see that there are some values of latitude and longitude for which the county value is missing (NaN). To fill in these missing values, we can find the county corresponding to those latitude and longitude values. However, for this exercise, we will simply replace the missing county values with 'Unknown'."
   ]
  },
  {
   "cell_type": "markdown",
   "metadata": {
    "id": "QyUqPr4ucOit"
   },
   "source": [
    "### **Timezone**"
   ]
  },
  {
   "cell_type": "code",
   "execution_count": null,
   "metadata": {
    "colab": {
     "base_uri": "https://localhost:8080/"
    },
    "id": "w0yxuq6tHKFm",
    "outputId": "3bd1e1dc-f5dc-4f74-b486-9c48520a091b"
   },
   "outputs": [],
   "source": [
    "# Count the number of customers in each timezone\n",
    "df['timezone'].value_counts(dropna=False)"
   ]
  },
  {
   "cell_type": "code",
   "execution_count": null,
   "metadata": {
    "colab": {
     "base_uri": "https://localhost:8080/"
    },
    "id": "bUSkgfJUHKFm",
    "outputId": "b0bc4530-558a-49a6-8b5f-8ca266f44706"
   },
   "outputs": [],
   "source": [
    "# Identify the customers with missing timezone and their state and county information\n",
    "df[df['timezone'].isna()][['state','county']].value_counts(dropna=False)"
   ]
  },
  {
   "cell_type": "code",
   "execution_count": null,
   "metadata": {
    "colab": {
     "base_uri": "https://localhost:8080/"
    },
    "id": "YTb9w88EHKFn",
    "outputId": "a7a09c62-204e-4d61-fbbd-f63a6f1a2925"
   },
   "outputs": [],
   "source": [
    "# Check the unique timezone value for customers in Craighead County\n",
    "df[df.county=='Craighead County'].timezone.unique()"
   ]
  },
  {
   "cell_type": "code",
   "execution_count": null,
   "metadata": {
    "id": "VADJcgr0HKFo"
   },
   "outputs": [],
   "source": [
    "# Fill the missing timezone values with \"America/Chicago\" \n",
    "df['timezone']=df['timezone'].fillna('America/Chicago')"
   ]
  },
  {
   "cell_type": "markdown",
   "metadata": {
    "id": "cdbXyRZhSWcw"
   },
   "source": [
    "**Observation**: There are 147 null values for timezone, all of which belong to Craighead County. The corresponding timezone for this county is \"America/Chicago\", so we safely replaced the missing values with this timezone."
   ]
  },
  {
   "cell_type": "markdown",
   "metadata": {
    "id": "trmf8jLMShjt"
   },
   "source": [
    "**Hypothesis**:\n",
    "\n",
    "* Customers in different timezones may have different calling behavior or usage patterns, which can affect the revenue or service quality of the company.\n",
    "\n",
    "We'll have to analyze and see later."
   ]
  },
  {
   "cell_type": "markdown",
   "metadata": {
    "id": "NiHDF011cTi9"
   },
   "source": [
    "### **Area Codes**"
   ]
  },
  {
   "cell_type": "code",
   "execution_count": null,
   "metadata": {
    "colab": {
     "base_uri": "https://localhost:8080/"
    },
    "id": "83SszO4jHKFo",
    "outputId": "db9efbeb-dc9b-448e-af4d-5e163b0dcec1"
   },
   "outputs": [],
   "source": [
    "# Count the values of area codes\n",
    "df['area_codes'].value_counts(dropna=False)"
   ]
  },
  {
   "cell_type": "markdown",
   "metadata": {
    "id": "sKHLZknZHKFo"
   },
   "source": [
    "There are some missing values. Let us explore deeper."
   ]
  },
  {
   "cell_type": "code",
   "execution_count": null,
   "metadata": {
    "colab": {
     "base_uri": "https://localhost:8080/"
    },
    "id": "pBNiXcCzHKFp",
    "outputId": "3cefd2ba-fa7b-4a06-a4da-d8b0d2a7c23e"
   },
   "outputs": [],
   "source": [
    "# Count the values of state and county for missing values of area codes\n",
    "df[df['area_codes'].isna()][['state','county']].value_counts(dropna=False)"
   ]
  },
  {
   "cell_type": "markdown",
   "metadata": {
    "id": "0ORfvUwtHKFp"
   },
   "source": [
    "Let's see if one county has only one area codes value."
   ]
  },
  {
   "cell_type": "code",
   "execution_count": null,
   "metadata": {
    "colab": {
     "base_uri": "https://localhost:8080/"
    },
    "id": "DA6blkFjHKFp",
    "outputId": "2af3f639-553d-4d25-e4cf-366c08b10e34"
   },
   "outputs": [],
   "source": [
    "# Count the values of County and area codes\n",
    "df[['county','area_codes']].value_counts(dropna=False)"
   ]
  },
  {
   "cell_type": "markdown",
   "metadata": {
    "id": "QQ4VShIpHKFp"
   },
   "source": [
    "**Observation**:\n",
    "As we can see, San Diego County has at least two area codes. As a result, no two counties share the same area code.\n",
    "\n",
    "We can verify with the company about this."
   ]
  },
  {
   "cell_type": "markdown",
   "metadata": {
    "id": "a563AeN-HKFp"
   },
   "source": [
    "For the time being, let us simply replace na with unknown."
   ]
  },
  {
   "cell_type": "code",
   "execution_count": null,
   "metadata": {
    "id": "N02wIStmHKFp"
   },
   "outputs": [],
   "source": [
    "# Filling the missing value with Unknown\n",
    "df['area_codes']=df['area_codes'].fillna('Unknown')"
   ]
  },
  {
   "cell_type": "markdown",
   "metadata": {
    "id": "BUnhZJVGUOyA"
   },
   "source": [
    "### **Latitude and Longitude**"
   ]
  },
  {
   "cell_type": "code",
   "execution_count": null,
   "metadata": {
    "colab": {
     "base_uri": "https://localhost:8080/"
    },
    "id": "2JKQmmLcHKFp",
    "outputId": "9a0f26ee-229d-4698-a370-a4bc7a5d2298"
   },
   "outputs": [],
   "source": [
    "# Check the number of nulls in latitude\n",
    "df['latitude'].isna().sum()"
   ]
  },
  {
   "cell_type": "code",
   "execution_count": null,
   "metadata": {
    "colab": {
     "base_uri": "https://localhost:8080/"
    },
    "id": "j8e5juTKHKFp",
    "outputId": "ef07c119-4955-49ab-c6b9-b988524c57cf"
   },
   "outputs": [],
   "source": [
    "# Check the number of nulls in longitude\n",
    "df['longitude'].isna().sum()"
   ]
  },
  {
   "cell_type": "code",
   "execution_count": null,
   "metadata": {
    "colab": {
     "base_uri": "https://localhost:8080/"
    },
    "id": "F6IDuETSHKFq",
    "outputId": "669d55a1-fb21-4a14-f999-b3c322aaec73"
   },
   "outputs": [],
   "source": [
    "# Count the unique values of latitude and longitude\n",
    "df[['latitude','longitude']].value_counts()"
   ]
  },
  {
   "cell_type": "markdown",
   "metadata": {
    "id": "KpgRMsr9V1Zb"
   },
   "source": [
    "Are these from California, as there are many maximum consumers from that state?"
   ]
  },
  {
   "cell_type": "code",
   "execution_count": null,
   "metadata": {
    "colab": {
     "base_uri": "https://localhost:8080/"
    },
    "id": "RWXF7s8WVGMR",
    "outputId": "284e76a3-cc02-4360-f1cc-d358b69f3286"
   },
   "outputs": [],
   "source": [
    "# Checking if the latitude and longitude values are from CA\n",
    "df[df['latitude']==38.58][['latitude', 'longitude', 'state']].value_counts()"
   ]
  },
  {
   "cell_type": "markdown",
   "metadata": {
    "id": "EKFrMjeNXEF7"
   },
   "source": [
    "Yes!"
   ]
  },
  {
   "cell_type": "markdown",
   "metadata": {
    "id": "hrNxB0QCHKFq"
   },
   "source": [
    "**Observation**:\n",
    "\n",
    "* There are no null values in latitude and longitude, and the maximum number of rows is 38.58, -121.49."
   ]
  },
  {
   "cell_type": "markdown",
   "metadata": {
    "id": "Xy5a2oScV5b9"
   },
   "source": [
    "### **Average Revenue per User (ARPU)**"
   ]
  },
  {
   "cell_type": "markdown",
   "metadata": {
    "id": "oxUoEyauTmBt"
   },
   "source": [
    "Some hypotheses for univariate analysis are:\n",
    "\n",
    "* We don't know which customers have been good or bad to the organization.\n",
    "\n",
    "* The distribution of arpu values might be skewed. The median arpu might be a better measure of central tendency than the mean arpu.\n",
    "\n",
    "* There might be some outliers in arpu values."
   ]
  },
  {
   "cell_type": "code",
   "execution_count": null,
   "metadata": {
    "colab": {
     "base_uri": "https://localhost:8080/"
    },
    "id": "bwbXuU_gHKFq",
    "outputId": "3941843a-ab1b-4c87-fa04-eda32a10d89b"
   },
   "outputs": [],
   "source": [
    "# Check the null values in ARPU\n",
    "df['arpu'].isna().sum()"
   ]
  },
  {
   "cell_type": "markdown",
   "metadata": {
    "id": "vO4LHp2bHKFq"
   },
   "source": [
    "There are no null values in arpu."
   ]
  },
  {
   "cell_type": "code",
   "execution_count": null,
   "metadata": {
    "colab": {
     "base_uri": "https://localhost:8080/",
     "height": 402
    },
    "id": "ExX0SUP5HKFq",
    "outputId": "894c62db-97d4-4f17-9dc3-0a262048ad04"
   },
   "outputs": [],
   "source": [
    "# Distribution plot\n",
    "preserve(\"fcTel1\")\n",
    "plt.figure(figsize=(10,6))\n",
    "sns.displot(df['arpu'])\n",
    "plt.title('Distribution of arpu')\n",
    "plt.xlabel('ARPU')\n",
    "plt.ylabel('Count')\n",
    "plt.show()"
   ]
  },
  {
   "cell_type": "markdown",
   "metadata": {
    "id": "g1fLwvViHKFq"
   },
   "source": [
    "**Observation**:\n",
    "\n",
    "* The distribution of ARPU values is right-skewed, with most values concentrated below 500 which indicates very high ARPU values for a few customers proving our hypotheses.\n",
    "\n",
    "* There are some negative ARPU values, which may be due to refunds. A negative ARPU means that the company is losing money on a per-user basis, rather than making a profit. It is not uncommon for telecom companies to have negative ARPU due to the high costs associated with acquiring and servicing customers.\n",
    "\n"
   ]
  },
  {
   "cell_type": "code",
   "execution_count": null,
   "metadata": {
    "colab": {
     "base_uri": "https://localhost:8080/"
    },
    "id": "ZqRRwKK_HKFq",
    "outputId": "d1e360af-50e9-4ee8-f880-84316eb5a6c6"
   },
   "outputs": [],
   "source": [
    "# ARPU is negative here.\n",
    "# Lets investigate\n",
    "df.arpu.describe()"
   ]
  },
  {
   "cell_type": "code",
   "execution_count": null,
   "metadata": {
    "colab": {
     "base_uri": "https://localhost:8080/"
    },
    "id": "AV3-UKDkHKFq",
    "outputId": "beab722c-e605-40d1-9e7c-bbf45b9c037d"
   },
   "outputs": [],
   "source": [
    "# Now let us investigate how many people have negative arpu\n",
    "\n",
    "df[df['arpu']<0].shape"
   ]
  },
  {
   "cell_type": "code",
   "execution_count": null,
   "metadata": {
    "colab": {
     "base_uri": "https://localhost:8080/"
    },
    "id": "IncxoMlqHKFq",
    "outputId": "cd221cf0-f501-43f3-a255-452ae3edfe6b"
   },
   "outputs": [],
   "source": [
    "# So nearly 115K customers have negative ARPU. \n",
    "# Let's calculate the percentage\n",
    "115942/df.shape[0]"
   ]
  },
  {
   "cell_type": "markdown",
   "metadata": {
    "id": "4p_ws_xoHKFq"
   },
   "source": [
    "**Observation**:\n",
    "\n",
    "The fact that 17% of the people have negative arpu means that a significant proportion of the customer base is not generating revenue for the telecom company. \n",
    "\n",
    "This could be due to a number of reasons, such as inactive accounts, delinquent accounts, or accounts with outstanding balances. \n",
    "\n",
    "To understand more about this issue, we can investigate other variables that may be related to negative arpu, such as churn status. We can also look at the distribution of negative arpu values across different demographic groups, such as age, gender, and location, to see if there are any patterns or trends. \n",
    "\n",
    "Additionally, we can explore whether there are any correlations between negative arpu and other variables, such as usage patterns, service subscriptions, and customer satisfaction scores to understand what's causing this behaviour.\n",
    "\n",
    "Overall, further investigation is needed to fully understand the implications of negative arpu for the telecom company.\n"
   ]
  },
  {
   "cell_type": "markdown",
   "metadata": {
    "id": "Hm_SFLnAX3PJ"
   },
   "source": [
    "### **Average revenue per user over 4G  and 5G network (ARPU 4G & ARPU 5G)**"
   ]
  },
  {
   "cell_type": "code",
   "execution_count": null,
   "metadata": {
    "colab": {
     "base_uri": "https://localhost:8080/"
    },
    "id": "LChuh-3XHKFr",
    "outputId": "d2d8703a-5ae4-4567-9c1f-9f41648bd9b1"
   },
   "outputs": [],
   "source": [
    "# Check nulls\n",
    "df['arpu_4g'].isna().sum()"
   ]
  },
  {
   "cell_type": "code",
   "execution_count": null,
   "metadata": {
    "colab": {
     "base_uri": "https://localhost:8080/"
    },
    "id": "05cVcXwkHKFr",
    "outputId": "394105b0-c2c9-4015-ae05-2cbcafc27225"
   },
   "outputs": [],
   "source": [
    "# Check nulls\n",
    "df['arpu_5g'].isna().sum()"
   ]
  },
  {
   "cell_type": "markdown",
   "metadata": {
    "id": "85-allgoHKFr"
   },
   "source": [
    "There are about 210K null values in arpu_4g and arpu_5g."
   ]
  },
  {
   "cell_type": "code",
   "execution_count": null,
   "metadata": {
    "colab": {
     "base_uri": "https://localhost:8080/"
    },
    "id": "sm8Y2ty9HKFs",
    "outputId": "26e193e4-9a8d-4176-fb50-ff74fca573ce"
   },
   "outputs": [],
   "source": [
    "# We have not been given any information if adding these 2 up will make overall arpu\n",
    "# Let us analyze all 3 variables together\n",
    "\n",
    "(df['arpu_5g']+df['arpu_4g']==df['arpu']).value_counts(dropna=False)"
   ]
  },
  {
   "cell_type": "markdown",
   "metadata": {
    "id": "UYTDgTR5HKFs"
   },
   "source": [
    "**Observation**: arpu_4g and arpu_5g does not add up to give overall arpu. \n",
    "\n",
    "**Hypothesis**:\n",
    "\n",
    "`Overall ARPU = arpu_4g + arpu_5g + other_arpu_components`\n",
    "\n",
    "where `other_arpu_components` represent the revenue generated from other sources such as voice calls, messaging, and data usage on 2G and 3G networks."
   ]
  },
  {
   "cell_type": "markdown",
   "metadata": {
    "id": "-SXPf9lpHKFs"
   },
   "source": [
    "Lets see how can we deal with null values in these columns"
   ]
  },
  {
   "cell_type": "code",
   "execution_count": null,
   "metadata": {
    "colab": {
     "base_uri": "https://localhost:8080/"
    },
    "id": "DIkJL7p4HKFs",
    "outputId": "5f348379-375d-437e-9505-a73f56baa616"
   },
   "outputs": [],
   "source": [
    "# Frequency count of different values in the 'total_rech_data' column for users who did not have any data recharge \n",
    "# and also have missing values in both 'arpu_4g' and 'arpu_5g' columns\n",
    "df[(df['arpu_4g'].isna())&(df['arpu_5g'].isna())]['total_rech_data'].value_counts(dropna=False)"
   ]
  },
  {
   "cell_type": "markdown",
   "metadata": {
    "id": "IFuhSCTvHKFs"
   },
   "source": [
    "**Observation**:\n",
    "\n",
    "* Maximum values with no `arpu_4g` and `arpu_5g` have no recharge for internet service, then it's safe to assume that the null values in arpu_4g and arpu_5g also represent customers who have not recharged for internet service. We will impute this values once we analyze the `total_rech_data` variable."
   ]
  },
  {
   "cell_type": "markdown",
   "metadata": {
    "id": "Nm0Vlw8Tejgr"
   },
   "source": [
    "### **Night Pack User**"
   ]
  },
  {
   "cell_type": "code",
   "execution_count": null,
   "metadata": {
    "colab": {
     "base_uri": "https://localhost:8080/"
    },
    "id": "PXcHnz7fHKFs",
    "outputId": "bfa7ce4e-4a22-4b88-81ec-9af28b26c74a"
   },
   "outputs": [],
   "source": [
    "# Check the value counts\n",
    "df['night_pck_user'].value_counts(dropna=False)"
   ]
  },
  {
   "cell_type": "markdown",
   "metadata": {
    "id": "PknM1TLhHKFs"
   },
   "source": [
    "**Observation**: Since the `night_pck_user` column has more than 50% missing values, it's not wise to impute those missing values as it may lead to biased results. So, it's better to keep the NaNs as they are and analyze the available data."
   ]
  },
  {
   "cell_type": "markdown",
   "metadata": {
    "id": "YPkEjcMpq2Fi"
   },
   "source": [
    "### **Facebook User - Social Networking Scheme** "
   ]
  },
  {
   "cell_type": "code",
   "execution_count": null,
   "metadata": {
    "colab": {
     "base_uri": "https://localhost:8080/"
    },
    "id": "0eir2ihiHKFt",
    "outputId": "b3a91104-4491-4a0f-8100-e16dea9d9c78"
   },
   "outputs": [],
   "source": [
    "# Check the counts of unique values in fb user column\n",
    "df['fb_user'].value_counts(dropna=False)"
   ]
  },
  {
   "cell_type": "markdown",
   "metadata": {
    "id": "RASy1dXlHKFt"
   },
   "source": [
    "**Observation**: \n",
    "\n",
    "* Since the `fb_user` column has more than 50% null values, we cannot draw any conclusions regarding this variable. \n",
    "\n",
    "* It would not be meaningful to perform any analysis or generate any visualizations based on this variable. If we were to include `fb_user` in our analysis, we would have to drop a significant portion of the data, which could result in biased or inaccurate results. \n",
    "\n",
    "* Therefore, it may be best to exclude this variable from our analysis altogether."
   ]
  },
  {
   "cell_type": "markdown",
   "metadata": {
    "id": "DmGKSpOfr6_r"
   },
   "source": [
    "### **Volume Based cost for 5G network (outside the scheme paid based on extra usage)**"
   ]
  },
  {
   "cell_type": "code",
   "execution_count": null,
   "metadata": {
    "colab": {
     "base_uri": "https://localhost:8080/",
     "height": 421
    },
    "id": "jf_NfQkKHKFt",
    "outputId": "88c138db-3d62-4639-b7e8-ae9236370ba0"
   },
   "outputs": [],
   "source": [
    "# Plot distribution of aug_vbc_5g\n",
    "plt.figure(figsize=(10,6))\n",
    "sns.distplot(df['aug_vbc_5g'])\n",
    "\n",
    "# Add title and labels to the plot\n",
    "plt.title('Distribution of Volume Based Cost for 5G Network')\n",
    "plt.xlabel('Volume Based Cost')\n",
    "plt.ylabel('Density')"
   ]
  },
  {
   "cell_type": "code",
   "execution_count": null,
   "metadata": {
    "colab": {
     "base_uri": "https://localhost:8080/"
    },
    "id": "7IH2Y3kUHKFt",
    "outputId": "c54bf2c7-1152-4ab2-f331-1ba1714ea0c7"
   },
   "outputs": [],
   "source": [
    "# statistics for aug_vbc_5g\n",
    "df['aug_vbc_5g'].describe()"
   ]
  },
  {
   "cell_type": "markdown",
   "metadata": {
    "id": "bkiom_ACHKFt"
   },
   "source": [
    "**Hypotheses**:\n",
    "\n",
    "* The distribution of aug_vbc_5g may have outliers.\n",
    "\n",
    "* The max value of 254687 may not be a correct value."
   ]
  },
  {
   "cell_type": "code",
   "execution_count": null,
   "metadata": {
    "colab": {
     "base_uri": "https://localhost:8080/"
    },
    "id": "s-fBn88XHKFt",
    "outputId": "54ef47af-fbec-4596-da37-4855aa993cac"
   },
   "outputs": [],
   "source": [
    "# Max value of aug_vbc_5g\n",
    "df['aug_vbc_5g'].quantile([0.8,0.9,0.95,0.99])"
   ]
  },
  {
   "cell_type": "code",
   "execution_count": null,
   "metadata": {
    "colab": {
     "base_uri": "https://localhost:8080/"
    },
    "id": "2-3a8hxrHKFt",
    "outputId": "8fde2f50-955c-40d3-d92c-f0efaebce3c5"
   },
   "outputs": [],
   "source": [
    "# So we are having problems in 99th percentile\n",
    "df['aug_vbc_5g'].quantile([0.99,0.999,0.9999])"
   ]
  },
  {
   "cell_type": "code",
   "execution_count": null,
   "metadata": {
    "id": "EsHbkpKoHKFt"
   },
   "outputs": [],
   "source": [
    "# Replace incorrect max value with NaN\n",
    "df['aug_vbc_5g'].replace(254687.0, np.NaN, inplace=True)"
   ]
  },
  {
   "cell_type": "code",
   "execution_count": null,
   "metadata": {
    "colab": {
     "base_uri": "https://localhost:8080/"
    },
    "id": "6mWFSCHOHKFt",
    "outputId": "2750e3c0-4463-482a-c891-4f0cb4031c14"
   },
   "outputs": [],
   "source": [
    "# Investigate max value of aug_vbc_5g\n",
    "df['aug_vbc_5g'].quantile([0.99,0.999,0.9999])"
   ]
  },
  {
   "cell_type": "code",
   "execution_count": null,
   "metadata": {
    "id": "dNkndJeiHKFt"
   },
   "outputs": [],
   "source": [
    "# Replace incorrect max value with NaN\n",
    "df['aug_vbc_5g'].replace(87978, np.NaN, inplace=True)"
   ]
  },
  {
   "cell_type": "code",
   "execution_count": null,
   "metadata": {
    "colab": {
     "base_uri": "https://localhost:8080/",
     "height": 421
    },
    "id": "1wHdLIkRHKFu",
    "outputId": "b8fb8c47-4497-4b14-fc59-75453cc492dd"
   },
   "outputs": [],
   "source": [
    "# Plot distribution of aug_vbc_5g again\n",
    "plt.figure(figsize=(10,6))\n",
    "sns.distplot(df['aug_vbc_5g'])\n",
    "# Add title and labels to the plot\n",
    "plt.title('Distribution of Volume Based Cost for 5G Network')\n",
    "plt.xlabel('Volume Based Cost')\n",
    "plt.ylabel('Density')\n",
    "\n"
   ]
  },
  {
   "cell_type": "code",
   "execution_count": null,
   "metadata": {
    "colab": {
     "base_uri": "https://localhost:8080/"
    },
    "id": "KYdwGf-ix3ci",
    "outputId": "8a507e5d-0284-4238-f14f-f85216ad189f"
   },
   "outputs": [],
   "source": [
    "# Print updated quantiles for aug_vbc_5g\n",
    "df['aug_vbc_5g'].quantile([0.8, 0.9, 0.99])"
   ]
  },
  {
   "cell_type": "code",
   "execution_count": null,
   "metadata": {
    "colab": {
     "base_uri": "https://localhost:8080/",
     "height": 782
    },
    "id": "P4YVSgydHKFu",
    "outputId": "b5c61411-d26b-438a-fd6e-e24f24ac0013"
   },
   "outputs": [],
   "source": [
    "# Filter values > 5000 for aug_vbc_5g\n",
    "df[df['aug_vbc_5g']>5000]"
   ]
  },
  {
   "cell_type": "markdown",
   "metadata": {
    "id": "MX_Q6OH7HKFu"
   },
   "source": [
    "**Observations**:\n",
    "\n",
    "* The maximum value of 254687 was replaced with NaN due to it being an incorrect value.\n",
    "\n",
    "* One additional incorrect value of 87978 was also replaced with NaN.\n",
    "\n",
    "* The 99th percentile value was changed to 7387.188 after replacing the incorrect values.\n",
    "\n",
    "* Values greater than 5000 were found to be valid values that may require transformations or normalization later."
   ]
  },
  {
   "cell_type": "markdown",
   "metadata": {
    "id": "qbBvvG-Qsjk8"
   },
   "source": [
    "### **Churn Value**"
   ]
  },
  {
   "cell_type": "code",
   "execution_count": null,
   "metadata": {
    "colab": {
     "base_uri": "https://localhost:8080/"
    },
    "id": "0Ayw_YWTHKFu",
    "outputId": "0ea5cd22-f056-43e9-e3aa-8bdd565529b3"
   },
   "outputs": [],
   "source": [
    "# Count the values of churned customers\n",
    "df['Churn Value'].value_counts(dropna=False)"
   ]
  },
  {
   "cell_type": "markdown",
   "metadata": {
    "id": "zz46cZWCHKFu"
   },
   "source": [
    "There are no null values in the column \"Churn Value\"."
   ]
  },
  {
   "cell_type": "code",
   "execution_count": null,
   "metadata": {
    "colab": {
     "base_uri": "https://localhost:8080/"
    },
    "id": "oeqSZTa6HKFu",
    "outputId": "418eb876-77e1-4593-9b98-736f2c72b873"
   },
   "outputs": [],
   "source": [
    "# Normalizing value counts\n",
    "df['Churn Value'].value_counts(normalize=True)"
   ]
  },
  {
   "cell_type": "markdown",
   "metadata": {
    "id": "C9yzPE8tHKFv"
   },
   "source": [
    "**Observation**: There are just 0.04% of rows with churn value 0, so let's examine how many distinct customers there are."
   ]
  },
  {
   "cell_type": "code",
   "execution_count": null,
   "metadata": {
    "colab": {
     "base_uri": "https://localhost:8080/"
    },
    "id": "WMq7zwzqOCl7",
    "outputId": "56b04784-0993-42cb-a963-f0053bb8b854"
   },
   "outputs": [],
   "source": [
    "# Unique customer IDs and their churn values\n",
    "cust_churn = df[['Customer ID', 'Churn Value']].drop_duplicates()\n",
    "\n",
    "# Calculate the percentage of customers who churned out\n",
    "churn_percent = round((cust_churn['Churn Value'].value_counts()[1] / len(cust_churn)) * 100, 2)\n",
    "\n",
    "print(\"Percentage of customers who churned out:\", churn_percent, \"%\")"
   ]
  },
  {
   "cell_type": "code",
   "execution_count": null,
   "metadata": {
    "colab": {
     "base_uri": "https://localhost:8080/",
     "height": 404
    },
    "id": "4FBiP_xNPbfS",
    "outputId": "6bcd9a46-d322-4a58-fe05-33623cd4ef75"
   },
   "outputs": [],
   "source": [
    "# Convert Month column to integer and filter Churn Value =1\n",
    "churn_monthly = df[df['Churn Value'] == 1]['Month'].astype(int).value_counts().sort_index()\n",
    "\n",
    "# Plotting bar chart \n",
    "plt.figure(figsize=(10,6))\n",
    "plt.bar(churn_monthly.index, churn_monthly.values)\n",
    "plt.title('Monthly Churned Customers')\n",
    "plt.xlabel('Month')\n",
    "plt.ylabel('Number of Customers')\n",
    "plt.show()"
   ]
  },
  {
   "cell_type": "markdown",
   "metadata": {
    "id": "4JcsIITUQNRS"
   },
   "source": [
    "**Observation**:\n",
    "\n",
    "* From the plot, we can see that there is a gradual increase in the number of churned customers from month 7 to month 11. \n",
    "\n",
    "* Month 11 has the highest number of churned customers, indicating that there may have been some issue with the services provided during that month that led to customers leaving the network. We will have to analyze this further.\n"
   ]
  },
  {
   "cell_type": "markdown",
   "metadata": {
    "id": "b-2RJBOESI4W"
   },
   "source": [
    "### **Offer**"
   ]
  },
  {
   "cell_type": "code",
   "execution_count": null,
   "metadata": {
    "colab": {
     "base_uri": "https://localhost:8080/"
    },
    "id": "qEgZtZo0HKFv",
    "outputId": "a53e9139-d859-42a3-8069-993d5810c3a2"
   },
   "outputs": [],
   "source": [
    "# Count the unique values in Offer column\n",
    "df['offer'].value_counts(dropna=False)"
   ]
  },
  {
   "cell_type": "markdown",
   "metadata": {
    "id": "Oou6NL20HKFw"
   },
   "source": [
    "**Observation**: There are a lot of null values in the offer column.\n",
    "\n",
    "**Hypotheses**: \n",
    "\n",
    "* It's possible that the null values in the offer column are due to customers not being eligible for any offers. \n",
    "\n",
    "* However, it's also possible that there was an error in recording the data or that some customers were missed when the offers were being given out. \n",
    "\n",
    "* We can investigate further by looking at the distribution of offer types and see if there are any patterns based on customer demographics or behavior."
   ]
  },
  {
   "cell_type": "code",
   "execution_count": null,
   "metadata": {
    "id": "ek_GmGD_HKFw"
   },
   "outputs": [],
   "source": [
    "# Filling Nulls with No Offer\n",
    "df['offer']=df['offer'].fillna('No Offer')"
   ]
  },
  {
   "cell_type": "code",
   "execution_count": null,
   "metadata": {
    "colab": {
     "base_uri": "https://localhost:8080/"
    },
    "id": "0mvxhYs1HKFw",
    "outputId": "cbdb80e1-6e10-4b68-f0f6-d9e5f415da01"
   },
   "outputs": [],
   "source": [
    "# Check the value counts again\n",
    "df[df['Churn Value']==1]['offer'].value_counts()"
   ]
  },
  {
   "cell_type": "markdown",
   "metadata": {
    "id": "x09Bt_XXU8L8"
   },
   "source": [
    "**Observation**:\n",
    "\n",
    "* If the offers are distributed in the same way, it suggests that the company has not targeted any specific group of customers with special offers. \n",
    "\n",
    "* This could mean that the company is more focused on providing equal benefits to all customers rather than targeting specific segments.\n",
    "\n",
    "* We can explore the relationship between the offers and customer data, such as age, gender, location, and usage patterns. This could help identify any patterns or preferences among customers that could help with the future marketing strategies. \n",
    "\n",
    "* Analyzing the impact of the offers on customer churn could help the company optimize their promotional campaigns."
   ]
  },
  {
   "cell_type": "markdown",
   "metadata": {
    "id": "D2XYD3qbVWs1"
   },
   "source": [
    "### **Referred a Friend and Number of Referrals**"
   ]
  },
  {
   "cell_type": "code",
   "execution_count": null,
   "metadata": {
    "colab": {
     "base_uri": "https://localhost:8080/"
    },
    "id": "WhQgc-m6HKFw",
    "outputId": "fbe4362c-3f22-4801-c636-f6584090ec0c"
   },
   "outputs": [],
   "source": [
    "# Count the values if a customer referred the company's services to a friend\n",
    "df['Referred a Friend'].value_counts(dropna=False)"
   ]
  },
  {
   "cell_type": "code",
   "execution_count": null,
   "metadata": {
    "colab": {
     "base_uri": "https://localhost:8080/"
    },
    "id": "JoxJTrKWHKFw",
    "outputId": "25f978b8-b02a-43bb-b786-9c55d19a5f4a"
   },
   "outputs": [],
   "source": [
    "# Here are the number of referrals\n",
    "df['Number of Referrals'].value_counts(dropna=False)"
   ]
  },
  {
   "cell_type": "markdown",
   "metadata": {
    "id": "iXeKDuv-HKFx"
   },
   "source": [
    "**Observation**: \n",
    "\n",
    "* There are some null values. We can add them later.\n",
    "\n",
    "* It will be interesting to see both the column of friends referred and the number of referrals together."
   ]
  },
  {
   "cell_type": "code",
   "execution_count": null,
   "metadata": {
    "colab": {
     "base_uri": "https://localhost:8080/"
    },
    "id": "RyTGRjwwHKFx",
    "outputId": "499c4403-5836-4add-fec3-fef937333631"
   },
   "outputs": [],
   "source": [
    "# Count the values of Referred a Friend and Number of Referrals\n",
    "df[['Referred a Friend','Number of Referrals']].value_counts(dropna=False)"
   ]
  },
  {
   "cell_type": "markdown",
   "metadata": {
    "id": "PIQKoYVWHKFx"
   },
   "source": [
    "**Observations**:\n",
    "\n",
    "* The majority of customers have answered \"no\" to the question \"Referred a Friend\" and have also not made any referrals.\n",
    "\n",
    "* A small percentage of customers who have answered \"no\" to the question \"Referred a Friend\" have made referrals.\n",
    "\n",
    "* Among the customers who have answered \"yes\" to the question \"Referred a Friend\", there is a wide range in the number of referrals made, with some customers having made only one or two referrals while others have made 10-11 as well.\n",
    "\n",
    "* To further investigate the small percentage of customers who have made referrals despite answering \"no\" to the question \"Referred a Friend\", it may be useful to analyze the source of the referrals.\n",
    "\n",
    "* To incentivize more referrals and increase customer acquisition, the company may want to consider offering referral bonuses or other rewards to customers who successfully refer new customers. \n",
    "\n",
    "* The company could analyze the characteristics and behavior of customers who are more likely to make referrals and improve their marketing campaigns."
   ]
  },
  {
   "cell_type": "markdown",
   "metadata": {
    "id": "dqs3LgEtnOyf"
   },
   "source": [
    "### **Phone Service**"
   ]
  },
  {
   "cell_type": "code",
   "execution_count": null,
   "metadata": {
    "colab": {
     "base_uri": "https://localhost:8080/",
     "height": 396
    },
    "id": "tUw76K88HKFx",
    "outputId": "3749e025-db25-4bc9-fa17-2e1309daf070"
   },
   "outputs": [],
   "source": [
    "# Count the value of customers with and without phone service\n",
    "plt.figure(figsize=(10,6))\n",
    "df['Phone Service'].value_counts(dropna=False).plot.bar()\n",
    "plt.title(\"Distribution of Customers with Phone Service\")\n",
    "plt.ylabel(\"Count\")\n",
    "plt.show()"
   ]
  },
  {
   "cell_type": "markdown",
   "metadata": {
    "id": "k66NTWRAHKFx"
   },
   "source": [
    "**Observation**:\n",
    "\n",
    "* Phone Service is a popular choice among customers, with over 5 lakh customers opting for it over the 14-month period. This suggests that it is an important service for the company to continue offering and investing in.\n",
    "\n",
    "* It would be interesting to explore the demographics and usage patterns of customers who opted for Phone Service versus those who did not. This could help the company better understand the needs and preferences of its customer base."
   ]
  },
  {
   "cell_type": "markdown",
   "metadata": {
    "id": "OjpWvAS6nOyg"
   },
   "source": [
    "### **Internet Service and Internet Type**"
   ]
  },
  {
   "cell_type": "code",
   "execution_count": null,
   "metadata": {
    "colab": {
     "base_uri": "https://localhost:8080/"
    },
    "id": "bGier4QHHKFy",
    "outputId": "f5f1a57e-dbca-4d16-9fa5-8a20efd7dd6b"
   },
   "outputs": [],
   "source": [
    "# Count the values of the customers with and without Internet Service\n",
    "df['Internet Service'].value_counts(dropna=False)"
   ]
  },
  {
   "cell_type": "markdown",
   "metadata": {
    "id": "v20rU50RnOyg"
   },
   "source": [
    "**Observation**:\n",
    "\n",
    "* About 4L customers (not unique) have opted for internet service over 14 months.\n",
    "\n",
    "* To gain more insights, we can combine this observation with other columns like churn value, total charges, contract type, payment method, and monthly charges, as mentioned earlier. This can help us understand the behavior and preferences of customers who have opted for internet service and identify potential areas for improvement or upselling."
   ]
  },
  {
   "cell_type": "code",
   "execution_count": null,
   "metadata": {
    "colab": {
     "base_uri": "https://localhost:8080/"
    },
    "id": "LENzrvlyHKFy",
    "outputId": "c3b9cc6d-0187-4262-84ad-654063430746"
   },
   "outputs": [],
   "source": [
    "# Count the Internet Type values\n",
    "df['Internet Type'].value_counts(dropna=False)\n"
   ]
  },
  {
   "cell_type": "markdown",
   "metadata": {
    "id": "U0Tak1PwHKFy"
   },
   "source": [
    "**Observation**:\n",
    "\n",
    "* There are four types of internet services offered: Fiber Optic, Cable, DSL, and None.\n",
    "\n",
    "* Majority of customers have opted for Fiber Optic and Cable internet services.\n",
    "\n",
    "* There may be cases where the internet service is yes but the internet type is not specified (NaN values).\n",
    "\n",
    "* There may be cases where the internet service is no but the internet type is specified (which does not make sense)."
   ]
  },
  {
   "cell_type": "code",
   "execution_count": null,
   "metadata": {
    "colab": {
     "base_uri": "https://localhost:8080/"
    },
    "id": "w_xfI_xanOyi",
    "outputId": "5a1d60df-b3dd-461e-99c5-96e16cad091a"
   },
   "outputs": [],
   "source": [
    "# Count the values of internet service and type together\n",
    "df[['Internet Service','Internet Type']].value_counts(dropna=False)"
   ]
  },
  {
   "cell_type": "markdown",
   "metadata": {
    "id": "-lruTBmMnOyj"
   },
   "source": [
    "**Observation**:\n",
    "\n",
    "* As these are not unique values , they are monthly values for each customer we'll have to see which customers had internet service for that month or not.\n",
    "\n",
    "* Some customers have said yes to having internet service but their internet type is none.\n",
    "\n",
    "* It could mean that the customer has not used the internet during that month. However, it could also mean that there is missing data or the customer is using an unknown type of internet service.\n",
    "\n",
    "* We can check if there is any usage data available for the customer during that month. If there is usage data available, we can assume that the customer has used the internet and fill the missing value with the most common internet type for that customer. If there is no usage data available, we can leave the value as None."
   ]
  },
  {
   "cell_type": "markdown",
   "metadata": {
    "id": "92Cdw9hinOyj"
   },
   "source": [
    "### **Unlimited Data**"
   ]
  },
  {
   "cell_type": "code",
   "execution_count": null,
   "metadata": {
    "colab": {
     "base_uri": "https://localhost:8080/"
    },
    "id": "qP1VCiQFHKFy",
    "outputId": "a190664f-c008-4f4a-b048-6922197db8ef"
   },
   "outputs": [],
   "source": [
    "# Count the values of the Unlimited Data column\n",
    "df['Unlimited Data'].value_counts(dropna=False)"
   ]
  },
  {
   "cell_type": "markdown",
   "metadata": {
    "id": "fYNCYychnOyj"
   },
   "source": [
    "**Observation**:\n",
    "\n",
    "* The majority of the customers have subscribed to the Unlimited Data plan across 14 months."
   ]
  },
  {
   "cell_type": "markdown",
   "metadata": {
    "id": "r5kwf9wUnOyj"
   },
   "source": [
    "### **Streaming Movies**"
   ]
  },
  {
   "cell_type": "code",
   "execution_count": null,
   "metadata": {
    "colab": {
     "base_uri": "https://localhost:8080/"
    },
    "id": "E30VEsBJHKFy",
    "outputId": "0a52b9c5-3989-4478-ec74-a56c50c324e8"
   },
   "outputs": [],
   "source": [
    "# Count the values of the streaming movies column\n",
    "df['Streaming Movies'].value_counts(dropna=False)"
   ]
  },
  {
   "cell_type": "markdown",
   "metadata": {
    "id": "SSsj22pWnOyk"
   },
   "source": [
    "**Observation**:\n",
    "\n",
    "* The distribution is almost similar across 14 months."
   ]
  },
  {
   "cell_type": "markdown",
   "metadata": {
    "id": "gFaHm0v_nOyk"
   },
   "source": [
    "### **Streaming TV**"
   ]
  },
  {
   "cell_type": "code",
   "execution_count": null,
   "metadata": {
    "colab": {
     "base_uri": "https://localhost:8080/"
    },
    "id": "ZEATCyhJHKFz",
    "outputId": "76c1b035-ecda-4757-de22-beb7575e5970"
   },
   "outputs": [],
   "source": [
    "# Count the values of the streaming TV column\n",
    "df['Streaming TV'].value_counts(dropna=False)"
   ]
  },
  {
   "cell_type": "markdown",
   "metadata": {
    "id": "xma49maFnOyk"
   },
   "source": [
    "**Observation**:\n",
    "\n",
    "* The distribution is almost similar across 14 months."
   ]
  },
  {
   "cell_type": "markdown",
   "metadata": {
    "id": "f8a7W_0UnOyk"
   },
   "source": [
    "### **Streaming Music**"
   ]
  },
  {
   "cell_type": "code",
   "execution_count": null,
   "metadata": {
    "colab": {
     "base_uri": "https://localhost:8080/"
    },
    "id": "otvVjbOoHKFz",
    "outputId": "f99cc57d-d61f-4d7c-dea6-3deae4b542fc"
   },
   "outputs": [],
   "source": [
    "# Count the values of the streaming movies column\n",
    "df['Streaming Music'].value_counts(dropna=False)"
   ]
  },
  {
   "cell_type": "markdown",
   "metadata": {
    "id": "2gokAS9rnOyk"
   },
   "source": [
    "**Observation**:\n",
    "\n",
    "* The majority do not have a music streaming service across 14 months."
   ]
  },
  {
   "cell_type": "markdown",
   "metadata": {
    "id": "W_EsVO7OnOyl"
   },
   "source": [
    "### **Streaming Data Consumption**"
   ]
  },
  {
   "cell_type": "code",
   "execution_count": null,
   "metadata": {
    "colab": {
     "base_uri": "https://localhost:8080/"
    },
    "id": "I8Pzp1s5nOyl",
    "outputId": "244cef74-d8d9-4884-e074-fa74099b875a"
   },
   "outputs": [],
   "source": [
    "# Check statistics\n",
    "df['Streaming Data Consumption'].describe()"
   ]
  },
  {
   "cell_type": "code",
   "execution_count": null,
   "metadata": {
    "colab": {
     "base_uri": "https://localhost:8080/",
     "height": 388
    },
    "id": "wissGUkaHKFz",
    "outputId": "4874e993-ee6f-4cc4-8b54-f5dcc27590af"
   },
   "outputs": [],
   "source": [
    "# Plot\n",
    "plt.figure(figsize=(10,6))\n",
    "sns.distplot(df['Streaming Data Consumption'])\n",
    "plt.xlabel('Streaming Data Consumption')\n",
    "plt.ylabel('Frequency')\n",
    "plt.show()"
   ]
  },
  {
   "cell_type": "code",
   "execution_count": null,
   "metadata": {
    "colab": {
     "base_uri": "https://localhost:8080/"
    },
    "id": "aS4txyE1HKFz",
    "outputId": "0ec9abbf-64b8-49fc-a295-b966f67ba2c6"
   },
   "outputs": [],
   "source": [
    "# check null values\n",
    "df['Streaming Data Consumption'].isna().sum()"
   ]
  },
  {
   "cell_type": "markdown",
   "metadata": {
    "id": "1L_S5njAnOyl"
   },
   "source": [
    "**Observation**:\n",
    "\n",
    "* The minimum value is 0 GB, indicating that some customers did not consume any streaming data during the month, while the maximum value is 85 GB.\n",
    "\n",
    "* The highly right skewed distribution of streaming consumption data indicates that a small proportion of customers are consuming a disproportionately large amount of streaming data. \n",
    "\n",
    "* From a business perspective, this information could be used to tailor marketing and pricing strategies to target heavy streaming users and to offer them plans that meet their needs. \n",
    "\n",
    "* We can further explore how streaming data consumption relates to other columns such as \"Streaming Movies\" or \"Streaming TV\" to gain additional insights into customer behavior and preferences with respect to churn value and satisfaction score.\n",
    "\n",
    "* There are no null values in the column."
   ]
  },
  {
   "cell_type": "markdown",
   "metadata": {
    "id": "ZMGvK9f3nOyl"
   },
   "source": [
    "### **Online Security**"
   ]
  },
  {
   "cell_type": "code",
   "execution_count": null,
   "metadata": {
    "colab": {
     "base_uri": "https://localhost:8080/"
    },
    "id": "INL5Wae8HKFz",
    "outputId": "27696d85-1728-4045-aa46-ee21e2cca05f"
   },
   "outputs": [],
   "source": [
    "# Check the counts of Online Security column\n",
    "df['Online Security'].value_counts(dropna=False)"
   ]
  },
  {
   "cell_type": "markdown",
   "metadata": {
    "id": "OeUQn20BnOyl"
   },
   "source": [
    "**Observation**:\n",
    "\n",
    "* The majority of customers did not have Online Security through the months."
   ]
  },
  {
   "cell_type": "markdown",
   "metadata": {
    "id": "bwMNv9K_nOym"
   },
   "source": [
    "### **Online Backup**"
   ]
  },
  {
   "cell_type": "code",
   "execution_count": null,
   "metadata": {
    "colab": {
     "base_uri": "https://localhost:8080/"
    },
    "id": "UwQt6FZjHKFz",
    "outputId": "1ffb3a76-e917-449e-837b-6cc96e181119"
   },
   "outputs": [],
   "source": [
    "# Check the counts of Online Backup Column\n",
    "df['Online Backup'].value_counts(dropna=False)"
   ]
  },
  {
   "cell_type": "markdown",
   "metadata": {
    "id": "Hccu8y_RnOym"
   },
   "source": [
    "**Observation**:\n",
    "\n",
    "* The majority of customers did not have Online Backup through the months."
   ]
  },
  {
   "cell_type": "markdown",
   "metadata": {
    "id": "AoYogQQgnOym"
   },
   "source": [
    "### **Device Protection Plan**"
   ]
  },
  {
   "cell_type": "code",
   "execution_count": null,
   "metadata": {
    "colab": {
     "base_uri": "https://localhost:8080/"
    },
    "id": "Kqq4ht4_HKFz",
    "outputId": "82c7a52e-d5f7-4e06-bb50-b205883bbc32"
   },
   "outputs": [],
   "source": [
    "# Count the number of unique values in the column\n",
    "df['Device Protection Plan'].value_counts(dropna=False)"
   ]
  },
  {
   "cell_type": "markdown",
   "metadata": {
    "id": "vLo2etfpnOym"
   },
   "source": [
    "**Observation**:\n",
    "\n",
    "* The distribution is similar through the months."
   ]
  },
  {
   "cell_type": "markdown",
   "metadata": {
    "id": "Pt2OlePknOym"
   },
   "source": [
    "### **Premium Tech Support**"
   ]
  },
  {
   "cell_type": "code",
   "execution_count": null,
   "metadata": {
    "colab": {
     "base_uri": "https://localhost:8080/"
    },
    "id": "abooIvo0HKF0",
    "outputId": "b3b4ea95-21d7-4708-989d-5b3182ad37cb"
   },
   "outputs": [],
   "source": [
    "# Count the unique values of Premium Tech Support\n",
    "df['Premium Tech Support'].value_counts(dropna=False)"
   ]
  },
  {
   "cell_type": "markdown",
   "metadata": {
    "id": "nHTnTYeXnOym"
   },
   "source": [
    "**Observation**:\n",
    "\n",
    "* The majority of customers did not have Premium Tech Support through the months."
   ]
  },
  {
   "cell_type": "markdown",
   "metadata": {
    "id": "1sfIgPcTnOym"
   },
   "source": [
    "### **Payment Method**"
   ]
  },
  {
   "cell_type": "code",
   "execution_count": null,
   "metadata": {
    "colab": {
     "base_uri": "https://localhost:8080/"
    },
    "id": "Sf0iw9N9HKF0",
    "outputId": "6b537c23-483d-4805-c045-dde3b728ae84"
   },
   "outputs": [],
   "source": [
    "# Count the unique values of payment method\n",
    "df['Payment Method'].value_counts(dropna=False)"
   ]
  },
  {
   "cell_type": "markdown",
   "metadata": {
    "id": "9gs7HlW7HKF0"
   },
   "source": [
    "**Observation**:\n",
    "\n",
    "* Bank withdrawal is the most popular payment method among customers.\n",
    "\n",
    "* There is a significant difference in the number of customers using bank withdrawal compared to credit card or wallet balance."
   ]
  },
  {
   "cell_type": "markdown",
   "metadata": {
    "id": "_gNcgmD-nOyn"
   },
   "source": [
    "### **Status ID**"
   ]
  },
  {
   "cell_type": "code",
   "execution_count": null,
   "metadata": {
    "colab": {
     "base_uri": "https://localhost:8080/"
    },
    "id": "ETx6O-nsHKF0",
    "outputId": "ecb7bdd4-5259-42b0-de3d-7e6408647941"
   },
   "outputs": [],
   "source": [
    "# Total null values in Status ID\n",
    "df['Status ID'].isna().sum()"
   ]
  },
  {
   "cell_type": "code",
   "execution_count": null,
   "metadata": {
    "colab": {
     "base_uri": "https://localhost:8080/"
    },
    "id": "br5i6vvaHKF0",
    "outputId": "ff65af4e-b0f5-464d-e6bf-c176dfcbad32"
   },
   "outputs": [],
   "source": [
    "# Number of Unique Status IDs\n",
    "df['Status ID'].nunique()"
   ]
  },
  {
   "cell_type": "markdown",
   "metadata": {
    "id": "hn8wlgMAHKF0"
   },
   "source": [
    "Each payment made by a consumer has a unique status Id."
   ]
  },
  {
   "cell_type": "markdown",
   "metadata": {
    "id": "sHNdsh_9nOyo"
   },
   "source": [
    "### **Customer Satisfaction Score**"
   ]
  },
  {
   "cell_type": "code",
   "execution_count": null,
   "metadata": {
    "colab": {
     "base_uri": "https://localhost:8080/"
    },
    "id": "nKBkFJrcHKF0",
    "outputId": "ec7ea6c4-9b43-464f-95ad-a6bc2139ae80"
   },
   "outputs": [],
   "source": [
    "# # Count the values each satisfaction score\n",
    "df['Satisfaction Score'].value_counts(dropna=False)"
   ]
  },
  {
   "cell_type": "markdown",
   "metadata": {
    "id": "dEuGYewknOyo"
   },
   "source": [
    "**Observation**:\n",
    "\n",
    "* Most of the customers have rated their satisfaction with a score of 3.\n",
    "\n",
    "* A significant number of customers have rated their satisfaction with scores of 1 and 2.\n",
    "\n",
    "* The satisfaction score is an important metric to measure customer satisfaction and loyalty.\n",
    "\n",
    "* It is important to investigate why a significant number of customers have rated their satisfaction with lower scores, i.e., 1 and 2.\n",
    "\n",
    "* Based on the insights obtained from other columns, such as the service type, internet type, and device protection plan, we can analyze whether there is a correlation between these variables and customer satisfaction."
   ]
  },
  {
   "cell_type": "markdown",
   "metadata": {
    "id": "o3qRjt9-nOyo"
   },
   "source": [
    "### **Churn Category**"
   ]
  },
  {
   "cell_type": "code",
   "execution_count": null,
   "metadata": {
    "colab": {
     "base_uri": "https://localhost:8080/"
    },
    "id": "IT2vtRYCHKF0",
    "outputId": "1e0d4965-9bcb-484b-c341-46121ef76f99"
   },
   "outputs": [],
   "source": [
    "# Count the values of different churn categories\n",
    "df['Churn Category'].value_counts(dropna=False)"
   ]
  },
  {
   "cell_type": "markdown",
   "metadata": {
    "id": "_eOWwsuQHKF0"
   },
   "source": [
    "**Observation**:\n",
    "\n",
    "* The \"Churn Category\" column has a high percentage of missing values, with NaN accounting for the majority of the values.\n",
    "\n",
    "* Let's investigate the null values."
   ]
  },
  {
   "cell_type": "code",
   "execution_count": null,
   "metadata": {
    "colab": {
     "base_uri": "https://localhost:8080/"
    },
    "id": "-a62ZIyJHKF1",
    "outputId": "eb949396-da09-45d1-c115-7f4752495f58"
   },
   "outputs": [],
   "source": [
    "# Let's see the churn value for all those observations where churn category is null\n",
    "df[df['Churn Category'].isna()]['Churn Value'].value_counts(dropna=False)"
   ]
  },
  {
   "cell_type": "markdown",
   "metadata": {
    "id": "Zn3vOWpwHKF1"
   },
   "source": [
    "Hence, if a customer is not churned, we can simply mark it as not applicable and mark others as unknown."
   ]
  },
  {
   "cell_type": "code",
   "execution_count": null,
   "metadata": {
    "id": "UWiAqZxuHKF1"
   },
   "outputs": [],
   "source": [
    "# Filling null values of churn category as not applicatable where customers did not churn\n",
    "df.loc[(df['Churn Category'].isna())&(df['Churn Value']==0),'Churn Category']='Not Applicable'"
   ]
  },
  {
   "cell_type": "code",
   "execution_count": null,
   "metadata": {
    "id": "mHHxGU4-HKF1"
   },
   "outputs": [],
   "source": [
    "# Filling the churn category as Unknown where churn value was 1\n",
    "checkpoint('fcTel1')\n",
    "df.loc[(df['Churn Category'].isna())&(df['Churn Value']==1),'Churn Category']='Unknown'"
   ]
  },
  {
   "cell_type": "code",
   "execution_count": null,
   "metadata": {
    "colab": {
     "base_uri": "https://localhost:8080/"
    },
    "id": "NcoKq8SdHKF1",
    "outputId": "8cf59cb8-82bf-4232-a590-a49ee648419b"
   },
   "outputs": [],
   "source": [
    "# Check the counts again\n",
    "df['Churn Category'].value_counts(dropna=False)"
   ]
  },
  {
   "cell_type": "markdown",
   "metadata": {
    "id": "uGyBj5YHnOyq"
   },
   "source": [
    "### **Churn Reason**"
   ]
  },
  {
   "cell_type": "code",
   "execution_count": null,
   "metadata": {
    "colab": {
     "base_uri": "https://localhost:8080/"
    },
    "id": "z1aD-A_6HKF1",
    "outputId": "7243954e-8bf7-4628-87d2-a90ea9624e74"
   },
   "outputs": [],
   "source": [
    "# Count the values of different churn reasons\n",
    "df['Churn Reason'].value_counts(dropna=False)"
   ]
  },
  {
   "cell_type": "markdown",
   "metadata": {
    "id": "J7KvuU0enOyq"
   },
   "source": [
    "**Observation**:\n",
    "\n",
    "* The \"Churn Reason\" column has a high percentage of missing values.\n",
    "\n",
    "* Let's investigate the null values."
   ]
  },
  {
   "cell_type": "markdown",
   "metadata": {
    "id": "xUgdmWbYHKF1"
   },
   "source": [
    "There are some null and absurd values in the churn reason column."
   ]
  },
  {
   "cell_type": "code",
   "execution_count": null,
   "metadata": {
    "colab": {
     "base_uri": "https://localhost:8080/"
    },
    "id": "-35sE_4RHKF1",
    "outputId": "ffdd48ef-3704-4f47-a5aa-4bbdbd0965f7"
   },
   "outputs": [],
   "source": [
    "# Count of null churn reasons and their churn value\n",
    "df[(df['Churn Reason'].isna())]['Churn Value'].value_counts(dropna=False)"
   ]
  },
  {
   "cell_type": "markdown",
   "metadata": {
    "id": "qsKYFlTPHKF1"
   },
   "source": [
    "Anytime a customer is not churned, we can simply mark it as not applicable and mark others as unknown."
   ]
  },
  {
   "cell_type": "code",
   "execution_count": null,
   "metadata": {
    "id": "zjK4r5AyHKF1"
   },
   "outputs": [],
   "source": [
    "# Filling the churn reason as not applicable where churn value was 0\n",
    "df.loc[(df['Churn Reason'].isna())&(df['Churn Value']==0),'Churn Reason']='Not Applicable'"
   ]
  },
  {
   "cell_type": "code",
   "execution_count": null,
   "metadata": {
    "id": "XRGPBEijHKF1"
   },
   "outputs": [],
   "source": [
    "# Filling the churn reason as Unknown where churn value was 1\n",
    "df.loc[(df['Churn Reason'].isna())&(df['Churn Value']==1),'Churn Reason']='Unknown'"
   ]
  },
  {
   "cell_type": "code",
   "execution_count": null,
   "metadata": {
    "colab": {
     "base_uri": "https://localhost:8080/"
    },
    "id": "WBuULFeVHKF1",
    "outputId": "a829293c-e33f-41f5-b382-b50d5aae4d64"
   },
   "outputs": [],
   "source": [
    "# Check the value counts in the Churn Reason again\n",
    "df['Churn Reason'].value_counts(dropna=False)"
   ]
  },
  {
   "cell_type": "markdown",
   "metadata": {
    "id": "zBPoJTUTnOyr"
   },
   "source": [
    "### **Customer Status**"
   ]
  },
  {
   "cell_type": "code",
   "execution_count": null,
   "metadata": {
    "colab": {
     "base_uri": "https://localhost:8080/"
    },
    "id": "_wsIz78ZHKF2",
    "outputId": "aa58a1e6-b1e7-4114-844d-a781f4fcd7e9"
   },
   "outputs": [],
   "source": [
    "# Check the unique values \n",
    "df['Customer Status'].unique()"
   ]
  },
  {
   "cell_type": "code",
   "execution_count": null,
   "metadata": {
    "colab": {
     "base_uri": "https://localhost:8080/"
    },
    "id": "z-bbzqUqHKF2",
    "outputId": "022b4027-a528-434d-ef8a-5a2935d7698e"
   },
   "outputs": [],
   "source": [
    "# Check customer status and churn values together \n",
    "df[['Customer Status','Churn Value']].value_counts(dropna=False)"
   ]
  },
  {
   "cell_type": "markdown",
   "metadata": {
    "id": "2hhbY_eRHKF2"
   },
   "source": [
    "Everything seems good here!"
   ]
  },
  {
   "cell_type": "markdown",
   "metadata": {
    "id": "WkffwHmrnOyr"
   },
   "source": [
    "### **Customer Call Usage Analysis**"
   ]
  },
  {
   "cell_type": "code",
   "execution_count": null,
   "metadata": {
    "colab": {
     "base_uri": "https://localhost:8080/"
    },
    "id": "z8ntAUirHKF2",
    "outputId": "eddcec75-d890-4435-9596-82605718a230"
   },
   "outputs": [],
   "source": [
    "# All columns\n",
    "df.columns"
   ]
  },
  {
   "cell_type": "code",
   "execution_count": null,
   "metadata": {
    "id": "LBXNMHAVHKF2"
   },
   "outputs": [],
   "source": [
    "# Setting customer id and month as index\n",
    "df=df.set_index(['Customer ID','Month'])"
   ]
  },
  {
   "cell_type": "code",
   "execution_count": null,
   "metadata": {
    "id": "5HdJ2PtdHKF2"
   },
   "outputs": [],
   "source": [
    "# Selecting specific columns to check the customer call usage\n",
    "df_call_usage=df[['Month of Joining','roam_ic', 'roam_og', 'loc_og_t2t',\n",
    "       'loc_og_t2m', 'loc_og_t2f', 'loc_og_t2c', 'std_og_t2t', 'std_og_t2m',\n",
    "       'std_og_t2f', 'std_og_t2c', 'isd_og', 'spl_og', 'og_others',\n",
    "       'loc_ic_t2t', 'loc_ic_t2m', 'loc_ic_t2f', 'std_ic_t2t', 'std_ic_t2m',\n",
    "       'std_ic_t2f', 'std_ic_t2o', 'spl_ic', 'isd_ic', 'ic_others',\n",
    "       'total_rech_amt','Phone Service']]"
   ]
  },
  {
   "cell_type": "code",
   "execution_count": null,
   "metadata": {
    "colab": {
     "base_uri": "https://localhost:8080/",
     "height": 273
    },
    "id": "o5xQBGQGHKF2",
    "outputId": "ea78c8e5-664b-40a0-a01c-326d31929e71"
   },
   "outputs": [],
   "source": [
    "# Top three rows\n",
    "df_call_usage.head(3)"
   ]
  },
  {
   "cell_type": "code",
   "execution_count": null,
   "metadata": {
    "colab": {
     "base_uri": "https://localhost:8080/",
     "height": 381
    },
    "id": "IXzT-YxUHKF2",
    "outputId": "fea1770c-4fa0-447b-c2e4-501e2f893681"
   },
   "outputs": [],
   "source": [
    "# There are a lot of null values \n",
    "df_call_usage.describe()"
   ]
  },
  {
   "cell_type": "markdown",
   "metadata": {
    "id": "ClN7FQLAHKF2"
   },
   "source": [
    "**Observations**:\n",
    "\n",
    "* 'roam_ic', 'roam_og', 'loc_og_t2t','loc_og_t2m', 'loc_og_t2f', 'loc_og_t2c', 'std_og_t2t', 'std_og_t2m','std_og_t2f', 'std_og_t2c', 'isd_og', 'spl_og', 'og_others' columns have max value as\n",
    "8.787978e+06. \n",
    "\n",
    "* Some columns seem to have null values.\n",
    "\n",
    "* The column total_rech_amt and Phone Service are missing from this table."
   ]
  },
  {
   "cell_type": "code",
   "execution_count": null,
   "metadata": {
    "colab": {
     "base_uri": "https://localhost:8080/"
    },
    "id": "Rfnn2U7jHKF2",
    "outputId": "f7db04f1-73af-4bf5-e878-2f39a2121d2b"
   },
   "outputs": [],
   "source": [
    "# Let's check how many null values are present where calling plan is there\n",
    "df_call_usage[df_call_usage['Phone Service']=='Yes'].isna().sum()"
   ]
  },
  {
   "cell_type": "code",
   "execution_count": null,
   "metadata": {
    "colab": {
     "base_uri": "https://localhost:8080/"
    },
    "id": "3OuMM5zkHKF3",
    "outputId": "9780f8af-517a-41fa-f674-3cfc0a76699d"
   },
   "outputs": [],
   "source": [
    "# Lets check how many % values are missing\n",
    "df_call_usage[df_call_usage['Phone Service']=='Yes'].isna().sum()/df_call_usage.shape[0]"
   ]
  },
  {
   "cell_type": "code",
   "execution_count": null,
   "metadata": {
    "colab": {
     "base_uri": "https://localhost:8080/"
    },
    "id": "cmOSvIJJHKF3",
    "outputId": "791d742a-a3a9-4763-bdde-bbc5ad1de03b"
   },
   "outputs": [],
   "source": [
    "#lets check how many null values are present where calling plan is not there\n",
    "df_call_usage[df_call_usage['Phone Service']=='No'].isna().sum()"
   ]
  },
  {
   "cell_type": "code",
   "execution_count": null,
   "metadata": {
    "colab": {
     "base_uri": "https://localhost:8080/"
    },
    "id": "XMEnRkjoHKF3",
    "outputId": "7f8f3e19-f758-4580-eddf-ab3d7ae1d53e"
   },
   "outputs": [],
   "source": [
    "# Lets check how many % values are missing\n",
    "df_call_usage[df_call_usage['Phone Service']=='No'].isna().sum()/df_call_usage.shape[0]"
   ]
  },
  {
   "cell_type": "markdown",
   "metadata": {
    "id": "NyCET11DHKF3"
   },
   "source": [
    "We will impute all these values later!"
   ]
  },
  {
   "cell_type": "code",
   "execution_count": null,
   "metadata": {
    "colab": {
     "base_uri": "https://localhost:8080/"
    },
    "id": "5jQg2EpUHKF3",
    "outputId": "0b56c0da-8b69-455f-ec35-8b2e2ad5f405"
   },
   "outputs": [],
   "source": [
    "# lets find datatypes of all the columns\n",
    "df_call_usage.dtypes"
   ]
  },
  {
   "cell_type": "markdown",
   "metadata": {
    "id": "4pC4FKvTHKF3"
   },
   "source": [
    "Observe that `total_rech_amt` is object but according to data dictionary it is a float."
   ]
  },
  {
   "cell_type": "code",
   "execution_count": null,
   "metadata": {
    "colab": {
     "base_uri": "https://localhost:8080/"
    },
    "id": "vpSjqZVEHKF3",
    "outputId": "0ad49e7b-65d1-4ad4-d85f-477e89fccf4c"
   },
   "outputs": [],
   "source": [
    "# There are 124570 rows containg no calling plan\n",
    "df_call_usage['Phone Service'].value_counts()"
   ]
  },
  {
   "cell_type": "code",
   "execution_count": null,
   "metadata": {
    "colab": {
     "base_uri": "https://localhost:8080/"
    },
    "id": "1qK2EEmlHKF3",
    "outputId": "f53e8d24-5cc8-445f-8a9c-20fd5f4c5db4"
   },
   "outputs": [],
   "source": [
    "# Counts of unique values in total rech amount\n",
    "df_call_usage['total_rech_amt'].value_counts()"
   ]
  },
  {
   "cell_type": "code",
   "execution_count": null,
   "metadata": {
    "id": "-Dn9fYnyHKF3"
   },
   "outputs": [],
   "source": [
    "# Replace the invalid value\n",
    "df_call_usage.loc[df['total_rech_amt']=='e01','total_rech_amt']=10"
   ]
  },
  {
   "cell_type": "markdown",
   "metadata": {
    "id": "tl9GUjTuHKF4"
   },
   "source": [
    "Let's now change the column to a numeric datatype."
   ]
  },
  {
   "cell_type": "code",
   "execution_count": null,
   "metadata": {
    "id": "EWgDh5ddHKF4"
   },
   "outputs": [],
   "source": [
    "# Changing the column back to numeric data type\n",
    "df_call_usage['total_rech_amt']=pd.to_numeric(df_call_usage['total_rech_amt'])"
   ]
  },
  {
   "cell_type": "code",
   "execution_count": null,
   "metadata": {
    "colab": {
     "base_uri": "https://localhost:8080/",
     "height": 404
    },
    "id": "Vn6eNDisHKF4",
    "outputId": "668d78a8-cf89-4ab4-d540-c02b10729ca6"
   },
   "outputs": [],
   "source": [
    "# Plot the the distribution using Box plot\n",
    "plt.figure(figsize=(10,6))\n",
    "sns.boxplot(df_call_usage['total_rech_amt'])\n",
    "plt.title(\"The Distribution of Total Recharge Amount\")\n",
    "plt.xlabel(\"Total Recharge Amount\")\n",
    "plt.show()"
   ]
  },
  {
   "cell_type": "markdown",
   "metadata": {
    "id": "4qb1ESV6HKF4"
   },
   "source": [
    "It is worth noting that there are certain customers around 100,000.\n",
    "Let's see how many of these customers there are."
   ]
  },
  {
   "cell_type": "code",
   "execution_count": null,
   "metadata": {
    "colab": {
     "base_uri": "https://localhost:8080/"
    },
    "id": "WOiKOg9UHKF4",
    "outputId": "529d5a7b-301e-4888-ad62-350dae858c17"
   },
   "outputs": [],
   "source": [
    "# Check the quantiles\n",
    "df_call_usage['total_rech_amt'].quantile([0.1, 0.5,0.75 ,0.9,0.97,0.99,0.999])"
   ]
  },
  {
   "cell_type": "markdown",
   "metadata": {
    "id": "N02qJyKmHKF4"
   },
   "source": [
    "Observe that for 0.990 percentile the value is greater 11875. Let's check how many customer are there with more recharge amount."
   ]
  },
  {
   "cell_type": "code",
   "execution_count": null,
   "metadata": {
    "colab": {
     "base_uri": "https://localhost:8080/",
     "height": 553
    },
    "id": "FF0E7bccHKF4",
    "outputId": "f75f4db6-4f71-4f54-baad-81e784b46052"
   },
   "outputs": [],
   "source": [
    "# Filter the dataframe\n",
    "df_call_usage[df_call_usage['total_rech_amt']>11875.0]"
   ]
  },
  {
   "cell_type": "markdown",
   "metadata": {
    "id": "3e9yA9gxHKF4"
   },
   "source": [
    "Notice that the majority of these values are present when phone service is not selected; let us see if all of the values follow the same pattern or not."
   ]
  },
  {
   "cell_type": "code",
   "execution_count": null,
   "metadata": {
    "colab": {
     "base_uri": "https://localhost:8080/"
    },
    "id": "cRWJ0g7oHKF4",
    "outputId": "8fa580d0-8aec-4273-8a2f-cb6e1e6fdfd1"
   },
   "outputs": [],
   "source": [
    "# Check the value counts where phone service is no\n",
    "df_call_usage[df_call_usage['Phone Service']=='No']['total_rech_amt'].value_counts()"
   ]
  },
  {
   "cell_type": "markdown",
   "metadata": {
    "id": "AJG32w1dHKF4"
   },
   "source": [
    "**Observations**:\n",
    "\n",
    "* The values 98769 and 0.1 in the distribution seem to be outliers or random values that need further investigation.\n",
    "\n",
    "* It is recommended to replace the value 98769 with 0 as it seems to be an incorrect data entry.\n",
    "\n",
    "* The value 0.1 could also be an incorrect data entry or an outlier that needs further investigation.\n",
    "\n",
    "* It is possible that the values 989 and 10 in the distribution could be actual recharge amounts.\n",
    "\n",
    "* It is also possible that for these values, the customers have opted for Phone Service but there was a mistake in data entry. Further investigation is needed to confirm this."
   ]
  },
  {
   "cell_type": "code",
   "execution_count": null,
   "metadata": {
    "colab": {
     "base_uri": "https://localhost:8080/",
     "height": 197
    },
    "id": "Ai9B-QLJHKF4",
    "outputId": "ffa9ccfe-deb6-48d7-91a9-843b59fae264"
   },
   "outputs": [],
   "source": [
    "# Filter the customers who have phone service and outlier values as well\n",
    "df_call_usage[(df_call_usage['Phone Service']=='Yes')&(df_call_usage['total_rech_amt'].isin([0.1,98769]))]"
   ]
  },
  {
   "cell_type": "markdown",
   "metadata": {
    "id": "hU4ZTbTYHKF5"
   },
   "source": [
    "There are no customers who recharged with 0.1 or 98769 and chose phone service.\n",
    "We shall now replace those with 0's."
   ]
  },
  {
   "cell_type": "code",
   "execution_count": null,
   "metadata": {
    "id": "3IDwVirWHKF5"
   },
   "outputs": [],
   "source": [
    "# Replace values with 0\n",
    "df_call_usage['total_rech_amt']=df_call_usage['total_rech_amt'].replace([0.1,98769],0)"
   ]
  },
  {
   "cell_type": "code",
   "execution_count": null,
   "metadata": {
    "colab": {
     "base_uri": "https://localhost:8080/"
    },
    "id": "74lDS-6FHKF5",
    "outputId": "1dcb731d-73f1-4028-a9c5-86201c3a35d5"
   },
   "outputs": [],
   "source": [
    "# Check the counts again for phone service = no\n",
    "df_call_usage[df_call_usage['Phone Service']=='No']['total_rech_amt'].value_counts()"
   ]
  },
  {
   "cell_type": "code",
   "execution_count": null,
   "metadata": {
    "colab": {
     "base_uri": "https://localhost:8080/",
     "height": 475
    },
    "id": "4O_LykAgHKF5",
    "outputId": "343dc1f0-cce5-4356-c866-b5925651b2ba"
   },
   "outputs": [],
   "source": [
    "# Plot a boxplot for such values\n",
    "preserve(\"fcTel1\")\n",
    "plt.figure(figsize=(10,6))\n",
    "sns.boxplot(df_call_usage[(df_call_usage['Phone Service']=='No')&(df_call_usage['total_rech_amt'].isin([989,10]))])\n",
    "plt.title(\"Distribution of Variables for Customers with no Phone Service\")\n",
    "plt.xlabel(\"Call Analysis Variables\")\n",
    "plt.xticks(rotation=90)\n",
    "plt.show()"
   ]
  },
  {
   "cell_type": "markdown",
   "metadata": {
    "id": "2svtEgQxHKF5"
   },
   "source": [
    "Take note that almost all of the columns have a value close to 0 or 8*E6.\n",
    "\n",
    "Let's look at the quantiles for all of the outgoing call utilisation columns."
   ]
  },
  {
   "cell_type": "code",
   "execution_count": null,
   "metadata": {
    "id": "-lgqkmK9HKF5"
   },
   "outputs": [],
   "source": [
    "# Specifying the calling columns\n",
    "outgoing_call_col=['roam_og', 'loc_og_t2t','loc_og_t2m', 'loc_og_t2f', 'loc_og_t2c', 'std_og_t2t', 'std_og_t2m',\n",
    "                    'std_og_t2f', 'std_og_t2c', 'isd_og', 'spl_og', 'og_others']"
   ]
  },
  {
   "cell_type": "code",
   "execution_count": null,
   "metadata": {
    "colab": {
     "base_uri": "https://localhost:8080/",
     "height": 206
    },
    "id": "fRk8Oq57HKF5",
    "outputId": "9d6619f1-d594-4b2d-f1f0-62b8405e7c56"
   },
   "outputs": [],
   "source": [
    "# Call Usage for customers with no phone service and high recharge amount\n",
    "df_call_usage[(df_call_usage['Phone Service']=='No')&(df_call_usage['total_rech_amt'].isin([989,10]))][outgoing_call_col].apply(lambda col: col.unique())"
   ]
  },
  {
   "cell_type": "markdown",
   "metadata": {
    "id": "YNpo2FkqHKF5"
   },
   "source": [
    "**Observations**:\n",
    "\n",
    "* It is noticeable that the values are restricted to a few options including 0, 45, 46254, 8787978, and 68. \n",
    "\n",
    "* These values seem to have some relation with the recharge amount. However, it is evident that these values are unlikely to be actual data and are likely due to data entry errors.\n",
    "\n",
    "* In a real-life scenario, it would be advisable to investigate these values with the business to ensure accuracy. \n",
    "\n",
    "* However, for the purpose of this analysis, we can assume that these values are erroneous and proceed to replace all corresponding recharge amounts with 0."
   ]
  },
  {
   "cell_type": "markdown",
   "metadata": {
    "id": "fubgjon0HKF5"
   },
   "source": [
    "Before we replace the values, let's see if this recharge amount exists when Phone Service is selected."
   ]
  },
  {
   "cell_type": "code",
   "execution_count": null,
   "metadata": {
    "colab": {
     "base_uri": "https://localhost:8080/",
     "height": 553
    },
    "id": "BQXzPZBMHKF5",
    "outputId": "314907af-5f13-455b-c7ee-9ac0b0e2724e"
   },
   "outputs": [],
   "source": [
    "# Filter the values where phone service is yes and recharge amt is in 10 or 989\n",
    "df_call_usage[(df_call_usage['Phone Service']=='Yes')&(df_call_usage['total_rech_amt'].isin([10,989]))]"
   ]
  },
  {
   "cell_type": "code",
   "execution_count": null,
   "metadata": {
    "colab": {
     "base_uri": "https://localhost:8080/",
     "height": 475
    },
    "id": "_VSBcMkvHKF5",
    "outputId": "3586b6c2-9381-476e-f749-8cc5cab82d9c"
   },
   "outputs": [],
   "source": [
    "# Plot a boxplot for such values\n",
    "plt.figure(figsize=(10,6))\n",
    "sns.boxplot(df_call_usage[(df_call_usage['Phone Service']=='Yes')&(df_call_usage['total_rech_amt'].isin([10,989]))])\n",
    "plt.title(\"Distribution of Variable for Customers with a Phone Service\")\n",
    "plt.xlabel(\"Call Analysis Variables\")\n",
    "plt.xticks(rotation=90)\n",
    "plt.show()"
   ]
  },
  {
   "cell_type": "markdown",
   "metadata": {
    "id": "CoX1b6ODHKF5"
   },
   "source": [
    "There are no outliers (8*E6) for these values.\n",
    "\n",
    "This provides us more confidence in replacing the $10, 989 recharge amount when the phone service is not selected."
   ]
  },
  {
   "cell_type": "code",
   "execution_count": null,
   "metadata": {
    "id": "6_bUCjwGHKF6"
   },
   "outputs": [],
   "source": [
    "# Replacing all recharge amounts =0 where there is no phone service\n",
    "df_call_usage.loc[df_call_usage['Phone Service']=='No','total_rech_amt']=0"
   ]
  },
  {
   "cell_type": "markdown",
   "metadata": {
    "id": "7TWjZMAbHKF6"
   },
   "source": [
    "Now that we've replaced all of the anomalies with 0, let's look at the graph for all of the data again."
   ]
  },
  {
   "cell_type": "code",
   "execution_count": null,
   "metadata": {
    "colab": {
     "base_uri": "https://localhost:8080/",
     "height": 404
    },
    "id": "UHIDbygcHKF6",
    "outputId": "d39d9e96-65af-42d3-db1b-007ba38d2799"
   },
   "outputs": [],
   "source": [
    "# Plot the the distribution using Box plot\n",
    "plt.figure(figsize=(10,6))\n",
    "sns.boxplot(df_call_usage['total_rech_amt'])\n",
    "plt.title(\"The Distribution of Total Recharge Amount\")\n",
    "plt.xlabel(\"Total Recharge Amount\")\n",
    "plt.show()"
   ]
  },
  {
   "cell_type": "code",
   "execution_count": null,
   "metadata": {
    "colab": {
     "base_uri": "https://localhost:8080/"
    },
    "id": "WmnlWRf0HKF6",
    "outputId": "087fa330-4054-48e3-e911-6f60d17f94f1"
   },
   "outputs": [],
   "source": [
    "# Shape of the dataframe for recharge amount > 10000\n",
    "df_call_usage[df_call_usage['total_rech_amt']>10000].shape"
   ]
  },
  {
   "cell_type": "markdown",
   "metadata": {
    "id": "7vxcD8k4HKF6"
   },
   "source": [
    "**Observation**:\n",
    "\n",
    "* From our previous analysis, we found that more than 25% of customers have a total recharge amount above 1158. Hence, it is not feasible to replace these values. It is possible that these customers have actually made such a high recharge.\n",
    "\n",
    "* Regarding the customers with a recharge amount of 11875, it is worth checking their usage to verify whether this amount is valid or not."
   ]
  },
  {
   "cell_type": "markdown",
   "metadata": {
    "id": "ETPxbq4lnOyy"
   },
   "source": [
    "### **Outgoing Calls Analysis**"
   ]
  },
  {
   "cell_type": "code",
   "execution_count": null,
   "metadata": {
    "colab": {
     "base_uri": "https://localhost:8080/",
     "height": 452
    },
    "id": "gWNCNmOjHKF7",
    "outputId": "6808fea2-2067-4f66-dfb8-2138bdbde2c3"
   },
   "outputs": [],
   "source": [
    "# Plot the the distribution using Box plot\n",
    "plt.figure(figsize=(10,6))\n",
    "sns.boxplot(df_call_usage[outgoing_call_col])\n",
    "plt.title(\"The Distribution of Outgoing Calls Variables\")\n",
    "plt.xlabel(\"Outgoing Calls Variables\")\n",
    "plt.xticks(rotation=90)\n",
    "plt.show()"
   ]
  },
  {
   "cell_type": "markdown",
   "metadata": {
    "id": "BL5cxrsLHKF7"
   },
   "source": [
    "As we previously showed, all of these columns have a maximum value in the range 8E6, which we no longer have.\n",
    "\n",
    "Let us first see the boxplot for consumers who did not select Phone Service."
   ]
  },
  {
   "cell_type": "code",
   "execution_count": null,
   "metadata": {
    "colab": {
     "base_uri": "https://localhost:8080/",
     "height": 475
    },
    "id": "8KEgeqITHKF7",
    "outputId": "36372b0f-21c3-4748-e00f-a9fc83eca2c0"
   },
   "outputs": [],
   "source": [
    "# Plot the the distribution using Box plot\n",
    "plt.figure(figsize=(10,6))\n",
    "sns.boxplot(df_call_usage[df_call_usage['Phone Service']=='No'])\n",
    "plt.title(\"The Distribution of Outgoing Calls Variables for Customers with no Phone Service\")\n",
    "plt.xlabel(\"Outgoing Calls Variables\")\n",
    "plt.xticks(rotation=90)\n",
    "plt.show()"
   ]
  },
  {
   "cell_type": "code",
   "execution_count": null,
   "metadata": {
    "colab": {
     "base_uri": "https://localhost:8080/",
     "height": 463
    },
    "id": "nMVwH264HKF7",
    "outputId": "a0825047-e35b-4a3f-d7d3-d0da381db1d3"
   },
   "outputs": [],
   "source": [
    "# Plot the the distribution using Box plot\n",
    "plt.figure(figsize=(10,6))\n",
    "sns.boxplot(df_call_usage[(df_call_usage['Phone Service']=='No')&(df_call_usage['total_rech_amt']==0)][outgoing_call_col])\n",
    "plt.title(\"The Distribution of Outgoing Calls Variables for Customers with no Phone Service and Recharge Amount\")\n",
    "plt.xlabel(\"Outgoing Calls Variables\")\n",
    "plt.xticks(rotation=90)\n",
    "plt.show()"
   ]
  },
  {
   "cell_type": "markdown",
   "metadata": {
    "id": "07ylUNxnHKF7"
   },
   "source": [
    "Customers who did not select Phone Service and whose total recharge amount is 0 have values of 0 or roughly 8*1E6.\n",
    "\n",
    "Let's look at the boxplot for customers that chose Phone Service."
   ]
  },
  {
   "cell_type": "code",
   "execution_count": null,
   "metadata": {
    "colab": {
     "base_uri": "https://localhost:8080/",
     "height": 452
    },
    "id": "049_2fQbHKF7",
    "outputId": "be7b3296-bd14-4a29-9360-ec189235131a"
   },
   "outputs": [],
   "source": [
    "# Plot the the distribution using Box plot\n",
    "plt.figure(figsize=(10,6))\n",
    "sns.boxplot(df_call_usage[df_call_usage['Phone Service']=='Yes'][outgoing_call_col])\n",
    "plt.title(\"The Distribution of Outgoing Calls Variables for Customers with Phone Service\")\n",
    "plt.xlabel(\"Outgoing Calls Variables\")\n",
    "plt.xticks(rotation=90)\n",
    "plt.show()"
   ]
  },
  {
   "cell_type": "markdown",
   "metadata": {
    "id": "mCgz0YHrHKF7"
   },
   "source": [
    "From above two boxplots we can conclude that the abnormal outgoing calls values are only for the customer who didn't opt for Phone Service.\n",
    "Lets analyze those further"
   ]
  },
  {
   "cell_type": "code",
   "execution_count": null,
   "metadata": {
    "id": "3MQDmeHyHKF7"
   },
   "outputs": [],
   "source": [
    "# Analyze customers with and without phone service separatelly\n",
    "df_call_usage_phone_no=df_call_usage[df_call_usage['Phone Service']=='No']\n",
    "df_call_usage_phone_yes=df_call_usage[df_call_usage['Phone Service']=='Yes']"
   ]
  },
  {
   "cell_type": "code",
   "execution_count": null,
   "metadata": {
    "colab": {
     "base_uri": "https://localhost:8080/"
    },
    "id": "uOYI9H74HKF7",
    "outputId": "365e4be4-383c-4666-99d7-c9e248b6026a"
   },
   "outputs": [],
   "source": [
    "# Columns\n",
    "df_call_usage_phone_no.columns"
   ]
  },
  {
   "cell_type": "code",
   "execution_count": null,
   "metadata": {
    "colab": {
     "base_uri": "https://localhost:8080/"
    },
    "id": "7uq5s-IqHKF7",
    "outputId": "976e1252-682e-4ea5-b07a-75f6b58e82dd"
   },
   "outputs": [],
   "source": [
    "# Roaming Outgoing Value Counts\n",
    "df_call_usage_phone_no['roam_og'].value_counts()"
   ]
  },
  {
   "cell_type": "markdown",
   "metadata": {
    "id": "yD2B-VTvHKF7"
   },
   "source": [
    "**Observations**:\n",
    "\n",
    "* Take note that the figures 8787978 and 46254 are abnormal. It is not possible for a person to make so many outbound calls in a month.\n",
    "\n",
    "* 46254 minutes is approximately 32 days, which is more than a month.\n",
    "\n",
    "* As a result, we will replace both values with 0."
   ]
  },
  {
   "cell_type": "code",
   "execution_count": null,
   "metadata": {
    "id": "JUzrWfQ9HKF8"
   },
   "outputs": [],
   "source": [
    "# Replacing these values\n",
    "df_call_usage_phone_no['roam_og']=df_call_usage_phone_no['roam_og'].replace([46254,8787978],0)"
   ]
  },
  {
   "cell_type": "code",
   "execution_count": null,
   "metadata": {
    "colab": {
     "base_uri": "https://localhost:8080/"
    },
    "id": "4Fzo4OdCHKF8",
    "outputId": "9af70de5-b87e-4fb8-d29a-5641d472c710"
   },
   "outputs": [],
   "source": [
    "# Checking the roaming outgoing value counts\n",
    "df_call_usage_phone_no['roam_og'].value_counts()"
   ]
  },
  {
   "cell_type": "code",
   "execution_count": null,
   "metadata": {
    "colab": {
     "base_uri": "https://localhost:8080/"
    },
    "id": "Cq_dbVGuHKF8",
    "outputId": "ff061c1c-790d-4576-a773-9e37e83958d0"
   },
   "outputs": [],
   "source": [
    "# Check where the recharge amount is 0 but we have roaming calls\n",
    "df_call_usage_phone_no[df_call_usage_phone_no['total_rech_amt']==0]['roam_og'].value_counts()"
   ]
  },
  {
   "cell_type": "markdown",
   "metadata": {
    "id": "KsAMHdqXHKF8"
   },
   "source": [
    "We took all of the customers that did not opt for phone service, and the recharge amount is 0.\n",
    "\n",
    "We will replace all of these values with 0 because they cannot make outbound calls without a recharge and a Phone Service plan."
   ]
  },
  {
   "cell_type": "code",
   "execution_count": null,
   "metadata": {
    "id": "lF6ojzqcHKF8"
   },
   "outputs": [],
   "source": [
    "# Replace the values with 0\n",
    "df_call_usage_phone_no.loc[df_call_usage_phone_no['total_rech_amt']==0,'roam_og']=0"
   ]
  },
  {
   "cell_type": "code",
   "execution_count": null,
   "metadata": {
    "colab": {
     "base_uri": "https://localhost:8080/"
    },
    "id": "MW_unGfpHKF8",
    "outputId": "40ae5cbb-f153-4473-cf96-03332a049bcb"
   },
   "outputs": [],
   "source": [
    "# 0 roaming calls for customers with no phone service\n",
    "df_call_usage_phone_no['roam_og'].value_counts()"
   ]
  },
  {
   "cell_type": "code",
   "execution_count": null,
   "metadata": {
    "colab": {
     "base_uri": "https://localhost:8080/",
     "height": 404
    },
    "id": "V2p90Ou2HKF-",
    "outputId": "9e997d6c-0585-4f6e-960c-85a22d9136ce"
   },
   "outputs": [],
   "source": [
    "# Plot the the distribution using Box plot\n",
    "plt.figure(figsize=(10,6))\n",
    "sns.boxplot(df_call_usage_phone_yes['roam_og'])\n",
    "plt.title(\"The Distribution of Roaming Outgoing Calls for Customers with Phone Service\")\n",
    "plt.xlabel(\"Roaming Outgoing Calls\")\n",
    "plt.show()"
   ]
  },
  {
   "cell_type": "code",
   "execution_count": null,
   "metadata": {
    "colab": {
     "base_uri": "https://localhost:8080/"
    },
    "id": "UG-7mIw0HKF-",
    "outputId": "ee23dc85-36ca-4dc4-ac2c-dae013432cbd"
   },
   "outputs": [],
   "source": [
    "# Check the quantiles\n",
    "df_call_usage_phone_yes['roam_og'].quantile([0.1, 0.5,0.75 ,0.9,0.97,0.99])"
   ]
  },
  {
   "cell_type": "markdown",
   "metadata": {
    "id": "SiGuIuklHKF-"
   },
   "source": [
    "These values seem to valid. We will now determine the amount of the recharge for these customers."
   ]
  },
  {
   "cell_type": "code",
   "execution_count": null,
   "metadata": {
    "colab": {
     "base_uri": "https://localhost:8080/",
     "height": 404
    },
    "id": "PyoOppAaHKF-",
    "outputId": "fab2ea38-6c20-41fb-8cc6-4975648f5f65"
   },
   "outputs": [],
   "source": [
    "# Plot the the distribution using Box plot\n",
    "plt.figure(figsize=(10,6))\n",
    "sns.histplot(data=df_call_usage_phone_yes, x='total_rech_amt', bins=20)\n",
    "plt.title(\"The Distribution of Total Recharge Amount for Customers with Phone Service\")\n",
    "plt.xlabel(\"Total Recharge Amount\")\n",
    "plt.show()"
   ]
  },
  {
   "cell_type": "code",
   "execution_count": null,
   "metadata": {
    "colab": {
     "base_uri": "https://localhost:8080/"
    },
    "id": "xRa7RGlAHKF-",
    "outputId": "08cb89d9-f2fe-4c00-cfd2-5179a3f6c251"
   },
   "outputs": [],
   "source": [
    "# The shape of data where in recharge was 0 for customers with phone service\n",
    "df_call_usage_phone_yes[df_call_usage_phone_yes['total_rech_amt']==0].shape"
   ]
  },
  {
   "cell_type": "markdown",
   "metadata": {
    "id": "rlMVMPv1HKF-"
   },
   "source": [
    "It should be noted that the following customers (262 in total but not all unique) have chosen phone service but there is no recharge amount available."
   ]
  },
  {
   "cell_type": "code",
   "execution_count": null,
   "metadata": {
    "colab": {
     "base_uri": "https://localhost:8080/",
     "height": 475
    },
    "id": "coWX6qJZHKF-",
    "outputId": "3f2123f6-c7c6-4ad1-a9bd-fce56ccced74"
   },
   "outputs": [],
   "source": [
    "# Plot the the distribution using Box plot\n",
    "plt.figure(figsize=(10,6))\n",
    "sns.boxplot(df_call_usage_phone_yes[df_call_usage_phone_yes['total_rech_amt']==0])\n",
    "plt.title(\"The Distribution of Outgoing Call Variables for Customers with Phone Service but no recharge amount\")\n",
    "plt.xlabel(\"Outgoing Call Variables\")\n",
    "plt.xticks(rotation=90)\n",
    "plt.show()\n"
   ]
  },
  {
   "cell_type": "markdown",
   "metadata": {
    "id": "agi4xZw4HKF-"
   },
   "source": [
    "We will not impute any other value for these customer in total_rech_amt. It is possible that company has given them some offer or they might have recharged but its not reflected in the data."
   ]
  },
  {
   "cell_type": "markdown",
   "metadata": {
    "id": "8_JsbfdRnOy1"
   },
   "source": [
    "#### **Local outgoing calls within same network in minutes**"
   ]
  },
  {
   "cell_type": "code",
   "execution_count": null,
   "metadata": {
    "colab": {
     "base_uri": "https://localhost:8080/"
    },
    "id": "7SdIjKaGHKF-",
    "outputId": "33ded156-2571-4344-86b8-bd10dfce416d"
   },
   "outputs": [],
   "source": [
    "# Check the counts\n",
    "df_call_usage_phone_no['loc_og_t2t'].value_counts()"
   ]
  },
  {
   "cell_type": "markdown",
   "metadata": {
    "id": "EUAZA1EZHKF-"
   },
   "source": [
    "We will replace the values 46254 and 8787978 in all outgoing call columns."
   ]
  },
  {
   "cell_type": "code",
   "execution_count": null,
   "metadata": {
    "id": "RGZqPcLXHKF-"
   },
   "outputs": [],
   "source": [
    "checkpoint('fcTel1')\n",
    "for col in outgoing_call_col:\n",
    "    # for col replace 46254 and 8787978 values with 0\n",
    "    df_call_usage_phone_no[col]=df_call_usage_phone_no[col].replace([46254,8787978],0)\n",
    "    # for col replace the value with 0 when there is no phone service and recharge\n",
    "    df_call_usage_phone_no.loc[df_call_usage_phone_no['total_rech_amt']==0,col]=0"
   ]
  },
  {
   "cell_type": "code",
   "execution_count": null,
   "metadata": {
    "colab": {
     "base_uri": "https://localhost:8080/"
    },
    "id": "wxv6mKfXHKF_",
    "outputId": "57faadb4-d66d-45a2-ec34-759c806807c9"
   },
   "outputs": [],
   "source": [
    "# Value counts for all outgoing call variables for customers with no phone service\n",
    "for col in outgoing_call_col:\n",
    "    print(\"value count for \",col)\n",
    "    print(df_call_usage_phone_no[col].value_counts())\n",
    "    print(\"-------------------------\")"
   ]
  },
  {
   "cell_type": "markdown",
   "metadata": {
    "id": "M3GY-LCNHKF_"
   },
   "source": [
    "**Observations**:\n",
    "\n",
    "* We observed that some customers who did not opt for phone service and have not recharged their account also have not placed any outgoing calls. This makes sense as they are not subscribed to the service and hence cannot make any calls.\n",
    "\n",
    "* To further analyze the outgoing call patterns, we will focus on customers who have opted for phone service."
   ]
  },
  {
   "cell_type": "code",
   "execution_count": null,
   "metadata": {
    "id": "QqSrgfsHHKF_"
   },
   "outputs": [],
   "source": [
    "# Creating quantile df for outgoing calls\n",
    "quantile_outgoing_call_df=pd.DataFrame(columns=outgoing_call_col,index=[0.1,0.25,0.5,0.75,0.8,0.9,0.95,0.97,0.99])"
   ]
  },
  {
   "cell_type": "code",
   "execution_count": null,
   "metadata": {
    "id": "d4cGGg_6HKF_"
   },
   "outputs": [],
   "source": [
    "# Entering data in quantile df\n",
    "for col in outgoing_call_col:\n",
    "   quantile_outgoing_call_df[col]=df_call_usage_phone_yes[col].quantile([0.1,0.25,0.5,0.75,0.8,0.9,0.95,0.97,0.99])"
   ]
  },
  {
   "cell_type": "markdown",
   "metadata": {
    "id": "C7BcQdncHKF_"
   },
   "source": [
    "### **Outgoing call Quantiles for customers with Phone Service**"
   ]
  },
  {
   "cell_type": "code",
   "execution_count": null,
   "metadata": {
    "colab": {
     "base_uri": "https://localhost:8080/",
     "height": 331
    },
    "id": "Nxhf4unFHKF_",
    "outputId": "289acccb-febe-4159-97e5-da1163f874d2"
   },
   "outputs": [],
   "source": [
    "# Quantile df\n",
    "quantile_outgoing_call_df"
   ]
  },
  {
   "cell_type": "markdown",
   "metadata": {
    "id": "SJ9kou2qHKF_"
   },
   "source": [
    "\n",
    "All the values in the outgoing call columns for customers with phone service seem to be appropriate and valid. Therefore, we do not need to make any alterations to these values.\n",
    "\n",
    "Next, we will update the df_call_usage_phone_no and df_call_usage_phone_yes dataframes to the original dataframe."
   ]
  },
  {
   "cell_type": "code",
   "execution_count": null,
   "metadata": {
    "id": "gKmwhtYZHKF_"
   },
   "outputs": [],
   "source": [
    "# Updating the call usage df \n",
    "df_call_usage.update(df_call_usage_phone_no)\n",
    "df_call_usage.update(df_call_usage_phone_yes)"
   ]
  },
  {
   "cell_type": "markdown",
   "metadata": {
    "id": "tzDcCgPkHKF_"
   },
   "source": [
    "### **Incoming Calls Analysis**"
   ]
  },
  {
   "cell_type": "code",
   "execution_count": null,
   "metadata": {
    "id": "-Mbn5y2eHKF_"
   },
   "outputs": [],
   "source": [
    "# Creating incoming calls variables column list\n",
    "incoming_call_col=['roam_ic','loc_ic_t2t', 'loc_ic_t2m', 'loc_ic_t2f', 'std_ic_t2t',\n",
    "       'std_ic_t2m', 'std_ic_t2f', 'std_ic_t2o', 'spl_ic', 'isd_ic',\n",
    "       'ic_others']"
   ]
  },
  {
   "cell_type": "markdown",
   "metadata": {
    "id": "wO38Xs5iHKF_"
   },
   "source": [
    "It should be noted that even if a customer does not have phone service, he or she may receive an incoming call. So we'll just look at quantiles and boxplots for all of the columns."
   ]
  },
  {
   "cell_type": "code",
   "execution_count": null,
   "metadata": {
    "id": "FFbu3WGJHKF_"
   },
   "outputs": [],
   "source": [
    "# Creating quantile df for incoming calls\n",
    "quantile_incoming_call_df=pd.DataFrame(columns=incoming_call_col,index=[0.1,0.25,0.5,0.75,0.8,0.9,0.95,0.97,0.99])"
   ]
  },
  {
   "cell_type": "code",
   "execution_count": null,
   "metadata": {
    "colab": {
     "base_uri": "https://localhost:8080/",
     "height": 331
    },
    "id": "yChpCRByHKF_",
    "outputId": "dbd3b72e-d0c1-48ad-98ff-3a70ae6d9d62"
   },
   "outputs": [],
   "source": [
    "# Entering incoming calls data into the quantile df\n",
    "for col in quantile_incoming_call_df:\n",
    "   quantile_incoming_call_df[col]=df_call_usage[col].quantile([0.1,0.25,0.5,0.75,0.8,0.9,0.95,0.97,0.99])\n",
    "quantile_incoming_call_df   "
   ]
  },
  {
   "cell_type": "markdown",
   "metadata": {
    "id": "rX8HGPidHKF_"
   },
   "source": [
    "Except for roam_ic, all other columns appear to have appropriate values. We will not change them.\n",
    "\n",
    "Let us analyze the roam_is column further."
   ]
  },
  {
   "cell_type": "code",
   "execution_count": null,
   "metadata": {
    "colab": {
     "base_uri": "https://localhost:8080/"
    },
    "id": "8cm3FXJmHKF_",
    "outputId": "a04cc7c9-08e0-47f1-8a3b-db66828dabb5"
   },
   "outputs": [],
   "source": [
    "# Counts of unique values in roam_ic column\n",
    "df_call_usage['roam_ic'].value_counts()"
   ]
  },
  {
   "cell_type": "markdown",
   "metadata": {
    "id": "v0JOF6UhHKGA"
   },
   "source": [
    "We can also observe 46254 and 8787978 figures here. Let us substitute 0 for them.\n",
    "\n",
    "Numbers 45 and 68 are also there, but we will not update them because it is possible that they are true values rather than data entering errors."
   ]
  },
  {
   "cell_type": "code",
   "execution_count": null,
   "metadata": {
    "id": "8D1LFKvzHKGA"
   },
   "outputs": [],
   "source": [
    "# Replacing Outliers with 0\n",
    "df_call_usage['roam_ic']=df_call_usage['roam_ic'].replace([46254,8787978],0)"
   ]
  },
  {
   "cell_type": "code",
   "execution_count": null,
   "metadata": {
    "colab": {
     "base_uri": "https://localhost:8080/",
     "height": 404
    },
    "id": "jtny5_vAHKGA",
    "outputId": "7b7e8e44-4ac2-4dd3-c629-ece64747749f"
   },
   "outputs": [],
   "source": [
    "# Plot the the distribution using Box plot\n",
    "plt.figure(figsize=(10,6))\n",
    "sns.boxplot(df_call_usage['roam_ic'])\n",
    "plt.title(\"The Distribution of Incoming Roaming Calls\")\n",
    "plt.xlabel(\"Incoming Roaming Calls\")\n",
    "plt.show()"
   ]
  },
  {
   "cell_type": "markdown",
   "metadata": {
    "id": "us42LmiaHKGA"
   },
   "source": [
    "### **Internet Services**"
   ]
  },
  {
   "cell_type": "code",
   "execution_count": null,
   "metadata": {
    "id": "cLm4t43DHKGA"
   },
   "outputs": [],
   "source": [
    "# Check customer data usage\n",
    "df_data_usage=df[['Month of Joining',\n",
    "        'total_rech_data', 'vol_4g', 'vol_5g',\n",
    "       'Internet Service']]"
   ]
  },
  {
   "cell_type": "code",
   "execution_count": null,
   "metadata": {
    "colab": {
     "base_uri": "https://localhost:8080/"
    },
    "id": "9f_JPS-JHKGA",
    "outputId": "46f3b167-be57-4f23-c196-10b9dd5fbced"
   },
   "outputs": [],
   "source": [
    "# Data types involved\n",
    "df_data_usage.dtypes"
   ]
  },
  {
   "cell_type": "markdown",
   "metadata": {
    "id": "O4mtL62fHKGA"
   },
   "source": [
    "Observe that total_rech_data is object but according to data dictionary it should be float."
   ]
  },
  {
   "cell_type": "code",
   "execution_count": null,
   "metadata": {
    "colab": {
     "base_uri": "https://localhost:8080/"
    },
    "id": "H0MRlzrLHKGA",
    "outputId": "eb817ce2-392a-4d70-f8f9-03f9418fc1ea"
   },
   "outputs": [],
   "source": [
    "# Check the value counts\n",
    "df_data_usage['Internet Service'].value_counts()"
   ]
  },
  {
   "cell_type": "code",
   "execution_count": null,
   "metadata": {
    "colab": {
     "base_uri": "https://localhost:8080/"
    },
    "id": "1QVgVINfHKGA",
    "outputId": "fb46e645-8896-4389-f460-10c12d816efc"
   },
   "outputs": [],
   "source": [
    "# Total recharge data value counts\n",
    "df_data_usage['total_rech_data'].value_counts()"
   ]
  },
  {
   "cell_type": "markdown",
   "metadata": {
    "id": "apAlQ9dgHKGA"
   },
   "source": [
    "We can see there is e01 value in the column. Let's replace it with 10."
   ]
  },
  {
   "cell_type": "code",
   "execution_count": null,
   "metadata": {
    "id": "uCkfmGWyHKGA"
   },
   "outputs": [],
   "source": [
    "# Replacing the values\n",
    "df_data_usage['total_rech_data']=df_data_usage['total_rech_data'].replace('e01',10)"
   ]
  },
  {
   "cell_type": "code",
   "execution_count": null,
   "metadata": {
    "id": "A2XkS6aBHKGB"
   },
   "outputs": [],
   "source": [
    "\n",
    "# Now we will convert the total rech data into a numeric column\n",
    "df_data_usage['total_rech_data']=pd.to_numeric(df_data_usage['total_rech_data'])"
   ]
  },
  {
   "cell_type": "code",
   "execution_count": null,
   "metadata": {
    "colab": {
     "base_uri": "https://localhost:8080/",
     "height": 404
    },
    "id": "NEQfvWHkHKGB",
    "outputId": "1a89cb44-0d3e-41eb-822e-eb602d36a3f1"
   },
   "outputs": [],
   "source": [
    "# Plot the the distribution using Box plot\n",
    "plt.figure(figsize=(10,6))\n",
    "sns.boxplot(df_data_usage['total_rech_data'])\n",
    "plt.title(\"The Distribution of Total Recharge Data\")\n",
    "plt.xlabel(\"Total Recharge Data\")\n",
    "plt.show()"
   ]
  },
  {
   "cell_type": "markdown",
   "metadata": {
    "id": "Ry75gS80HKGB"
   },
   "source": [
    "\n",
    "Observe that there are some outliers."
   ]
  },
  {
   "cell_type": "code",
   "execution_count": null,
   "metadata": {
    "colab": {
     "base_uri": "https://localhost:8080/"
    },
    "id": "45nQyRphHKGB",
    "outputId": "2ee80af6-e214-4ffe-e509-87fea7474158"
   },
   "outputs": [],
   "source": [
    "# Check the quantiles\n",
    "df_data_usage['total_rech_data'].quantile([0.1,0.25,0.5,0.75,0.8,0.9,0.95,0.97,0.99])"
   ]
  },
  {
   "cell_type": "markdown",
   "metadata": {
    "id": "-Ap7h0tPHKGB"
   },
   "source": [
    "Let's see how many customer have data recharge more than $31. "
   ]
  },
  {
   "cell_type": "code",
   "execution_count": null,
   "metadata": {
    "colab": {
     "base_uri": "https://localhost:8080/",
     "height": 455
    },
    "id": "ycLCBwd_HKGB",
    "outputId": "53851379-10b9-4d35-ba40-9b3bff680706"
   },
   "outputs": [],
   "source": [
    "# Filtering the data\n",
    "df_data_usage[df_data_usage['total_rech_data']>31]"
   ]
  },
  {
   "cell_type": "markdown",
   "metadata": {
    "id": "YGsCTObAHKGB"
   },
   "source": [
    "We can observe that many of them have not chosen Internet Service.\n",
    "Let's look at the unique numbers for total rech data where customers have not chosen Internet Service."
   ]
  },
  {
   "cell_type": "code",
   "execution_count": null,
   "metadata": {
    "colab": {
     "base_uri": "https://localhost:8080/"
    },
    "id": "VcduIH0RHKGB",
    "outputId": "b3a61042-3cff-4d87-c05a-8e4390d1a652"
   },
   "outputs": [],
   "source": [
    "# Check the total recharge data unique value counts where in there is no internet service \n",
    "df_data_usage[df_data_usage['Internet Service']=='No']['total_rech_data'].value_counts()"
   ]
  },
  {
   "cell_type": "markdown",
   "metadata": {
    "id": "D88oyjkAHKGB"
   },
   "source": [
    "The 10 and 1.6 data recharge amounts appear to be correct. We need to analyze further and decide whether to replace the values or remove the No from the Internet service.\n",
    "\n",
    "89890 and 7987 appear to be absurd values. Because there is no Internet Service Plan, we can replace them with 0."
   ]
  },
  {
   "cell_type": "code",
   "execution_count": null,
   "metadata": {
    "id": "gs_uwpJpHKGB"
   },
   "outputs": [],
   "source": [
    "# Replacing absurd values with 0\n",
    "df_data_usage['total_rech_data']=df_data_usage['total_rech_data'].replace([7987,89890],0)"
   ]
  },
  {
   "cell_type": "markdown",
   "metadata": {
    "id": "XqsiUtbxHKGB"
   },
   "source": [
    "Let's look at 10 and 1.6 now."
   ]
  },
  {
   "cell_type": "code",
   "execution_count": null,
   "metadata": {
    "colab": {
     "base_uri": "https://localhost:8080/",
     "height": 206
    },
    "id": "KjOQrLXWHKGB",
    "outputId": "e1697a6f-ca92-43a9-8b2f-4b7f94391c38"
   },
   "outputs": [],
   "source": [
    "# Checking volumes of 4g and 5g data where internet service is no\n",
    "df_data_usage[(df_data_usage['Internet Service']=='No')&(df_data_usage['total_rech_data'].isin([10,1.6]))][['vol_4g','vol_5g']].apply(lambda col: col.unique())"
   ]
  },
  {
   "cell_type": "code",
   "execution_count": null,
   "metadata": {
    "colab": {
     "base_uri": "https://localhost:8080/"
    },
    "id": "8cE0C5QMHKGC",
    "outputId": "05757cd1-aa01-455b-f0a7-310ec8381be5"
   },
   "outputs": [],
   "source": [
    "# Checking volumes of 4g and 5g data where internet service is yes\n",
    "df_data_usage[(df_data_usage['Internet Service']=='Yes')&(df_data_usage['total_rech_data'].isin([10,1.6]))][['vol_4g','vol_5g']].apply(lambda col: col.unique())"
   ]
  },
  {
   "cell_type": "markdown",
   "metadata": {
    "id": "xG7ANj4dHKGC"
   },
   "source": [
    "**Observations**:\n",
    "\n",
    "* We can clearly observe that anytime a data recharge of 10 or 1.6 is made and the Internet service is selected, the vol 4g and vol 5g have varying values.\n",
    "\n",
    "* But, when the Internet service is turned off, the results are either 0, 63, 254687, 87978, or 789.\n",
    "\n",
    "* We can go to business and inquire about this here."
   ]
  },
  {
   "cell_type": "code",
   "execution_count": null,
   "metadata": {
    "id": "tvpDqyBYHKGC"
   },
   "outputs": [],
   "source": [
    "# Replacing the values\n",
    "df_data_usage.loc[df_data_usage['Internet Service']=='No','total_rech_data']=0"
   ]
  },
  {
   "cell_type": "markdown",
   "metadata": {
    "id": "7rN6qyFfHKGC"
   },
   "source": [
    "For customers who did not choose Internet service, we replaced all data with 0."
   ]
  },
  {
   "cell_type": "code",
   "execution_count": null,
   "metadata": {
    "colab": {
     "base_uri": "https://localhost:8080/",
     "height": 404
    },
    "id": "NKOXFXfSHKGC",
    "outputId": "55349a0f-1fe2-448e-a964-4aa2b57b45fb"
   },
   "outputs": [],
   "source": [
    "# Plot the the distribution using Box plot\n",
    "plt.figure(figsize=(10,6))\n",
    "sns.boxplot(df_data_usage['total_rech_data'])\n",
    "plt.title(\"The Distribution of Total Recharge Data\")\n",
    "plt.xlabel(\"Total Recharge Data\")\n",
    "plt.show()"
   ]
  },
  {
   "cell_type": "markdown",
   "metadata": {
    "id": "GR-c56hkHKGC"
   },
   "source": [
    "There are some customers who are above the 75th percentile. We are not going to change those values."
   ]
  },
  {
   "cell_type": "markdown",
   "metadata": {
    "id": "MKsXQ2GOHKGC"
   },
   "source": [
    "We already discussed imputing arpu 4g and arpu 5g after analyzing this variable, so let's do it now."
   ]
  },
  {
   "cell_type": "code",
   "execution_count": null,
   "metadata": {
    "colab": {
     "base_uri": "https://localhost:8080/"
    },
    "id": "8Cla3slqHKGC",
    "outputId": "970755d5-8b88-45b6-fe3b-7700e1364d0e"
   },
   "outputs": [],
   "source": [
    "# Check the value counts for total recharge data where arpu 4g and 5g is null\n",
    "df[(df['arpu_4g'].isna())&(df['arpu_5g'].isna())]['total_rech_data'].value_counts(dropna=False)"
   ]
  },
  {
   "cell_type": "code",
   "execution_count": null,
   "metadata": {
    "id": "eMW2FDTnHKGD"
   },
   "outputs": [],
   "source": [
    "# Replacing the values with Not Applicable\n",
    "df.loc[(df['arpu_4g'].isna())&(df['arpu_5g'].isna())&(df['total_rech_data'].isna()),['arpu_4g','arpu_5g']]='Not Applicable'"
   ]
  },
  {
   "cell_type": "markdown",
   "metadata": {
    "id": "zvg77f8THKGD"
   },
   "source": [
    "### **vol_4g and vol_5g columns**"
   ]
  },
  {
   "cell_type": "code",
   "execution_count": null,
   "metadata": {
    "id": "x51VWcHzHKGD"
   },
   "outputs": [],
   "source": [
    "# separately analyzing the internet volumes for customers with and without inetrnet service\n",
    "df_data_usage_internet_no=df_data_usage[df_data_usage['Internet Service']=='No']\n",
    "df_data_usage_internet_yes=df_data_usage[df_data_usage['Internet Service']=='Yes']"
   ]
  },
  {
   "cell_type": "code",
   "execution_count": null,
   "metadata": {
    "colab": {
     "base_uri": "https://localhost:8080/",
     "height": 404
    },
    "id": "L59Sp3ffHKGD",
    "outputId": "4292c9e9-b3b5-41bf-99cb-60d4e5270a18"
   },
   "outputs": [],
   "source": [
    "# Plot the the distribution using Box plot\n",
    "plt.figure(figsize=(10,6))\n",
    "sns.boxplot(df_data_usage_internet_yes['vol_4g'])\n",
    "plt.title(\"The Distribution of 4g Volume for Customers with Internet Service\")\n",
    "plt.xlabel(\"4G Internet Volume\")\n",
    "plt.show()"
   ]
  },
  {
   "cell_type": "code",
   "execution_count": null,
   "metadata": {
    "colab": {
     "base_uri": "https://localhost:8080/"
    },
    "id": "t20JLEC4HKGD",
    "outputId": "e38a1ec9-2443-4925-d554-df9bf35cd7e6"
   },
   "outputs": [],
   "source": [
    "# Check the quantiles\n",
    "df_data_usage_internet_yes['vol_4g'].quantile([0.1,0.25,0.5,0.75,0.8,0.9,0.95,0.97,0.99])"
   ]
  },
  {
   "cell_type": "markdown",
   "metadata": {
    "id": "O0rEhF0SHKGD"
   },
   "source": [
    "We will not alter any of these values."
   ]
  },
  {
   "cell_type": "code",
   "execution_count": null,
   "metadata": {
    "colab": {
     "base_uri": "https://localhost:8080/",
     "height": 404
    },
    "id": "sB4IZi3rHKGD",
    "outputId": "f4c1587a-828b-4b8b-e8b7-f293600e0866"
   },
   "outputs": [],
   "source": [
    "# Plot the the distribution using Box plot\n",
    "plt.figure(figsize=(10,6))\n",
    "sns.boxplot(df_data_usage_internet_no['vol_4g'])\n",
    "plt.title(\"The Distribution of 4g Volume for Customers without Internet Service\")\n",
    "plt.xlabel(\"4G Internet Volume\")\n",
    "plt.show()"
   ]
  },
  {
   "cell_type": "markdown",
   "metadata": {
    "id": "QJC_KR64HKGE"
   },
   "source": [
    "The abnormal values are when Internet service is not opted."
   ]
  },
  {
   "cell_type": "code",
   "execution_count": null,
   "metadata": {
    "colab": {
     "base_uri": "https://localhost:8080/"
    },
    "id": "Sqn4DTfiHKGE",
    "outputId": "30187705-3ca6-4e90-b102-24f75ae7f909"
   },
   "outputs": [],
   "source": [
    "# Value counts of 4g data without inetrnet service\n",
    "df_data_usage_internet_no['vol_4g'].value_counts()"
   ]
  },
  {
   "cell_type": "markdown",
   "metadata": {
    "id": "yn7b32wVHKGE"
   },
   "source": [
    "Let's see how many of these values are there without any data recharge."
   ]
  },
  {
   "cell_type": "code",
   "execution_count": null,
   "metadata": {
    "colab": {
     "base_uri": "https://localhost:8080/"
    },
    "id": "5z1NAX82HKGE",
    "outputId": "0e1be4d5-cf39-4558-bd35-3cafeeda33ac"
   },
   "outputs": [],
   "source": [
    "# Count the values in 4G volume with no internet service and recharge data \n",
    "df_data_usage_internet_no[df_data_usage_internet_no['total_rech_data']==0]['vol_4g'].value_counts()"
   ]
  },
  {
   "cell_type": "markdown",
   "metadata": {
    "id": "gHjmPstzHKGE"
   },
   "source": [
    "When vol-4g data is utilised in GB, the values 254687 and 87978 appear to be absurd. Let us substitute 0 for them."
   ]
  },
  {
   "cell_type": "markdown",
   "metadata": {
    "id": "zuQ06D7xHKGE"
   },
   "source": [
    "We earlier saw that the customers had recharged with 10, 1.6, or other absurd quantities, and we replaced all data recharge amounts with 0.\n",
    "\n",
    "Similarly, we will replace all of the values here."
   ]
  },
  {
   "cell_type": "code",
   "execution_count": null,
   "metadata": {
    "id": "vtZDzB4KHKGE"
   },
   "outputs": [],
   "source": [
    "# Replacing the value with 0\n",
    "df_data_usage_internet_no.loc[df_data_usage_internet_no['total_rech_data']==0,'vol_4g']=0"
   ]
  },
  {
   "cell_type": "code",
   "execution_count": null,
   "metadata": {
    "colab": {
     "base_uri": "https://localhost:8080/"
    },
    "id": "YTz-LfcGHKGE",
    "outputId": "356b3eae-6ceb-4908-fe10-ce20a88ad6bf"
   },
   "outputs": [],
   "source": [
    "# Checking the values of 4g volume without internet service\n",
    "df_data_usage_internet_no['vol_4g'].value_counts()"
   ]
  },
  {
   "cell_type": "code",
   "execution_count": null,
   "metadata": {
    "colab": {
     "base_uri": "https://localhost:8080/",
     "height": 404
    },
    "id": "QSK5tw1yHKGE",
    "outputId": "dab5a232-f594-417c-9896-1d42741856ed"
   },
   "outputs": [],
   "source": [
    "# Plot the the distribution using Box plot\n",
    "plt.figure(figsize=(10,6))\n",
    "sns.boxplot(df_data_usage_internet_yes['vol_5g'])\n",
    "plt.title(\"The Distribution of 5g Volume for Customers with Internet Service\")\n",
    "plt.xlabel(\"5G Internet Volume\")\n",
    "plt.show()"
   ]
  },
  {
   "cell_type": "code",
   "execution_count": null,
   "metadata": {
    "colab": {
     "base_uri": "https://localhost:8080/"
    },
    "id": "i1YTWqKDHKGF",
    "outputId": "eb69bb61-9b8a-45d3-8278-22536222a665"
   },
   "outputs": [],
   "source": [
    "# Check the quantiles\n",
    "df_data_usage_internet_yes['vol_5g'].quantile([0.1,0.25,0.5,0.75,0.8,0.9,0.95,0.97,0.99])"
   ]
  },
  {
   "cell_type": "code",
   "execution_count": null,
   "metadata": {
    "colab": {
     "base_uri": "https://localhost:8080/"
    },
    "id": "IADMRRUHHKGF",
    "outputId": "95fc4abe-76af-4442-8f7d-17f51c015b1a"
   },
   "outputs": [],
   "source": [
    "# Check the 5g volume value counts for customers with no internet service\n",
    "df_data_usage_internet_no['vol_5g'].value_counts()"
   ]
  },
  {
   "cell_type": "markdown",
   "metadata": {
    "id": "0rBgHGE3HKGF"
   },
   "source": [
    "The abnormal values are there when Internet service is not opted."
   ]
  },
  {
   "cell_type": "code",
   "execution_count": null,
   "metadata": {
    "colab": {
     "base_uri": "https://localhost:8080/"
    },
    "id": "jHVhrQiAHKGF",
    "outputId": "f03af04b-c958-49a0-854c-b9396382daed"
   },
   "outputs": [],
   "source": [
    "# Value counts of 5g volume without internet service\n",
    "df_data_usage_internet_no[df_data_usage_internet_no['total_rech_data']==0]['vol_5g'].value_counts()"
   ]
  },
  {
   "cell_type": "markdown",
   "metadata": {
    "id": "yqIPV5EYHKGF"
   },
   "source": [
    "**Observations**:\n",
    "\n",
    "* It is worth noting that all customers with large amounts of data consumption have either recharged with 0, 10, or 1.6, which appears to be unusual. We will now replace all of these values.\n",
    "\n",
    "\n",
    "* Because vol-5g is data utilised in GB, the values 254687 and 87978 appear to be absurd. Let us substitute 0 for them."
   ]
  },
  {
   "cell_type": "code",
   "execution_count": null,
   "metadata": {
    "id": "qDsCkL58nOy-"
   },
   "outputs": [],
   "source": [
    "# Replacing values with 0\n",
    "df_data_usage_internet_no.loc[df_data_usage_internet_no['total_rech_data']==0,'vol_5g']=0"
   ]
  },
  {
   "cell_type": "code",
   "execution_count": null,
   "metadata": {
    "colab": {
     "base_uri": "https://localhost:8080/"
    },
    "id": "XfhAkL7HHKGF",
    "outputId": "de48cccf-1adc-40de-fc51-428c1a064c52"
   },
   "outputs": [],
   "source": [
    "# Check the counts again\n",
    "df_data_usage_internet_no['vol_5g'].value_counts()"
   ]
  },
  {
   "cell_type": "code",
   "execution_count": null,
   "metadata": {
    "id": "Ou0dcjRGHKGF"
   },
   "outputs": [],
   "source": [
    "# update the dataframes\n",
    "df_data_usage.update(df_data_usage_internet_no)\n",
    "df_data_usage.update(df_data_usage_internet_yes)"
   ]
  },
  {
   "cell_type": "markdown",
   "metadata": {
    "id": "tlbz4OfoHKGF"
   },
   "source": [
    "We have updated all of the df data usage and df call usage values.\n",
    "\n",
    "We can update both of them in our main dataframe df.\n"
   ]
  },
  {
   "cell_type": "code",
   "execution_count": null,
   "metadata": {
    "id": "D1We6i1rHKGG"
   },
   "outputs": [],
   "source": [
    "# Update original dataframe\n",
    "df.update(df_call_usage)\n",
    "df.update(df_data_usage)"
   ]
  },
  {
   "cell_type": "markdown",
   "metadata": {
    "id": "ORWvzr3PHKGG"
   },
   "source": [
    "Let's now check % of missing values in the data!"
   ]
  },
  {
   "cell_type": "code",
   "execution_count": null,
   "metadata": {
    "id": "vnDuj1akHKGG"
   },
   "outputs": [],
   "source": [
    "# Creating a missing value df with the null values of our original dataframe\n",
    "percent_missing = df.isna().sum() * 100 / len(df)\n",
    "missing_value_df = pd.DataFrame({'column_name': df.columns,\n",
    "                                 'percent_missing': percent_missing.values})"
   ]
  },
  {
   "cell_type": "code",
   "execution_count": null,
   "metadata": {
    "colab": {
     "base_uri": "https://localhost:8080/",
     "height": 1000
    },
    "id": "rakrV2LuHKGG",
    "outputId": "7ed874ce-0b5e-4a10-f871-9dcc3b041f3b"
   },
   "outputs": [],
   "source": [
    "# Percentage of missing values in each column\n",
    "missing_value_df"
   ]
  },
  {
   "cell_type": "code",
   "execution_count": null,
   "metadata": {
    "colab": {
     "base_uri": "https://localhost:8080/",
     "height": 175
    },
    "id": "Bxawb_XXHKGG",
    "outputId": "507521a1-8482-4eae-fecc-138619cbe070"
   },
   "outputs": [],
   "source": [
    "# Missing value columns with > 20 % missing values\n",
    "missing_value_df[missing_value_df.percent_missing>20]"
   ]
  },
  {
   "cell_type": "markdown",
   "metadata": {
    "id": "NPB9QZsbnOzA"
   },
   "source": [
    "Missing values greater than 20% should not be imputed because the imputation process may introduce bias and distort the true distribution of the data. Imputing a large percentage of missing values may also result in unreliable and inaccurate analysis. In such cases, it may be better to drop the columns!"
   ]
  },
  {
   "cell_type": "markdown",
   "metadata": {
    "id": "w1OykcmRHKGG"
   },
   "source": [
    "Let's select all the columns with less missing values and impute them."
   ]
  },
  {
   "cell_type": "code",
   "execution_count": null,
   "metadata": {
    "id": "bv1x9NpFHKGG"
   },
   "outputs": [],
   "source": [
    "# We will only select columns with <20% missing values\n",
    "missing_impute_cols=list(missing_value_df[(missing_value_df.percent_missing>1)&(missing_value_df.percent_missing<20)]['column_name'])"
   ]
  },
  {
   "cell_type": "code",
   "execution_count": null,
   "metadata": {
    "colab": {
     "base_uri": "https://localhost:8080/"
    },
    "id": "UvakschfHKGG",
    "outputId": "5d5e101b-9e5d-46a4-cca1-6bd30a5616c2"
   },
   "outputs": [],
   "source": [
    "# All columns with missing values less than 20 %\n",
    "missing_impute_cols\n"
   ]
  },
  {
   "cell_type": "code",
   "execution_count": null,
   "metadata": {
    "colab": {
     "base_uri": "https://localhost:8080/"
    },
    "id": "g1Wo1OFCHKGH",
    "outputId": "6af3f060-be07-40df-88f3-591aaecb0e21"
   },
   "outputs": [],
   "source": [
    "# Shape\n",
    "df[missing_impute_cols].shape"
   ]
  },
  {
   "cell_type": "code",
   "execution_count": 3,
   "metadata": {},
   "outputs": [
    {
     "data": {
      "text/html": [
       "\n",
       "    <iframe \n",
       "\t    src=\"https://docs.google.com/forms/d/e/1FAIpQLScs70rjp77cH8TmVpH7jFhas7dmlCWSKEnNJnooa8meVUSnZA/viewform?usp=sf_link\" \n",
       "\t    width=\"100%\" \n",
       "\t    height=\"1200px\" \n",
       "\t    frameborder=\"0\" \n",
       "\t    marginheight=\"0\" \n",
       "\t    marginwidth=\"0\">\n",
       "\t    Loading...\n",
       "    </iframe>\n",
       "    "
      ],
      "text/plain": [
       "<IPython.core.display.HTML object>"
      ]
     },
     "execution_count": 3,
     "metadata": {},
     "output_type": "execute_result"
    }
   ],
   "source": [
    "#feedback\n",
    "feedback()"
   ]
  },
  {
   "cell_type": "markdown",
   "metadata": {
    "id": "g1lSmNxSNdke"
   },
   "source": [
    "## **Imputation Techniques**\n",
    "\n",
    "Data imputation refers to the process of filling in missing values in a dataset. In machine learning, imputing missing values is important because many algorithms are sensitive to missing values and cannot handle them effectively. If missing values are not handled, they can lead to biased or incorrect results, especially when using methods like regression, decision trees, and clustering.\n",
    "\n",
    "There are several techniques used for data imputation in machine learning, including:\n",
    "\n",
    "Mean/Median/Mode imputation: In this method, missing values are replaced by the mean, median, or mode of the non-missing values in the same column. Mean imputation is used for continuous variables, median imputation for ordinal variables, and mode imputation for categorical variables. This method is simple and easy to implement, but it can result in loss of information and introduce bias if the distribution of the data is not symmetrical.\n",
    "\n",
    "Regression imputation: In this method, a regression model is used to predict the missing values based on the values of the other variables in the dataset. The regression model can be linear, polynomial, or any other type of regression model. The advantage of this method is that it can capture the relationship between the variables, but it requires a well-defined regression model and can result in overfitting if the model is too complex.\n",
    "\n",
    "\n"
   ]
  },
  {
   "cell_type": "markdown",
   "metadata": {
    "id": "uFWilGOzckVk"
   },
   "source": [
    "## **Multivariate Imputation by Chained Equation (MICE)**\n"
   ]
  },
  {
   "cell_type": "markdown",
   "metadata": {
    "id": "dink2hFlHKGH"
   },
   "source": [
    "MICE algorithm is probably one of the most used imputation techniques and also a popular interview question.\n",
    "\n",
    "Multivariate Imputation by Chained Equation (MICE) is a statistical technique used to impute missing values in a dataset with multiple variables. MICE is a flexible and powerful imputation method that can handle missing data in both continuous and categorical variables, as well as variables with complex relationships.\n",
    "\n",
    "MICE works by creating multiple imputed datasets, where missing values are imputed based on the observed values of other variables in the dataset. The imputation process is performed in a sequential manner, where each variable is imputed conditional on the observed values of the other variables in the dataset. This process is repeated multiple times, with each iteration generating a new set of imputed values for the missing data.\n",
    "\n",
    "The mathematical formulation of MICE can be described as follows:\n",
    "\n",
    "Suppose we have a dataset $Y$ with n observations and p variables, where some of the values are missing. Let $\\hat{Y}$ denote the imputed dataset, where missing values are replaced by imputed values.\n",
    "\n",
    "The MICE algorithm can be broken down into the following steps:\n",
    "\n",
    "* Initialization: Initialize the imputed dataset $\\hat{Y}$ by using a simple imputation method, such as mean imputation or regression imputation. \n",
    "\n",
    "* To apply MICE algorithm, we will use IterativeImputer from scikit-learn. This estimator is still under experimental so we must import enable_iterative_imputer.\n",
    "\n",
    "* Iteration: For each variable i, impute the missing values using the conditional distribution of i given the observed values of the other variables in $\\hat{Y}$. Let $\\hat{Y_i}$ denote the imputed values for variable i, where missing values are replaced by imputed values. Repeat this step for all variables in the dataset.\n",
    "\n",
    "* Convergence: Repeat the iteration step multiple times until the imputed values converge to a stable solution. This can be assessed by examining the convergence of the imputed values across iterations.\n",
    "\n",
    "* Combining: After multiple imputed datasets have been created, combine the results using a formula that takes into account the uncertainty in the imputed values. For example, the final imputed value for a variable could be the average of the imputed values across multiple datasets.\n",
    "The MICE algorithm can be expressed mathematically using the following formula:\n",
    "\\begin{equation}\n",
    "Y_{i}^{*} = f_{i}(Y_{1}, Y_{2}, ..., Y_{i-1}, Y_{i+1}, ..., Y_{p})\n",
    "\\end{equation}\n",
    "where $Y_{i}^{*}$ is the imputed value for variable i, $f_{i}$ is the imputation model for variable i, and $Y_{1}$, $Y_{2}$, ..., $Y_{i-1}$, $Y_{i+1}$, ..., $Y_{p}$ are the observed values of the other variables in the dataset.\n",
    "\n",
    "MICE is a powerful imputation method that can handle missing data in complex datasets. It has been shown to be more accurate than other imputation methods, such as listwise deletion and mean imputation.\n",
    "\n"
   ]
  },
  {
   "cell_type": "code",
   "execution_count": null,
   "metadata": {
    "id": "7ElBjTb8HKGH"
   },
   "outputs": [],
   "source": [
    "# Imputing with MICE\n",
    "from sklearn.experimental import enable_iterative_imputer\n",
    "from sklearn.impute import IterativeImputer\n",
    "from sklearn import linear_model"
   ]
  },
  {
   "cell_type": "code",
   "execution_count": null,
   "metadata": {
    "colab": {
     "base_uri": "https://localhost:8080/"
    },
    "id": "7DiQuuVVHKGH",
    "outputId": "07822ec7-6e6a-4452-cf1f-4d99e952d618"
   },
   "outputs": [],
   "source": [
    "# Columns with Missing Values\n",
    "missing_impute_cols"
   ]
  },
  {
   "cell_type": "code",
   "execution_count": null,
   "metadata": {
    "id": "ssFmHGy-HKGH"
   },
   "outputs": [],
   "source": [
    "# Filtering and creating a copy dataframe\n",
    "df_mice = df.filter(missing_impute_cols, axis=1).copy()"
   ]
  },
  {
   "cell_type": "code",
   "execution_count": null,
   "metadata": {
    "colab": {
     "base_uri": "https://localhost:8080/",
     "height": 256
    },
    "id": "cSnzwZUQHKGI",
    "outputId": "14cfbef2-2059-4393-f3e5-4db9edf647b2"
   },
   "outputs": [],
   "source": [
    "# Top three rows\n",
    "df_mice.head(3)"
   ]
  },
  {
   "cell_type": "code",
   "execution_count": null,
   "metadata": {
    "colab": {
     "base_uri": "https://localhost:8080/"
    },
    "id": "wZvSvjgJHKGI",
    "outputId": "3913decd-8d76-4ed4-fd85-a293f987579f"
   },
   "outputs": [],
   "source": [
    "# Data types involved\n",
    "df_mice.dtypes"
   ]
  },
  {
   "cell_type": "code",
   "execution_count": null,
   "metadata": {
    "id": "mYyYPf-xHKGI"
   },
   "outputs": [],
   "source": [
    "# Not imputing missing values now\n",
    "missing_impute_cols.remove('arpu_4g')\n",
    "missing_impute_cols.remove('arpu_5g')"
   ]
  },
  {
   "cell_type": "code",
   "execution_count": null,
   "metadata": {
    "id": "leoE-EBcHKGI"
   },
   "outputs": [],
   "source": [
    "# Creating the copy dataframe for mice imputation\n",
    "df_mice = df.filter(missing_impute_cols, axis=1).copy()"
   ]
  },
  {
   "cell_type": "code",
   "execution_count": null,
   "metadata": {
    "id": "l4SNWE3ZHKGI"
   },
   "outputs": [],
   "source": [
    "# Define MICE Imputer and fill missing values\n",
    "mice_imputer = IterativeImputer(estimator=linear_model.BayesianRidge(), n_nearest_features=None, imputation_order='ascending')"
   ]
  },
  {
   "cell_type": "code",
   "execution_count": null,
   "metadata": {
    "id": "enCl1jbeHKGI"
   },
   "outputs": [],
   "source": [
    "# Fit Transform the data\n",
    "df_mice_imputed = pd.DataFrame(mice_imputer.fit_transform(df_mice), columns=df_mice.columns,index=df_mice.index)\n",
    "save_point(\"fcTel1\")"
   ]
  },
  {
   "cell_type": "code",
   "execution_count": null,
   "metadata": {
    "colab": {
     "base_uri": "https://localhost:8080/",
     "height": 239
    },
    "id": "-XSgE3vHHKGI",
    "outputId": "8763e171-f8d4-41b8-a6e2-ad040f6a2c09"
   },
   "outputs": [],
   "source": [
    "# Top three rows after imputation\n",
    "df_mice_imputed.head(3)"
   ]
  },
  {
   "cell_type": "code",
   "execution_count": null,
   "metadata": {
    "colab": {
     "base_uri": "https://localhost:8080/"
    },
    "id": "NKUYAZb9HKGI",
    "outputId": "5dd1ff06-95ea-4434-da58-8e5e646cee11"
   },
   "outputs": [],
   "source": [
    "# Verifying the imputation\n",
    "df_mice_imputed.isna().sum()"
   ]
  },
  {
   "cell_type": "markdown",
   "metadata": {
    "id": "fJHC0bixHKGJ"
   },
   "source": [
    "Let's update this dataframe to original dataframe!"
   ]
  },
  {
   "cell_type": "code",
   "execution_count": null,
   "metadata": {
    "id": "QXSIvtROHKGJ"
   },
   "outputs": [],
   "source": [
    "# Update the original dataframe\n",
    "df.update(df_mice_imputed)"
   ]
  },
  {
   "cell_type": "code",
   "execution_count": null,
   "metadata": {
    "colab": {
     "base_uri": "https://localhost:8080/",
     "height": 377
    },
    "id": "8mVSxnDsHKGJ",
    "outputId": "b9bb2ddf-b041-475e-f573-ddbb95940b0f"
   },
   "outputs": [],
   "source": [
    "# Top three rows\n",
    "df.head(3)"
   ]
  },
  {
   "cell_type": "markdown",
   "metadata": {
    "id": "3RfoF6W_HKGJ"
   },
   "source": [
    "Let's do imputation for arpu_4g and arpu_5g!\n"
   ]
  },
  {
   "cell_type": "code",
   "execution_count": null,
   "metadata": {
    "id": "9BDdQyPjHKGJ"
   },
   "outputs": [],
   "source": [
    "# Select the columns\n",
    "df_arpu=df[['arpu_4g','arpu_5g']]"
   ]
  },
  {
   "cell_type": "code",
   "execution_count": null,
   "metadata": {
    "id": "_ogUV4jWHKGK"
   },
   "outputs": [],
   "source": [
    "# Filtering the 4G ARPU dataframe where values are not \"Not Applicable\"\n",
    "df_arpu_filterd=df_arpu[df_arpu.arpu_4g!='Not Applicable']"
   ]
  },
  {
   "cell_type": "code",
   "execution_count": null,
   "metadata": {
    "id": "XbW4j56qHKGK"
   },
   "outputs": [],
   "source": [
    "# # Filtering the 5g ARPU dataframe where values are not \"Not Applicable\"\n",
    "df_arpu_filterd=df_arpu_filterd[df_arpu_filterd.arpu_5g!='Not Applicable']"
   ]
  },
  {
   "cell_type": "code",
   "execution_count": null,
   "metadata": {
    "colab": {
     "base_uri": "https://localhost:8080/",
     "height": 175
    },
    "id": "p1Cb5ZDZHKGK",
    "outputId": "5fe42229-5d71-45d0-fb8a-b91efb21fc7e"
   },
   "outputs": [],
   "source": [
    "# Top three rows\n",
    "df_arpu_filterd.head(3)"
   ]
  },
  {
   "cell_type": "code",
   "execution_count": null,
   "metadata": {
    "id": "aOTdsE54HKGK"
   },
   "outputs": [],
   "source": [
    "# Fit transform rest of the data for 4G and 5G ARPU\n",
    "df_arpu_mice_imputed = pd.DataFrame(mice_imputer.fit_transform(df_arpu_filterd), columns=df_arpu_filterd.columns,index=df_arpu_filterd.index)"
   ]
  },
  {
   "cell_type": "code",
   "execution_count": null,
   "metadata": {
    "colab": {
     "base_uri": "https://localhost:8080/",
     "height": 175
    },
    "id": "hodYjcklHKGK",
    "outputId": "998f15aa-a94c-4041-9500-c23a6d4039f9"
   },
   "outputs": [],
   "source": [
    "# Top three rows for imputed data\n",
    "df_arpu_mice_imputed.head(3)"
   ]
  },
  {
   "cell_type": "markdown",
   "metadata": {
    "id": "4HgQiW_JHKGK"
   },
   "source": [
    "Let's update this to original dataframe!"
   ]
  },
  {
   "cell_type": "code",
   "execution_count": null,
   "metadata": {
    "colab": {
     "base_uri": "https://localhost:8080/"
    },
    "id": "8wzaeudnHKGK",
    "outputId": "e9e75f10-fa34-4fc8-f831-034ec35746e0"
   },
   "outputs": [],
   "source": [
    "# Verifying that there are no missing values\n",
    "df_arpu_mice_imputed.isna().sum()"
   ]
  },
  {
   "cell_type": "code",
   "execution_count": null,
   "metadata": {
    "id": "pBJMEunUHKGK"
   },
   "outputs": [],
   "source": [
    "# Updating the main dataframe\n",
    "df.update(df_arpu_mice_imputed)"
   ]
  },
  {
   "cell_type": "code",
   "execution_count": null,
   "metadata": {
    "colab": {
     "base_uri": "https://localhost:8080/",
     "height": 197
    },
    "id": "SqNgNcLKHKGK",
    "outputId": "1b75cfe1-d47f-4f23-ed9f-4e0a76ccda4c"
   },
   "outputs": [],
   "source": [
    "# Verifying that there are no missing values\n",
    "df[df['arpu_4g'].isna()]"
   ]
  },
  {
   "cell_type": "code",
   "execution_count": null,
   "metadata": {
    "colab": {
     "base_uri": "https://localhost:8080/"
    },
    "id": "7jW0IlCZHKGK",
    "outputId": "ededacad-cc8f-4237-d311-9581ebcb2e38"
   },
   "outputs": [],
   "source": [
    "# Verifying that there are no missing values\n",
    "df.isna().sum()"
   ]
  },
  {
   "cell_type": "code",
   "execution_count": null,
   "metadata": {
    "id": "MpwdOsAxHKGK"
   },
   "outputs": [],
   "source": [
    "# Resetting Index\n",
    "df=df.reset_index(drop=False)"
   ]
  },
  {
   "cell_type": "code",
   "execution_count": null,
   "metadata": {
    "id": "Enrr6L_ha2Jx"
   },
   "outputs": [],
   "source": [
    "# Save Data\n",
    "# df.to_csv('../data/processed/Telecom_Data.csv',index=False)"
   ]
  },
  {
   "cell_type": "markdown",
   "metadata": {
    "id": "noz9S0JBN4xQ"
   },
   "source": [
    "## **Bivariate Analysis**\n",
    "\n",
    "Bivariate data analysis is the statistical analysis that deals with the study of the relationship between two variables. In bivariate analysis, the variables are studied to determine if there is a relationship between them and to what extent they are related.\n",
    "\n",
    "Bivariate analysis is often used to study the association or correlation between two quantitative variables, such as height and weight, or between two categorical variables, such as gender and occupation. It can also be used to study the relationship between a quantitative and a categorical variable, such as age and income by occupation.\n",
    "\n",
    "Some common techniques used in bivariate data analysis include scatterplots, correlation analysis, contingency tables, and regression analysis. These techniques help to visually and quantitatively explore the relationship between the variables of interest.\n",
    "\n",
    " The goal of bivariate analysis is to identify patterns and relationships in data that can be used to make predictions or draw conclusions."
   ]
  },
  {
   "cell_type": "markdown",
   "metadata": {
    "id": "atc4KA3fnOzF"
   },
   "source": [
    "Filling rest of the missing values with 0"
   ]
  },
  {
   "cell_type": "code",
   "execution_count": null,
   "metadata": {
    "id": "h3guns3hdtyj"
   },
   "outputs": [],
   "source": [
    "# replace arpu 4G NA to 0\n",
    "df['arpu_5g'].replace(\"Not Applicable\", 0, inplace=True)\n",
    "df['arpu_4g'].replace(\"Not Applicable\", 0, inplace=True)\n",
    "\n",
    "df[\"total_rech_data\"] = df[\"total_rech_data\"].fillna(0)\n",
    "df['total_rech_amt'] = df['total_rech_amt'].fillna(0)\n",
    "df['night_pck_user'] = df['night_pck_user'].fillna(0)\n",
    "df['fb_user'] = df['fb_user'].fillna(0)"
   ]
  },
  {
   "cell_type": "code",
   "execution_count": null,
   "metadata": {
    "id": "DY-ZPcxQcYhO"
   },
   "outputs": [],
   "source": [
    "# Converting categorical variables back to category type For ex- Month is stored in numerical format\n",
    "\n",
    "other_cat_vars =  ['Month', 'Month of Joining', 'zip_code', 'latitude', 'longitude','night_pck_user', 'fb_user', 'Churn Value']\n",
    "\n",
    "for var in other_cat_vars:\n",
    "    df[var] = df[var].astype('object')\n",
    "\n",
    "# list of categorical variables\n",
    "cat_vars = list(df.select_dtypes(include=['object']).columns)"
   ]
  },
  {
   "cell_type": "code",
   "execution_count": null,
   "metadata": {
    "id": "wh_UZfn-bS1u"
   },
   "outputs": [],
   "source": [
    "# list of numerical variables\n",
    "num_vars = list(df.select_dtypes(include=['int64', 'float64']).columns)"
   ]
  },
  {
   "cell_type": "code",
   "execution_count": null,
   "metadata": {
    "colab": {
     "base_uri": "https://localhost:8080/"
    },
    "id": "lS6o6r3unkDm",
    "outputId": "e79c50e4-2d9b-4f89-88cf-50ec2290dec4"
   },
   "outputs": [],
   "source": [
    "len(num_vars)"
   ]
  },
  {
   "cell_type": "markdown",
   "metadata": {
    "id": "3HvY7rO4nOzG"
   },
   "source": [
    "### **Month and Churn Value**\n",
    "\n"
   ]
  },
  {
   "cell_type": "code",
   "execution_count": null,
   "metadata": {
    "colab": {
     "base_uri": "https://localhost:8080/",
     "height": 682
    },
    "id": "a5Uhe8a6nOzG",
    "outputId": "244e3b6c-e368-4585-efc2-e77eca4238a8"
   },
   "outputs": [],
   "source": [
    "# Plot the churn by month\n",
    "plt.figure(figsize=(10,6))\n",
    "sns.countplot(x=\"Month\", hue=\"Churn Value\", data=df)\n",
    "plt.title(\"Countplot of churned vs. non-churned customers for each month\")\n",
    "\n",
    "churn_by_month = df.groupby('Month')['Churn Value'].mean()\n",
    "print(churn_by_month)"
   ]
  },
  {
   "cell_type": "markdown",
   "metadata": {
    "id": "gPgd2BP-nOzH"
   },
   "source": [
    "**Observation**:\n",
    "\n",
    "* We can observe that January has the highest churn rate of 36.44%, followed by February with a churn rate of 16.57%. March has a churn rate of 14.84%, which is slightly lower than February. After that, the churn rate decreases steadily for the remaining months, with the lowest churn rate being in July with only 1.87%.\n",
    "\n",
    "* This indicates that there may be some seasonal patterns in the customer churn rate, with the churn rate being highest during the first few months of the year and gradually decreasing towards the end of the year. "
   ]
  },
  {
   "cell_type": "markdown",
   "metadata": {
    "id": "B3J0rskHnOzH"
   },
   "source": [
    "### **Age and Churn Value**"
   ]
  },
  {
   "cell_type": "code",
   "execution_count": null,
   "metadata": {
    "colab": {
     "base_uri": "https://localhost:8080/",
     "height": 404
    },
    "id": "jvp679BynOzJ",
    "outputId": "b5ca1a0c-5b73-427c-91f5-d5ad7a546e86"
   },
   "outputs": [],
   "source": [
    "# Put ages into bins\n",
    "bins = [0, 18, 25, 35, 50, 65, 100]\n",
    "labels = ['<18', '18-24', '25-34', '35-49', '50-64', '65+']\n",
    "df['age_bucket'] = pd.cut(df['Age'], bins=bins, labels=labels)\n",
    "\n",
    "# Plot Age vs Churn Distribution\n",
    "plt.figure(figsize=(10,6))\n",
    "sns.histplot(data=df, x='age_bucket', hue='Churn Value', multiple='stack')\n",
    "plt.title('Distribution of Ages for Churned vs. Non-Churned Customers')\n",
    "plt.xlabel('Age')\n",
    "plt.ylabel('Count')\n",
    "plt.show()"
   ]
  },
  {
   "cell_type": "code",
   "execution_count": null,
   "metadata": {
    "colab": {
     "base_uri": "https://localhost:8080/"
    },
    "id": "h5yE7iIOnOzJ",
    "outputId": "8ece89ab-bf67-46e9-a182-11b9b73c1e8a"
   },
   "outputs": [],
   "source": [
    "# Get count of churned and non-churned customers \n",
    "age_churn_counts = df.groupby(['age_bucket', 'Churn Value'])['Churn Value'].count()\n",
    "print(age_churn_counts)"
   ]
  },
  {
   "cell_type": "code",
   "execution_count": null,
   "metadata": {
    "colab": {
     "base_uri": "https://localhost:8080/"
    },
    "id": "rn-D6AvxnOzJ",
    "outputId": "17b7e887-c54a-4af2-9f1a-bdc913c21ad5"
   },
   "outputs": [],
   "source": [
    "# calculate churn rate for each age bucket\n",
    "age_churn_rates = df.groupby('age_bucket')['Churn Value'].mean()\n",
    "print(age_churn_rates)"
   ]
  },
  {
   "cell_type": "markdown",
   "metadata": {
    "id": "NxhFT34HnOzJ"
   },
   "source": [
    "**Observation**:\n",
    "\n",
    "* There doesn't seem to be a significant difference in churn rates across the different age buckets. The churn rate ranges from 4.49% to 4.71% across the different age buckets, with the highest churn rate being in the 50-64 age bucket. However, the difference in churn rate between the age buckets is relatively small, with none of them being significantly higher or lower than the others. \n",
    "\n",
    "* This suggests that age may not be a strong predictor of churn on its own, and that other variables may be more important in determining whether a customer will churn or not."
   ]
  },
  {
   "cell_type": "markdown",
   "metadata": {
    "id": "R1KqTtvvnOzK"
   },
   "source": [
    "### **Age and ARPU**\n",
    "\n"
   ]
  },
  {
   "cell_type": "code",
   "execution_count": null,
   "metadata": {
    "colab": {
     "base_uri": "https://localhost:8080/",
     "height": 630
    },
    "id": "cJTK7ETanOzK",
    "outputId": "318b6aed-2fed-454d-8e0f-57d6955e9e53"
   },
   "outputs": [],
   "source": [
    "# Create a box plot to compare the distribution of ARPU for churned vs. non-churned customers in each age bucket\n",
    "plt.figure(figsize=(10,6))\n",
    "sns.boxplot(data=df, x='age_bucket', y='arpu', hue='Churn Value')\n",
    "plt.title('ARPU Distribution for Churned vs. Non-Churned Customers in Each Age Bucket')\n",
    "plt.xlabel('Age Bucket')\n",
    "plt.ylabel('ARPU')\n",
    "plt.show()\n",
    "\n",
    "# Calculate the mean ARPU for churned vs. non-churned customers\n",
    "age_arpu = df.groupby(['age_bucket', 'Churn Value'])['arpu'].mean().reset_index()\n",
    "print(age_arpu)\n"
   ]
  },
  {
   "cell_type": "markdown",
   "metadata": {
    "id": "KI1PupE9nOzK"
   },
   "source": [
    "**Observation**:\n",
    "\n",
    "* In general, we can see that the average revenue per user (ARPU) is higher for churned customers in all age buckets. This may indicate that customers who spend more on the service are more likely to churn, which is a cause for concern for the company.\n",
    "\n",
    "* We can see that the churn rates for different age groups are similar, but the average revenue per user (ARPU) is higher for older customers who did not churn. This suggests that older customers may be more loyal to the product and less likely to switch to a competitor, but they also value consistency and are less likely to increase their spending on the product."
   ]
  },
  {
   "cell_type": "markdown",
   "metadata": {
    "id": "-NGgdLv_nOzK"
   },
   "source": [
    "### **Age and Customer Satisfaction Score**\n"
   ]
  },
  {
   "cell_type": "code",
   "execution_count": null,
   "metadata": {
    "colab": {
     "base_uri": "https://localhost:8080/",
     "height": 543
    },
    "id": "Ok1c16dknOzK",
    "outputId": "e0c12e71-784a-493d-a190-3a1594d9c411"
   },
   "outputs": [],
   "source": [
    "# boxplot to visualize the distribution of satisfaction scores for each age bucket\n",
    "checkpoint('fcTel1')\n",
    "plt.figure(figsize=(10,6))\n",
    "sns.boxplot(data=df, x='age_bucket', y='Satisfaction Score', hue='Churn Value')\n",
    "plt.title('Distribution of Satisfaction Scores by Age and Churn')\n",
    "plt.xlabel('Age Bucket')\n",
    "plt.ylabel('Satisfaction Score')\n",
    "plt.show()\n",
    "\n",
    "# Calculate the mean satisfaction score for each age bucket and churn group\n",
    "age_satisfaction = df.groupby(['age_bucket', 'Churn Value']).agg({'Satisfaction Score': 'mean'}).reset_index()\n",
    "\n",
    "# Pivot the table to make the churn values into columns\n",
    "age_satisfaction = age_satisfaction.pivot(index='age_bucket', columns='Churn Value', values='Satisfaction Score')\n",
    "print(age_satisfaction)\n"
   ]
  },
  {
   "cell_type": "markdown",
   "metadata": {
    "id": "xgW7DO8rnOzK"
   },
   "source": [
    "**Observation**:\n",
    "\n",
    "* Overall, the mean satisfaction scores are relatively similar across all age buckets, ranging from 3.18 to 3.19.\n",
    "\n",
    "* Let's see the most frequent reason for churn in each age group."
   ]
  },
  {
   "cell_type": "code",
   "execution_count": null,
   "metadata": {
    "id": "QNy7_Xb0nOzK"
   },
   "outputs": [],
   "source": [
    "# Create a pivot table with churn reasons as columns and age buckets as rows\n",
    "pivot_table = pd.pivot_table(df, index='age_bucket', columns='Churn Reason', values='Churn Value', aggfunc='sum')\n",
    "\n",
    "# Remove the \"Unknown\" category from the pivot table\n",
    "age_pivot = pivot_table[pivot_table.columns.drop(\"Unknown\")]\n",
    "\n",
    "# Get the top three most frequent reasons for churn in each age bucket\n",
    "top_three = age_pivot.apply(lambda x: x.nlargest(3).index.tolist(), axis=1).to_frame(name='Top Three Reasons')\n",
    "\n",
    "\n"
   ]
  },
  {
   "cell_type": "code",
   "execution_count": null,
   "metadata": {
    "colab": {
     "base_uri": "https://localhost:8080/",
     "height": 402
    },
    "id": "BOGoNE6dnOzK",
    "outputId": "5578dbfa-58c3-4648-94f4-9c7ebfcebfbd"
   },
   "outputs": [],
   "source": [
    "# Let's look into the pivot table\n",
    "age_pivot"
   ]
  },
  {
   "cell_type": "code",
   "execution_count": null,
   "metadata": {
    "id": "0z6SWpIDnOzK"
   },
   "outputs": [],
   "source": [
    "# top three reasons\n",
    "top_three = top_three.reset_index().drop(0).reset_index(drop=True)"
   ]
  },
  {
   "cell_type": "code",
   "execution_count": null,
   "metadata": {
    "colab": {
     "base_uri": "https://localhost:8080/",
     "height": 206
    },
    "id": "owvncb-HnOzL",
    "outputId": "118c5e41-eaa1-4c13-8d6f-a2a91056d31a"
   },
   "outputs": [],
   "source": [
    "top_three"
   ]
  },
  {
   "cell_type": "code",
   "execution_count": null,
   "metadata": {},
   "outputs": [],
   "source": [
    "# Print the top reasons people churned in each age bucket\n",
    "for i, row in top_three.reset_index().iterrows():\n",
    "    print(row['age_bucket'], row['Top Three Reasons'])"
   ]
  },
  {
   "cell_type": "markdown",
   "metadata": {
    "id": "lnAUVp0dnOzL"
   },
   "source": [
    "**Observations**:\n",
    "\n",
    "* The most common churn reasons are related to dissatisfaction with the service provided by the company, followed by competition from other service providers for customers across all age brackets.\n",
    "\n",
    "* Attitude of support person was one of the top reasons for churn across all age groups. The company could invest in training their support staff to provide better customer service, and focus on addressing customer complaints professionally and effectively.\n",
    "\n",
    "* Competitors offering better devices and more data were a common reason for churn in the 35-49 and 65+ age groups. The company could consider offering competitive deals and promotions to retain customers and attract new ones.\n",
    "\n",
    "* Lack of self-service on the website was a common reason for churn in the 18-24 and 25-34 age groups, and was also a contributing factor in the 35-49 age group. The company could work on improving their website and mobile app to offer more self-service options, such as account management and bill payment, to make it easier for customers to manage their accounts."
   ]
  },
  {
   "cell_type": "markdown",
   "metadata": {
    "id": "yAdXdahCx8ZD"
   },
   "source": [
    "### **Negative ARPU**"
   ]
  },
  {
   "cell_type": "markdown",
   "metadata": {
    "id": "asIt3KmqWfRP"
   },
   "source": [
    "**Univarite Data Analysis Observation**:\n",
    "\n",
    "The fact that 17% of the people have negative arpu means that a significant proportion of the customer base is not generating revenue for the telecom company. \n",
    "\n",
    "This could be due to a number of reasons, such as inactive accounts, delinquent accounts, or accounts with outstanding balances. \n",
    "\n",
    "To understand more about this issue, we can investigate other variables that may be related to negative arpu, such as churn status. We can also look at the distribution of negative arpu values across different demographic groups, such as age, gender, and location, to see if there are any patterns or trends. \n",
    "\n",
    "Additionally, we can explore whether there are any correlations between negative arpu and other variables, such as usage patterns, service subscriptions, and customer satisfaction scores to understand what's causing this behaviour.\n",
    "\n",
    "Overall, further investigation is needed to fully understand the implications of negative arpu for the telecom company.\n"
   ]
  },
  {
   "cell_type": "code",
   "execution_count": null,
   "metadata": {
    "colab": {
     "base_uri": "https://localhost:8080/",
     "height": 404
    },
    "id": "F3WUmpDWq_rZ",
    "outputId": "0d20d908-3a8a-444b-d1e1-8f1ffa4ddede"
   },
   "outputs": [],
   "source": [
    "# calculate the percentage of customers with negative ARPU\n",
    "negative_arpu_percentage = (df[df['arpu'] < 0]['arpu'].count() / df.shape[0]) * 100\n",
    "\n",
    "# create a bar plot to visualize the negative ARPU percentage\n",
    "plt.figure(figsize=(10,6))\n",
    "plt.bar(['Negative ARPU', 'Positive ARPU'], [negative_arpu_percentage, 100 - negative_arpu_percentage])\n",
    "plt.title('Percentage of Customers with Negative ARPU')\n",
    "plt.xlabel('ARPU')\n",
    "plt.ylabel('Percentage')\n",
    "plt.show()"
   ]
  },
  {
   "cell_type": "code",
   "execution_count": null,
   "metadata": {
    "colab": {
     "base_uri": "https://localhost:8080/",
     "height": 373
    },
    "id": "8hOOmjN3rNfO",
    "outputId": "77d68e1c-9fd6-4ba1-b64a-8b2c4d4b0cdb"
   },
   "outputs": [],
   "source": [
    "# the relationship between negative ARPU and churn status\n",
    "churn_negative_arpu = df[df['arpu'] < 0]['Churn Value'].value_counts(normalize=True)\n",
    "\n",
    "# create a pie chart to visualize the churn status of customers with negative ARPU\n",
    "plt.figure(figsize=(10,6))\n",
    "plt.pie(churn_negative_arpu, labels=churn_negative_arpu.index, autopct='%1.1f%%')\n",
    "plt.title('Churn Status of Customers with Negative ARPU')\n",
    "plt.show()"
   ]
  },
  {
   "cell_type": "markdown",
   "metadata": {
    "id": "otoa-CspsOKV"
   },
   "source": [
    "**Observation**: \n",
    "\n",
    "* 95.2% of customers with negative ARPU did not churn, while only 4.8% of customers with negative ARPU churned.\n",
    "\n",
    "* This suggests that having negative ARPU is not necessarily a strong predictor of churn. However, further analysis is needed to fully understand the relationship between negative ARPU and churn. Other factors, such as usage patterns, service subscriptions, and customer satisfaction, may also play a role in predicting churn.\n",
    "\n",
    "* It's possible that the negative ARPU is a result of money spent by the company to retain customers but negative ARPU could also be a result of other factors, such as accounts that have been inactive for a long time or delinquent accounts with outstanding balances. \n",
    "\n",
    "* Additionally, the 4.8% of customers with negative ARPU who churned may have done so for reasons such as finding a better deal elsewhere."
   ]
  },
  {
   "cell_type": "code",
   "execution_count": null,
   "metadata": {
    "colab": {
     "base_uri": "https://localhost:8080/"
    },
    "id": "vD1BpvqWs26S",
    "outputId": "438b5dbd-afc1-4ce5-df19-41a11a4e83fa"
   },
   "outputs": [],
   "source": [
    "# Lets analyze further\n",
    "\n",
    "negative_arpu_churn = df[(df['arpu'] < 0) & (df['Churn Value'] == 1)]\n",
    "\n",
    "print(\"Number of customers with negative ARPU who churned: \", len(negative_arpu_churn['Customer ID']))\n"
   ]
  },
  {
   "cell_type": "code",
   "execution_count": null,
   "metadata": {
    "colab": {
     "base_uri": "https://localhost:8080/",
     "height": 404
    },
    "id": "IE6gadPQtg7R",
    "outputId": "948ab747-4397-4ad7-a5b4-cfd110932f56"
   },
   "outputs": [],
   "source": [
    "# count plot of negative churned\n",
    "plt.figure(figsize=(10,6))\n",
    "sns.countplot(x='Satisfaction Score', hue='Churn Value', data=negative_arpu_churn)\n",
    "\n",
    "# add labels and title\n",
    "plt.xlabel('Satisfaction Score')\n",
    "plt.ylabel('Count')\n",
    "plt.title('Churn Status by Satisfaction Score')\n",
    "plt.show()"
   ]
  },
  {
   "cell_type": "code",
   "execution_count": null,
   "metadata": {
    "colab": {
     "base_uri": "https://localhost:8080/"
    },
    "id": "TNVrKfdLvA_F",
    "outputId": "5ca80bf1-5438-4d62-c5ed-0017c39afe4e"
   },
   "outputs": [],
   "source": [
    "# calculate the average customer satisfaction score for this group\n",
    "avg_satisfaction = negative_arpu_churn['Satisfaction Score'].mean()\n",
    "print(\"Average customer satisfaction score:\", round(avg_satisfaction,2))"
   ]
  },
  {
   "cell_type": "markdown",
   "metadata": {
    "id": "lFDUAL3AwnWD"
   },
   "source": [
    "**Observation**:\n",
    "\n",
    "* The average customer satisfaction score for churned customers with negative ARPU is 2, it suggests that these customers were not satisfied with the services provided by the telecom company.\n",
    "\n",
    "* It could mean that the company needs to improve its services and support to retain its customers."
   ]
  },
  {
   "cell_type": "code",
   "execution_count": null,
   "metadata": {
    "colab": {
     "base_uri": "https://localhost:8080/",
     "height": 614
    },
    "id": "n1PKfIiFyDGd",
    "outputId": "b4ca9a5f-8a9f-475d-8bf1-97d6804112c8"
   },
   "outputs": [],
   "source": [
    "# count the number of customers for each churn reason\n",
    "churn_reason_counts = negative_arpu_churn['Churn Reason'].value_counts()\n",
    "\n",
    "# plot the churn reason counts\n",
    "plt.figure(figsize=(16,6))\n",
    "sns.barplot(x=churn_reason_counts.index, y=churn_reason_counts)\n",
    "plt.title('Churn Reason for Customers with Negative ARPU and Churned')\n",
    "plt.xlabel('Churn Reason')\n",
    "plt.ylabel('Count')\n",
    "plt.xticks(rotation=90)\n",
    "plt.show()"
   ]
  },
  {
   "cell_type": "markdown",
   "metadata": {
    "id": "8V3gBdcG0C94"
   },
   "source": [
    "**Observation**:\n",
    "\n",
    "* The distribution of churn reasons is quite similar, which makes it difficult to draw clear conclusions. However, there are a few observations we can make.\n",
    "\n",
    "* The most common reason for churn is \"Unknown,\" which could suggest that the company needs to do a better job of tracking and understanding customer behavior and reasons for leaving.\n",
    "\n",
    "* Other common reasons for churn include price, service dissatisfaction, and network reliability, which could indicate that the company needs to focus on improving the quality of its service and offering competitive pricing to retain customers.\n",
    "\n",
    "* The fact that many customers cited competitor offerings as a reason for leaving suggests that the company may need to do a better job of differentiating itself in the market.\n",
    "\n",
    "* The presence of unusual reasons such as \"43tgeh\" with only 16 counts could indicate data entry errors or outliers that should be investigated and corrected."
   ]
  },
  {
   "cell_type": "markdown",
   "metadata": {
    "id": "9g09NlpunOzO"
   },
   "source": [
    "### **ARPU and Customer Demographics**"
   ]
  },
  {
   "cell_type": "code",
   "execution_count": null,
   "metadata": {
    "colab": {
     "base_uri": "https://localhost:8080/",
     "height": 404
    },
    "id": "gUHPDVEwnOzO",
    "outputId": "fb2df3b6-dc65-4a32-c753-dfbf43697ebf"
   },
   "outputs": [],
   "source": [
    "# Plot arpu vs gender\n",
    "plt.figure(figsize=(10,6))\n",
    "sns.boxplot(x='Gender', y='arpu', data=df)\n",
    "plt.title('ARPU for Genders')\n",
    "plt.xlabel('ARPU')\n",
    "plt.ylabel('Gender')\n",
    "plt.show()"
   ]
  },
  {
   "cell_type": "markdown",
   "metadata": {
    "id": "BQmy9WKinOzO"
   },
   "source": [
    "**Observation**:\n",
    "\n",
    "* No relationship between Gender and ARPU."
   ]
  },
  {
   "cell_type": "code",
   "execution_count": null,
   "metadata": {
    "colab": {
     "base_uri": "https://localhost:8080/",
     "height": 404
    },
    "id": "EWUSf4jbnOzO",
    "outputId": "91027ff9-63b2-42e9-831b-79976270ad44"
   },
   "outputs": [],
   "source": [
    "# Plot arpu vs married\n",
    "plt.figure(figsize=(10,6))\n",
    "sns.boxplot(x='Married', y='arpu', data=df)\n",
    "plt.title('ARPU for Married Customers')\n",
    "plt.xlabel('ARPU')\n",
    "plt.ylabel('Married')\n",
    "plt.show()"
   ]
  },
  {
   "cell_type": "markdown",
   "metadata": {
    "id": "vloEwZxjnOzP"
   },
   "source": [
    "### **ARPU and Churn Value**"
   ]
  },
  {
   "cell_type": "code",
   "execution_count": null,
   "metadata": {
    "colab": {
     "base_uri": "https://localhost:8080/",
     "height": 404
    },
    "id": "Jncy-RxxnOzP",
    "outputId": "6abef7b7-60f1-4c27-e002-a02d7fdbc49c"
   },
   "outputs": [],
   "source": [
    "# plot arpu vs churn\n",
    "\n",
    "plt.figure(figsize=(10,6))\n",
    "sns.boxplot(x='Churn Value', y='arpu', data=df)\n",
    "plt.title('ARPU for Churned and Not Churned Customers')\n",
    "plt.xlabel('ARPU')\n",
    "plt.ylabel('Churn')\n",
    "plt.show()"
   ]
  },
  {
   "cell_type": "markdown",
   "metadata": {
    "id": "uoPdAKGObn6U"
   },
   "source": [
    "### **ARPU 4G**"
   ]
  },
  {
   "cell_type": "code",
   "execution_count": null,
   "metadata": {
    "colab": {
     "base_uri": "https://localhost:8080/",
     "height": 404
    },
    "id": "3bR2xXg7nOzP",
    "outputId": "1a09e481-28f7-46b4-9e79-e9b724f46c35"
   },
   "outputs": [],
   "source": [
    "# Box plot for ARPU 4G against churn\n",
    "plt.figure(figsize=(10,6))\n",
    "sns.boxplot(x='Churn Value', y='arpu_4g', data=df)\n",
    "plt.title('ARPU 4G vs Churn')\n",
    "plt.show()"
   ]
  },
  {
   "cell_type": "code",
   "execution_count": null,
   "metadata": {
    "colab": {
     "base_uri": "https://localhost:8080/",
     "height": 405
    },
    "id": "OJt7QSLznOzP",
    "outputId": "2a899be6-a3f3-476c-c4aa-eb09949f8103"
   },
   "outputs": [],
   "source": [
    "# Scatter plot for ARPU 4G against total data usage\n",
    "plt.figure(figsize=(10,6))\n",
    "sns.scatterplot(x='vol_4g', y='arpu_4g', data=df)\n",
    "plt.title('ARPU 4G vs Total Data Usage on 4G network')\n",
    "plt.show()"
   ]
  },
  {
   "cell_type": "markdown",
   "metadata": {
    "id": "TSJ_qn-3nOzQ"
   },
   "source": [
    "**Observations**:\n",
    "\n",
    "* Based on the boxplot of ARPU for 4G network versus total data usage on the 4G network, we can observe that there are some outliers in the upper left corner of the plot. These outliers indicate that there are some customers who have high ARPU despite low total data usage on the 4G network.\n",
    "\n",
    "* One possible explanation for this observation could be that these customers are using other services besides data, such as voice and messaging, which are not measured in this analysis. Additionally, they could be subscribing to premium services, which are charged at a higher rate than regular data usage.\n",
    "\n",
    "* Another possible explanation could be that these customers have a fixed data plan, meaning that they are charged a fixed amount of money regardless of their actual data usage. In this case, their high ARPU could be due to additional charges for services other than data.\n",
    "\n",
    "* On the other hand, we can also observe that there are some customers with high total data usage on the 4G network but low ARPU. This could be due to various reasons such as low usage of other services, opting for cheaper data plans, or using other networks for services that are not provided on the 4G network.\n",
    "\n",
    "\n",
    "\n",
    "\n"
   ]
  },
  {
   "cell_type": "markdown",
   "metadata": {
    "id": "05gqErCVeIVr"
   },
   "source": [
    "### **ARPU 5G**\n",
    "\n"
   ]
  },
  {
   "cell_type": "code",
   "execution_count": null,
   "metadata": {
    "id": "SeD9246lnOzQ",
    "outputId": "3b30d5c5-7fe1-4ba4-8737-154228733d39"
   },
   "outputs": [],
   "source": [
    "# Box plot for ARPU 5G and Churn value\n",
    "plt.figure(figsize=(10,6))\n",
    "sns.boxplot(data=df, x='Churn Value', y='arpu_5g')\n",
    "plt.title('ARPU 5G for Churn Values')\n",
    "plt.show()"
   ]
  },
  {
   "cell_type": "markdown",
   "metadata": {
    "id": "cnrBQGI1f6SU"
   },
   "source": [
    "### **Night Pack User**\n",
    "\n"
   ]
  },
  {
   "cell_type": "code",
   "execution_count": null,
   "metadata": {
    "id": "OdAGN3a-nOzQ",
    "outputId": "3b37a55d-75ee-4e53-8bb8-7468df654690"
   },
   "outputs": [],
   "source": [
    "# Box plot for Night pack user and ARPU\n",
    "plt.figure(figsize=(10,6))\n",
    "sns.boxplot(x='night_pck_user', y='arpu', data=df)\n",
    "plt.title('Distribution of ARPU for Night Pack Users')\n",
    "plt.show()"
   ]
  },
  {
   "cell_type": "markdown",
   "metadata": {
    "id": "UXLtncB5Gs_a"
   },
   "source": [
    "### **Chi Square Test for Association**\n",
    "\n",
    "\n",
    "A sample's distribution of a categorical variable must frequently be compared to the distribution of a categorical variable in another sample.\n",
    "\n",
    "The chi squared test of independence, often known as the chi squared test of association, is used to detect whether or not categorical variables are related. \n",
    "\n",
    "The data must meet the following requirements for this test:\n",
    "\n",
    "* Categorical variables\n",
    "* Sample size is relatively large\n",
    "* Independent observations\n",
    "\n",
    "The chi squared test is performed in the following steps:\n",
    "* Find a \"expected\" number (E) for each observed number (0) in the table.\n",
    "\n",
    "$$χ^2  = \\frac{∑(O_i – E_i)^2}{E_i}$$\n",
    "\n",
    "* A chi-square test will provide us with a p-value. The p-value indicates whether or not our test results are significant.\n",
    "\n",
    "However, in order to do a chi-square test and calculate the p-value, we need two pieces of information:\n",
    "\n",
    "* Degrees of freedom. That is simply the number of categories minus one.\n",
    "\n",
    "* Significance Level. The standard alpha level is 0.05 (5%), but alternative values such as 0.01 or 0.10 are possible.\n",
    "\n",
    "* The following are the different values of p that indicate different hypothesis interpretations:\n",
    "\n",
    "* P = 0.05; Hypothesis is rejected\n",
    "* P > 0.05; Acceptance of Hypothesis\n",
    "\n",
    "\n",
    "\n",
    "\n",
    "\n",
    "For categorical features, we'll use a Chi Squared ($\\chi^2$) test to observe whether each categorical feature pair is correlated.\n",
    "\n",
    "First, we calculate the $\\chi^2$ values, p-values and degrees of freedom:"
   ]
  },
  {
   "cell_type": "code",
   "execution_count": null,
   "metadata": {
    "id": "BMfpYPViG97l"
   },
   "outputs": [],
   "source": [
    "# Categorical variables\n",
    "checkpoint('fcTel1')\n",
    "cat_vars_for_test = [\n",
    " 'Gender',\n",
    " 'Married',\n",
    " 'Dependents',\n",
    " 'night_pck_user',\n",
    " 'fb_user',\n",
    " 'Referred a Friend',\n",
    " 'Phone Service',\n",
    " 'Multiple Lines',\n",
    " 'Internet Service',\n",
    " 'Internet Type',\n",
    " 'Online Security',\n",
    " 'Online Backup',\n",
    " 'Device Protection Plan',\n",
    " 'Premium Tech Support',\n",
    " 'Streaming TV',\n",
    " 'Streaming Movies',\n",
    " 'Streaming Music',\n",
    " 'Unlimited Data',\n",
    " 'Churn Category',\n",
    " 'offer']"
   ]
  },
  {
   "cell_type": "code",
   "execution_count": null,
   "metadata": {
    "colab": {
     "base_uri": "https://localhost:8080/"
    },
    "id": "4QcU11jnGxrB",
    "outputId": "1320fee2-e5a2-4ea4-8eb8-5bf23451a593"
   },
   "outputs": [],
   "source": [
    "# Chi-square tests\n",
    "from scipy.stats import chi2_contingency\n",
    "\n",
    "for var in cat_vars_for_test:\n",
    "    # Create binary encoded variables for categorical variable\n",
    "    df_encoded = pd.get_dummies(df[var], prefix=var, drop_first=True)\n",
    "    df_encoded['Churn Value'] = df['Churn Value']\n",
    "    \n",
    "    # Calculate chi-square test statistic and p-value\n",
    "    chi2, p_val, dof, expected = chi2_contingency(pd.crosstab(df_encoded.iloc[:, 1], df_encoded['Churn Value']))\n",
    "    \n",
    "    if p_val < 0.05:\n",
    "        print(\"---------------------------------\")\n",
    "        print(f'Statistically significant association between {var} and Churn')\n",
    "        print('P-Value:', p_val)\n",
    "    else:\n",
    "        pass"
   ]
  },
  {
   "cell_type": "markdown",
   "metadata": {
    "id": "rKHqdg8-Ix7d"
   },
   "source": [
    "### **Single Way ANOVA**\n",
    "\n",
    "ANOVA, or Analysis of Variance, is a statistical method used to test whether there are significant differences between the means of two or more groups. It is a generalization of t-tests, which can only be used to compare two groups, and is commonly used in experimental design and analysis.\n",
    "\n",
    "In order to perform ANOVA, you need at least one continuous variable and one categorical variable that separates your data into comparison groups. The test compares the variance of group means to the variance of the groups, which allows you to determine if the groups are part of a larger population or if they are separate populations with different means.\n",
    "\n",
    "The null hypothesis for ANOVA is that all groups have the same mean, while the alternative hypothesis is that at least one group has a different mean. The test calculates $F$ values, which are the ratio of the between- and within-group mean squares, and p-values. The $F$ value is used to determine whether or not the means of the groups are significantly different, while the p-value is used to determine the probability of obtaining a certain $F$ value by chance.\n",
    "\n",
    "It is important to note that ANOVA only tells you that there is a difference between groups, but not where the difference is. \n",
    "\n",
    "Overall, ANOVA is a powerful statistical tool that can help you understand whether there are significant differences between the means of different groups. It can be used in a wide range of fields, including biology, psychology, and engineering, to help researchers gain insights into their data and make informed decisions.\n",
    "\n",
    "\n",
    "\n",
    "\n"
   ]
  },
  {
   "cell_type": "code",
   "execution_count": null,
   "metadata": {
    "colab": {
     "base_uri": "https://localhost:8080/"
    },
    "id": "74cIfIv4JPAW",
    "outputId": "5544149f-92e6-4fb9-da16-d48e3cefb077"
   },
   "outputs": [],
   "source": [
    "from scipy.stats import f_oneway\n",
    "\n",
    "# Loop over each numeric variable and test its association with churn using ANOVA\n",
    "for var in num_vars:\n",
    "    churn_yes = df[df['Churn Value'] == 1][var]\n",
    "    churn_no = df[df['Churn Value'] == 0][var]\n",
    "    f_statistic, p_value = f_oneway(churn_yes, churn_no)\n",
    "    \n",
    "    \n",
    "    if p_value < 0.05:\n",
    "        print('Statistically Significant')\n",
    "        print('Variable:', var)\n",
    "        print('Churn Yes Mean:', churn_yes.mean())\n",
    "        print('Churn No Mean:', churn_no.mean())\n",
    "        print('F-Statistic:', f_statistic)\n",
    "        print('P-Value:', p_value)\n",
    "        print('------------------')\n",
    "    else:\n",
    "        pass"
   ]
  },
  {
   "cell_type": "markdown",
   "metadata": {
    "id": "v_s_beCeLFr4"
   },
   "source": [
    "### **Churn Value**"
   ]
  },
  {
   "cell_type": "code",
   "execution_count": null,
   "metadata": {
    "id": "_TyVALLenOzS",
    "outputId": "f6ff5477-64a2-4e59-f9fc-713376e48889"
   },
   "outputs": [],
   "source": [
    "# Box plot for Churn value and total recharge amount\n",
    "plt.figure(figsize=(10,6))\n",
    "sns.boxplot(x='Churn Value', y='total_rech_amt', data=df)\n",
    "plt.title('Total recharge amount')\n",
    "plt.show()\n",
    "\n"
   ]
  },
  {
   "cell_type": "markdown",
   "metadata": {
    "id": "s_EvCjMgddbn"
   },
   "source": [
    "**Observation:**\n",
    "\n",
    "It appears that customers who churned had a higher total recharge amount compared to customers who did not churn. This observation suggests that the amount of money that a customer spends on recharges may be a significant factor in their decision to churn.\n",
    "\n",
    "This observation can provide valuable insights for the business. If customers who churned had a higher total recharge amount, it could mean that they were dissatisfied with the quality or value of the services provided by the company, even though they were spending more money. Therefore, the business may need to investigate and address the reasons behind the dissatisfaction to retain high-value customers.\n",
    "\n",
    "In addition, the observation that customers who churned had a higher total recharge amount suggests that identifying and targeting high-value customers for retention efforts may be an effective strategy. By focusing on retaining customers who spend more money, the business can potentially improve their overall revenue and profitability."
   ]
  },
  {
   "cell_type": "markdown",
   "metadata": {
    "id": "mt2bzXYEddbn"
   },
   "source": [
    "### **Referred a friend and Churn**"
   ]
  },
  {
   "cell_type": "markdown",
   "metadata": {
    "id": "6OKMpCL2nOzS"
   },
   "source": [
    "**Hypothesis**:\n",
    "\n",
    "* Customers who refer friends are less likely to churn."
   ]
  },
  {
   "cell_type": "code",
   "execution_count": null,
   "metadata": {
    "id": "9yhOn6qwnOzS",
    "outputId": "69cadcaf-4956-4a61-aac8-841ae53b2689"
   },
   "outputs": [],
   "source": [
    "# pivot table\n",
    "pivot_table = pd.pivot_table(df, values=['Referred a Friend', 'Number of Referrals'], index=['Churn Value'], aggfunc=np.mean)\n",
    "\n",
    "# Print the pivot table\n",
    "print(pivot_table)\n",
    "\n",
    "# Plot the pivot table\n",
    "plt.figure(figsize=(10,6))\n",
    "sns.countplot( x='Referred a Friend', data=df, hue='Churn Value')\n",
    "plt.title('Referred a Friend vs Churn Value')\n",
    "plt.show()\n",
    "\n",
    "\n",
    "plt.figure(figsize=(10,6))\n",
    "sns.barplot(x='Churn Value', y='Number of Referrals', data=df)\n",
    "plt.title('Number of Referrals vs Churn Value')\n",
    "plt.show()"
   ]
  },
  {
   "cell_type": "markdown",
   "metadata": {
    "id": "xHsLqqF5nOzT"
   },
   "source": [
    "Let's calculate churn rate in both groups!"
   ]
  },
  {
   "cell_type": "code",
   "execution_count": null,
   "metadata": {
    "id": "_t1pauGtnOzT",
    "outputId": "c0d16271-cd1e-4cbd-b7c1-d98359543920"
   },
   "outputs": [],
   "source": [
    "refer_group = df.groupby(\"Referred a Friend\")\n",
    "\n",
    "refer_group_churn_rates = refer_group[\"Churn Value\"].mean() * 100\n",
    "\n",
    "refer_group_churn_rates\n"
   ]
  },
  {
   "cell_type": "markdown",
   "metadata": {
    "id": "ONlIS8dNnOzT"
   },
   "source": [
    "**Observation:**\n",
    "\n",
    "If customers who have referred others to the company are churning more, it could suggest that the company's referral program is not effective at retaining customers. This may be due to a variety of reasons, such as:\n",
    "\n",
    "The referral program may not be providing sufficient incentives or rewards to encourage customers to stay.\n",
    "Customers who refer others may have higher expectations of the company and its services, and may be more likely to churn if those expectations are not met."
   ]
  },
  {
   "cell_type": "code",
   "execution_count": null,
   "metadata": {
    "id": "c02cZ5a7nOzT",
    "outputId": "ae0216b8-debb-44bf-a7e2-fc3f28167238"
   },
   "outputs": [],
   "source": [
    "# To make the analysis more thorough, we can combine the Phone Service column with other related columns such as Multiple Lines, Internet Service, and Internet Type. This would give us a better understanding of the customer's overall service usage.\n",
    "\n",
    "# Cross-tabulate Phone Service with Multiple Lines\n",
    "pd.crosstab(df['Phone Service'], df['Multiple Lines'], dropna=False)"
   ]
  },
  {
   "cell_type": "markdown",
   "metadata": {
    "id": "KFeTAAvRnOzT"
   },
   "source": [
    "### **Try it out - I**\n",
    "\n",
    "\n",
    "By analyzing the phone service column, you can identify how many customers have opted for phone services and how it impacts churn rate and other variables. For example, you may find that a large proportion of customers who churned did not have phone services. This could indicate that offering phone services could be an effective way to improve customer retention.\n",
    "\n",
    "On the other hand, you may find that customers with phone services are more likely to churn. This may indicate that there are issues with the phone services that need to be addressed.\n",
    "\n",
    "To gain a more detailed understanding of the impact of phone services on customer behavior and churn rate, you can combine the phone service column with other variables such as demographics, usage patterns, and service types. This can help you identify specific customer segments that are more likely to benefit from phone services or may be more sensitive to phone service issues. For example, you may find that older customers are more likely to value phone services, or that customers who use a lot of data may be less likely to need phone services.\n",
    "\n",
    "Overall, analyzing the phone service column can provide valuable insights into how offering phone services impacts customer behavior and can inform strategies to improve customer retention and satisfaction."
   ]
  },
  {
   "cell_type": "markdown",
   "metadata": {
    "id": "jNPqTBqcnOzT"
   },
   "source": [
    "### **Internet Service and Type**"
   ]
  },
  {
   "cell_type": "code",
   "execution_count": null,
   "metadata": {
    "id": "3YOChESjnOzT",
    "outputId": "9f27f8b4-d3b0-495b-8507-507f8bde19b0"
   },
   "outputs": [],
   "source": [
    "# Count plot between internet service and type\n",
    "plt.figure(figsize=(10,6))\n",
    "sns.countplot(x='Internet Service', hue='Internet Type', data=df)\n",
    "plt.title(\"Count plot for different Internet Types\")\n",
    "plt.show()"
   ]
  },
  {
   "cell_type": "code",
   "execution_count": null,
   "metadata": {
    "id": "2O-lc1y1nOzT",
    "outputId": "9574c350-2e25-46b8-8604-313bc8dad67b"
   },
   "outputs": [],
   "source": [
    "# Internet service and type churn rate\n",
    "df.groupby(['Internet Service', 'Internet Type'])['Churn Value'].mean()"
   ]
  },
  {
   "cell_type": "markdown",
   "metadata": {
    "id": "SFbAlEJXnOzU"
   },
   "source": [
    "**Observation:**\n",
    "\n",
    "If the churn rates for all types of internet services are similar, it may indicate that the type of internet service does not have a significant impact on churn. However, it is also possible that there are other factors at play, such as pricing or customer service, that are more important drivers of churn. Further analysis, such as comparing the churn rates for different pricing tiers or customer service ratings, may be necessary to better understand the relationship between internet service and churn."
   ]
  },
  {
   "cell_type": "markdown",
   "metadata": {
    "id": "qXaoEXS8nOzU"
   },
   "source": [
    "### **Unlimited Data**"
   ]
  },
  {
   "cell_type": "code",
   "execution_count": null,
   "metadata": {
    "id": "1LNqWf4MnOzU",
    "outputId": "4fbab459-d25d-4ee9-e6a4-c17eb43bc798"
   },
   "outputs": [],
   "source": [
    "# distribution of data users for revenue\n",
    "df.groupby('Unlimited Data')[['total_rech_amt','total_rech_data','arpu','Churn Value']].mean()"
   ]
  },
  {
   "cell_type": "code",
   "execution_count": null,
   "metadata": {
    "id": "S_SE4k_DnOzU",
    "outputId": "9af1358f-40ae-4eb7-fb5d-6d5581f5b5c1"
   },
   "outputs": [],
   "source": [
    "# Plot a bar graph of the Streaming Movies column\n",
    "plt.figure(figsize=(10,6))\n",
    "sns.countplot(x='Streaming Movies', data=df, hue=\"Churn Value\")\n",
    "plt.title(\"Plot for churn value for different streaming movies\")\n",
    "plt.show()"
   ]
  },
  {
   "cell_type": "markdown",
   "metadata": {
    "id": "lEvZGOXVnOzU"
   },
   "source": [
    "The company may want to focus on increasing the percentage of customers using streaming movies by improving the quality of the service or offering promotions - check with ARPU, churn value and satisfaction.\n",
    "if +ve effect on any of them, \n",
    "\n",
    "The company may want to investigate why such a large percentage of customers do not use streaming movies and address any concerns or issues that may be preventing them from using the service , understand why and recommend measures.\n",
    "\n",
    "\n"
   ]
  },
  {
   "cell_type": "markdown",
   "metadata": {
    "id": "AuraPhBHnOzU"
   },
   "source": [
    "Hypothesis: Customers with higher ARPU 5G are more likely to be satisfied with their service and less likely to churn."
   ]
  },
  {
   "cell_type": "markdown",
   "metadata": {
    "id": "TGt7VV-WnOzV"
   },
   "source": [
    "### **Try it out - II**\n",
    "\n",
    "Try to experiment with these hypotheses and generate insights.\n",
    "\n",
    "\n",
    "**Hypotheses**:\n",
    "\n",
    "* Customers who have subscribed for premium services such as fiber optic internet, streaming movies, and device protection plan are more likely to have a higher satisfaction score.\n",
    "\n",
    "* Customers who have a longer tenure with the company are more likely to have a higher satisfaction score.\n"
   ]
  },
  {
   "cell_type": "markdown",
   "metadata": {
    "id": "SOZfTegHOBLj"
   },
   "source": [
    "## **Multivariate Analysis**"
   ]
  },
  {
   "cell_type": "code",
   "execution_count": null,
   "metadata": {
    "id": "EV8-C3HFnOzV",
    "outputId": "ed77bdcd-c3e0-43df-95c0-8dce43b7ebd4"
   },
   "outputs": [],
   "source": [
    "# Relationship between arpu, satisfaction score and churn value\n",
    "# the three major pillars of service quality\n",
    "plt.figure(figsize=(10,6))\n",
    "sns.scatterplot(data=df, x='Satisfaction Score',y='arpu', hue='Churn Value')\n",
    "plt.title(\"Scatter Plot betwen Satisfaction Score and ARPU\")\n",
    "plt.show()"
   ]
  },
  {
   "cell_type": "markdown",
   "metadata": {
    "id": "48dA97_snOzV"
   },
   "source": [
    "**Observation:**\n",
    "\n",
    "* Based on the scatterplot, we can observe that the customers who have churned are mostly concentrated in the top left quadrant, where their satisfaction score is low but their average revenue per user (arpu) is high. This indicates that despite the customers generating high revenue, they are not satisfied with the service provided and hence are likely to churn.\n",
    "\n",
    "* On the other hand, customers who are satisfied with the service and are less likely to churn are mostly concentrated in the bottom right quadrant, where their satisfaction score is high and their arpu is comparatively low.\n",
    "\n",
    "* This information can be used by the telecom company to focus on improving the customer satisfaction score, as it is a key factor in retaining customers. They could analyze the reasons behind the low satisfaction score of high-paying customers and take measures to improve their overall experience. This could include providing better network coverage, offering customized plans, improving customer service, or providing incentives to loyal customers."
   ]
  },
  {
   "cell_type": "markdown",
   "metadata": {
    "id": "u0Szl-a6OLiK"
   },
   "source": [
    "#### **Correlation**\n",
    "\n",
    "Correlation coefficient is used to measure the strength of relationship between two variables. It indicates that as the value of one variable changes the other variable changes in a specific direction with some magnitude. There are various ways to find correlation between two variables, one of which is Pearson correlation coefficient.\n",
    "It measures the linear relationship between two continuous variables.\n",
    " \n",
    "Let's say $x$ and $y$ are two continuous variables, the Pearson correlation coefficient between them can be found by the following formula.\n",
    " \n",
    " \n",
    "$$r = \\frac{ \\sum_{i=1}^{n}(x_i-\\bar{x})(y_i-\\bar{y}) }{%\n",
    "        \\sqrt{\\sum_{i=1}^{n}(x_i-\\bar{x})^2}\\sqrt{\\sum_{i=1}^{n}(y_i-\\bar{y})^2}}$$\n",
    " \n",
    "where $x_i$ and $y_i$ represents the $i^{th}$ value of the variables.\n",
    "The value of $r$ ranges between $-1$ and $+1$.\n",
    " \n",
    "Their strength of relationship is measured by the absolute value of coefficient, whereas the sign of the coefficient indicates the direction of the relationship.\n",
    " \n",
    "\n"
   ]
  },
  {
   "cell_type": "markdown",
   "metadata": {
    "id": "s8JOy9aDOPhw"
   },
   "source": [
    "\n",
    "#### **Graphs of Different Correlation Coefficients**\n",
    "![correlation_plots.png](data:image/png;base64,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)\n",
    "\n",
    "1. $r = -1$ indicates a perfect negative relationship between the variables \n",
    "\n",
    "2. $r = 0$ indicates no relationship between the variables\n",
    "\n",
    "3. $r = 1$ indicates a perfect positive relationship between the variables\n",
    "\n"
   ]
  },
  {
   "cell_type": "code",
   "execution_count": null,
   "metadata": {
    "id": "rQfjd43OnOzV",
    "outputId": "ffa4c7f0-f640-43e6-aa8f-46eda2f465dd"
   },
   "outputs": [],
   "source": [
    "mo_distance(\"fcTel1\")\n",
    "# Creating correlation dataframe and generating heatmap\n",
    "df_corr = df[num_vars].corr()\n",
    "mask = np.zeros_like(df_corr)\n",
    "mask[np.triu_indices_from(mask)] = True\n",
    "\n",
    "plt.figure(figsize=(20,12))\n",
    "sns.heatmap(df_corr, cmap='coolwarm', annot=True, fmt='.2f', mask=mask)"
   ]
  },
  {
   "cell_type": "code",
   "execution_count": null,
   "metadata": {
    "id": "gEoyWJ4nnOzV",
    "outputId": "fbf92aab-e13c-4a5d-8aa3-319b14e4a228"
   },
   "outputs": [],
   "source": [
    "# Printing highly correlated variables\n",
    "corr_pairs = []\n",
    "for i in range(len(df_corr.columns)):\n",
    "    for j in range(i):\n",
    "        if abs(df_corr.iloc[i, j]) >= 0.5:\n",
    "            corr_pairs.append((df_corr.columns[i], df_corr.columns[j]))\n",
    "\n",
    "\n",
    "if corr_pairs:\n",
    "    print(\"Highly correlated variable pairs:\")\n",
    "    for pair in corr_pairs:\n",
    "        print(pair[0], \"and\", pair[1])\n",
    "else:\n",
    "    print(\"No highly correlated variable pairs found.\")"
   ]
  },
  {
   "cell_type": "markdown",
   "metadata": {
    "id": "mRYTBXRIddbu"
   },
   "source": [
    "### **Chatterjee Correlation**\n",
    "\n",
    "Chatterjee correlation is a coefficient of correlation proposed by Sourav Chatterjee that measures the degree of dependence between two random variables without assuming anything about their distributions. It is a simple and interpretable measure of dependence that ranges between 0 and 1, where 0 indicates independence and 1 indicates that one variable is a measurable function of the other.\n",
    "\n",
    "Compared to other correlation coefficients, the Chatterjee Correlation is less sensitive to outliers and non-linear relationships between variables. However, it requires more computational resources due to its non-parametric nature.\n",
    "\n",
    "\n",
    "One advantage of the Chatterjee correlation is that it has a simple asymptotic theory under the hypothesis of independence, similar to classical coefficients like Pearson's and Spearman's correlations. This means that we can use it to test the null hypothesis of independence between two variables.\n",
    "\n",
    "The calculation involves the following steps:\n",
    "\n",
    "* Rank the values of Y in the data set, assigning the smallest value the rank of 1, the second smallest the rank of 2, and so on. Store these ranks in a new column called 'rank'.\n",
    "\n",
    "* Rank the values of X in the data set, assigning the smallest value the rank of 1, the second smallest the rank of 2, and so on. Store these ranks in a new column called 'rank_x'.\n",
    "\n",
    "* Sort the data set in increasing order of 'rank_x'.\n",
    "\n",
    "* Calculate the absolute difference between the ranks of Y for consecutive values of X. Sum up these differences.\n",
    "\n",
    "* Calculate the Chatterjee correlation coefficient using the formula:\n",
    "Chatterjee correlation coefficient = 1 - 3 * (sum of absolute differences in ranks) / (N^2 - 1), where N is the number of observations in the data set.\n",
    "\n",
    "* The resulting Chatterjee correlation coefficient is a number between 0 and 1, with 0 indicating no dependence between the two variables and 1 indicating complete dependence.\n",
    "\n",
    "\n",
    "Here's a [link](https://arxiv.org/pdf/1909.10140.pdf) to the the paper."
   ]
  },
  {
   "cell_type": "code",
   "execution_count": null,
   "metadata": {
    "id": "EErbO7Xhddbv"
   },
   "outputs": [],
   "source": [
    "#function for finding chatterejee correlation coefficient\n",
    "def chatterjee_corr(df,x,y):\n",
    "  N=df.shape[0]\n",
    "  df_rank=df\n",
    "\n",
    "  df_rank['rank']=df_rank[y].rank()\n",
    "  # print(df_rank['rank'])\n",
    "\n",
    "  df_rank['rank_x']=df_rank[x].rank()\n",
    "\n",
    "  df_rank=df_rank.sort_values(by='rank_x')\n",
    "\n",
    "  # 1-3*(abs(sum(xri-1 - Xir))/n square-1\n",
    "\n",
    "  # Diff function --> summation -> absolute\n",
    "  chatt_corr=1- (3*df_rank['rank'].diff().abs().sum() )/ (pow(N,2)-1)\n",
    "\n",
    "  return chatt_corr"
   ]
  },
  {
   "cell_type": "code",
   "execution_count": null,
   "metadata": {
    "id": "bRraNSrwddbv"
   },
   "outputs": [],
   "source": [
    "# Taking few important variables generated from the insights earlier\n",
    "num_vars_test = ['Age','Number of Dependents','arpu','roam_ic',\n",
    "                    'roam_og', 'total_rech_amt', 'total_rech_data', 'vol_4g', 'vol_5g', 'arpu_5g','arpu_4g',\n",
    "                    'aug_vbc_5g','Number of Referrals','Streaming Data Consumption','Satisfaction Score']"
   ]
  },
  {
   "cell_type": "code",
   "execution_count": null,
   "metadata": {
    "id": "nwBOINMSddbv",
    "outputId": "ce02c1c8-4a79-41f8-ab70-5ab26813d5a3"
   },
   "outputs": [],
   "source": [
    "# Looping over all numerical variables to check chatterjee correlation\n",
    "for i, var in enumerate(num_vars_test):\n",
    "    for j in range(i + 1, len(num_vars_test)):\n",
    "        corr = chatterjee_corr(df,var, num_vars_test[j])\n",
    "        if corr > 0.6:\n",
    "            print(var, 'and', num_vars_test[j], ':', corr)\n",
    "        "
   ]
  },
  {
   "cell_type": "markdown",
   "metadata": {
    "id": "yOiShaDBddbv"
   },
   "source": [
    "**Observation**:\n",
    "\n",
    "* Age and number of dependents have a moderate positive correlation (0.68). This suggests that as age increases, the number of dependents tends to increase as well.\n",
    "\n",
    "* Total recharge data and arpu_5g have a moderate positive correlation (0.66). This suggests that customers who spend more on data tend to have higher revenue per user for 5G services.\n",
    "\n",
    "* Total recharge data and arpu_4g have a moderate positive correlation (0.67). This suggests that customers who spend more on data tend to have higher revenue per user for 4G services.\n",
    "\n",
    "* Vol_4g and vol_5g have a moderate positive correlation (0.63). This suggests that customers who use more 4G data tend to use more 5G data as well.\n",
    "\n",
    "* Arpu_5g and arpu_4g have a strong positive correlation (0.75). This suggests that customers who spend more on 5G services tend to spend more on 4G services as well."
   ]
  },
  {
   "cell_type": "markdown",
   "metadata": {
    "id": "4SqoxBB0ddbv"
   },
   "source": [
    "### **Try it out - III: Experiment with Data Processing and Feature Engineering Techniques**\n",
    "\n",
    "* Start by selecting one or more variables from the dataset that have not been explored yet in the previous analyses. This could include variables related to customer behavior, usage patterns, or demographics.\n",
    "\n",
    "* Explore the distribution of these variables using histograms, countplots, and boxplots.\n",
    "\n",
    "* Identify any outliers or unusual patterns in the data that might need to be addressed before further analysis.\n",
    "\n",
    "* Experiment with different data processing techniques such as scaling, normalization, or log transformation to see how they affect the distribution and relationships between variables.\n",
    "\n",
    "* Consider feature engineering techniques such as creating new variables by combining existing ones, or encoding categorical variables using techniques such as one-hot encoding or label encoding.\n",
    "\n",
    "* Use correlation analysis to investigate the relationships between the new variables and the target variable of customer churn.\n",
    "\n",
    "* Compare the results of the new analysis with the previous analysis to see if the new variables or processing techniques provide any new insights into customer churn and satisfaction score.\n",
    "\n",
    "* Draw conclusions and provide recommendations based on the new analysis and insights gained.\n",
    "\n",
    "* Repeat the process with other variables in the dataset to explore different aspects of customer behavior and usage patterns."
   ]
  },
  {
   "cell_type": "markdown",
   "metadata": {
    "id": "SLNcMYD3cezw"
   },
   "source": [
    "## **Project Summary**\n",
    "\n",
    "In this project, we analyzed a telecom dataset with the aim of identifying insights and making recommendations for the business. We performed univariate, bivariate, and multivariate analyses to identify patterns and relationships between various variables. \n",
    "\n",
    "Through EDA, we identified that the company lacks targeted marketing for specific customers, satisfaction scores are low, and the major reasons for churn were attitude of customer support and competition offering better deals. \n",
    " \n",
    " \n",
    "Our future scope includes implementing machine learning algorithms for predictive analysis, conducting A/B testing, and continuously monitoring and improving customer satisfaction.\n",
    "\n",
    "\n",
    "\n",
    "\n",
    "### **Recommendations**:\n",
    "\n",
    "* The company should focus on improving its customer support and services to reduce churn rates and increase customer satisfaction.\n",
    "\n",
    "* The company should use the demographic and usage patterns of its customers to create targeted marketing campaigns that are more likely to resonate with specific customer segments.\n",
    "\n",
    "* The company should consider offering incentives to customers who refer friends to use their services, as this can increase customer loyalty and bring in new customers.\n",
    "\n",
    "* The company should explore ways to increase revenue from customers who generate less revenue, such as by offering targeted promotions or service upgrades.\n",
    "\n",
    "* The company should continue to monitor its customer satisfaction score and take action to improve it."
   ]
  },
  {
   "cell_type": "markdown",
   "metadata": {
    "id": "_vIzdTIcZ0Ln"
   },
   "source": [
    "## **Interview Questions**\n",
    "\n",
    "* What is EDA, and why is it important in data analysis?\n",
    "\n",
    "* What is the Central Limit Theorem, and why is it important in statistical inference?\n",
    "\n",
    "* Can you explain the difference between correlation and causation?\n",
    "\n",
    "* What are the different types of data, and how do they affect the analysis approach?\n",
    "\n",
    "* How do you handle missing data in a dataset?\n",
    "\n",
    "* What is skewness, and how does it affect data analysis?\n",
    "\n",
    "* How do you identify and handle outliers in a dataset?\n",
    "\n",
    "* What is the difference between hypothesis testing and confidence intervals?\n",
    "\n",
    "* Can you explain the concepts of Type I and Type II errors in hypothesis testing?\n",
    "\n",
    "* Can you explain the concept of p-values in hypothesis testing?\n",
    "\n",
    "* How do you select the appropriate visualization technique for different types of data and analysis goals?\n",
    "\n",
    "* What is Chatterjee Correlation?"
   ]
  },
  {
   "cell_type": "markdown",
   "metadata": {
    "id": "O5n9Er-NZoQu"
   },
   "source": [
    "## **Feedback**\n",
    " \n",
    "\n",
    "\n"
   ]
  },
  {
   "cell_type": "code",
   "execution_count": 4,
   "metadata": {
    "id": "QkKywcsCddbw",
    "outputId": "c75d5d39-a873-497c-967e-4448b8407de1"
   },
   "outputs": [
    {
     "data": {
      "text/html": [
       "\n",
       "    <iframe \n",
       "\t    src=\"https://docs.google.com/forms/d/e/1FAIpQLScs70rjp77cH8TmVpH7jFhas7dmlCWSKEnNJnooa8meVUSnZA/viewform?usp=sf_link\" \n",
       "\t    width=\"100%\" \n",
       "\t    height=\"1200px\" \n",
       "\t    frameborder=\"0\" \n",
       "\t    marginheight=\"0\" \n",
       "\t    marginwidth=\"0\">\n",
       "\t    Loading...\n",
       "    </iframe>\n",
       "    "
      ],
      "text/plain": [
       "<IPython.core.display.HTML object>"
      ]
     },
     "execution_count": 4,
     "metadata": {},
     "output_type": "execute_result"
    }
   ],
   "source": [
    "feedback()"
   ]
  },
  {
   "cell_type": "code",
   "execution_count": null,
   "metadata": {
    "id": "q03tOpi9ddbw"
   },
   "outputs": [],
   "source": []
  }
 ],
 "metadata": {
  "accelerator": "GPU",
  "colab": {
   "provenance": []
  },
  "gpuClass": "standard",
  "kernelspec": {
   "display_name": "Python 3",
   "language": "python",
   "name": "python3"
  },
  "language_info": {
   "codemirror_mode": {
    "name": "ipython",
    "version": 3
   },
   "file_extension": ".py",
   "mimetype": "text/x-python",
   "name": "python",
   "nbconvert_exporter": "python",
   "pygments_lexer": "ipython3",
   "version": "3.8.8"
  },
  "vscode": {
   "interpreter": {
    "hash": "9a1ccacfc9e6019d00046481f81d7af0db54a5151886d0951ec9444ea521230b"
   }
  }
 },
 "nbformat": 4,
 "nbformat_minor": 1
}
